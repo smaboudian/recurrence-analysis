{
 "cells": [
  {
   "cell_type": "code",
   "execution_count": 1,
   "metadata": {},
   "outputs": [],
   "source": [
    "# import modules\n",
    "\n",
    "import csv\n",
    "import numpy as np\n",
    "import random\n",
    "\n",
    "import pandas as pd\n",
    "from ast import literal_eval\n",
    "\n",
    "import sklearn\n",
    "from sklearn.linear_model import LogisticRegression\n",
    "import scipy\n",
    "from scipy.stats.distributions import chi2\n",
    "\n",
    "import statsmodels.api as sm\n",
    "import patsy \n",
    "\n",
    "import researchpy as rp\n",
    "\n",
    "import matplotlib.pyplot as plt\n",
    "\n"
   ]
  },
  {
   "cell_type": "markdown",
   "metadata": {},
   "source": [
    "# Import Data "
   ]
  },
  {
   "cell_type": "code",
   "execution_count": 2,
   "metadata": {},
   "outputs": [
    {
     "data": {
      "text/html": [
       "<div>\n",
       "<style scoped>\n",
       "    .dataframe tbody tr th:only-of-type {\n",
       "        vertical-align: middle;\n",
       "    }\n",
       "\n",
       "    .dataframe tbody tr th {\n",
       "        vertical-align: top;\n",
       "    }\n",
       "\n",
       "    .dataframe thead th {\n",
       "        text-align: right;\n",
       "    }\n",
       "</style>\n",
       "<table border=\"1\" class=\"dataframe\">\n",
       "  <thead>\n",
       "    <tr style=\"text-align: right;\">\n",
       "      <th></th>\n",
       "      <th>id</th>\n",
       "      <th>listnum</th>\n",
       "      <th>group</th>\n",
       "      <th>SEX</th>\n",
       "      <th>EDUC</th>\n",
       "      <th>DRS</th>\n",
       "      <th>MMSE</th>\n",
       "      <th>category</th>\n",
       "      <th>rank</th>\n",
       "      <th>item</th>\n",
       "    </tr>\n",
       "  </thead>\n",
       "  <tbody>\n",
       "    <tr>\n",
       "      <th>0</th>\n",
       "      <td>5</td>\n",
       "      <td>4</td>\n",
       "      <td>NC</td>\n",
       "      <td>2</td>\n",
       "      <td>16</td>\n",
       "      <td>144</td>\n",
       "      <td>30</td>\n",
       "      <td>animals</td>\n",
       "      <td>1.0</td>\n",
       "      <td>[armadillo, horse, cow, goat, pig, rabbit, mou...</td>\n",
       "    </tr>\n",
       "    <tr>\n",
       "      <th>1</th>\n",
       "      <td>6</td>\n",
       "      <td>4</td>\n",
       "      <td>NC</td>\n",
       "      <td>1</td>\n",
       "      <td>19</td>\n",
       "      <td>144</td>\n",
       "      <td>30</td>\n",
       "      <td>animals</td>\n",
       "      <td>1.0</td>\n",
       "      <td>[mouse, rat, raccoon, dog, cat, elephant, cow,...</td>\n",
       "    </tr>\n",
       "    <tr>\n",
       "      <th>2</th>\n",
       "      <td>93</td>\n",
       "      <td>1</td>\n",
       "      <td>NC</td>\n",
       "      <td>2</td>\n",
       "      <td>14</td>\n",
       "      <td>143</td>\n",
       "      <td>30</td>\n",
       "      <td>animals</td>\n",
       "      <td>1.0</td>\n",
       "      <td>[dog, cat, ape, elephant, monkey, chimpanzee, ...</td>\n",
       "    </tr>\n",
       "    <tr>\n",
       "      <th>3</th>\n",
       "      <td>93</td>\n",
       "      <td>2</td>\n",
       "      <td>NC</td>\n",
       "      <td>2</td>\n",
       "      <td>14</td>\n",
       "      <td>138</td>\n",
       "      <td>26</td>\n",
       "      <td>animals</td>\n",
       "      <td>1.0</td>\n",
       "      <td>[owl, rhinoceros, buffalo, horse, dog, cat, el...</td>\n",
       "    </tr>\n",
       "    <tr>\n",
       "      <th>4</th>\n",
       "      <td>93</td>\n",
       "      <td>3</td>\n",
       "      <td>NC</td>\n",
       "      <td>2</td>\n",
       "      <td>14</td>\n",
       "      <td>143</td>\n",
       "      <td>30</td>\n",
       "      <td>animals</td>\n",
       "      <td>1.0</td>\n",
       "      <td>[dog, rat, camel, horse, cat, ferret, hamster,...</td>\n",
       "    </tr>\n",
       "  </tbody>\n",
       "</table>\n",
       "</div>"
      ],
      "text/plain": [
       "   id  listnum group  SEX  EDUC  DRS  MMSE category  rank  \\\n",
       "0   5        4    NC    2    16  144    30  animals   1.0   \n",
       "1   6        4    NC    1    19  144    30  animals   1.0   \n",
       "2  93        1    NC    2    14  143    30  animals   1.0   \n",
       "3  93        2    NC    2    14  138    26  animals   1.0   \n",
       "4  93        3    NC    2    14  143    30  animals   1.0   \n",
       "\n",
       "                                                item  \n",
       "0  [armadillo, horse, cow, goat, pig, rabbit, mou...  \n",
       "1  [mouse, rat, raccoon, dog, cat, elephant, cow,...  \n",
       "2  [dog, cat, ape, elephant, monkey, chimpanzee, ...  \n",
       "3  [owl, rhinoceros, buffalo, horse, dog, cat, el...  \n",
       "4  [dog, rat, camel, horse, cat, ferret, hamster,...  "
      ]
     },
     "execution_count": 2,
     "metadata": {},
     "output_type": "execute_result"
    }
   ],
   "source": [
    "# import cleaned fluency data (typos removed)\n",
    "# original data (before cleaning) downloaded from https://osf.io/j6qea/ (Zemla & Austerweil, 2019)\n",
    "all_ucsd_lists_table = pd.read_csv(\"ucsd_fluency_cleaned.csv\", \n",
    "    converters={'item': eval})\n",
    "all_ucsd_lists_table.head()\n"
   ]
  },
  {
   "cell_type": "code",
   "execution_count": 3,
   "metadata": {
    "scrolled": true
   },
   "outputs": [
    {
     "name": "stdout",
     "output_type": "stream",
     "text": [
      "check if you have the most updated table and animals list:  True\n"
     ]
    }
   ],
   "source": [
    "# check how many items are not in animal category\n",
    "# animals list adapted manually from https://gist.github.com/atduskgreg/3cf8ef48cb0d29cf151bedad81553a54#file-animals-txt\n",
    "\n",
    "with open('animals_list.txt', 'r') as f:\n",
    "    animal_list = [line.strip() for line in f] \n",
    "animal_list_lowercase = [str.lower(a) for a in animal_list]\n",
    "\n",
    "not_in_animal_list = []\n",
    "for i in range(len(all_ucsd_lists_table)):\n",
    "    list_i=all_ucsd_lists_table.iloc[i][-1] \n",
    "    for animal_j in list_i:\n",
    "        if animal_j not in animal_list_lowercase:\n",
    "            not_in_animal_list += [animal_j]\n",
    "print('check if you have the most updated table and animals list: ', len(not_in_animal_list)==190)\n"
   ]
  },
  {
   "cell_type": "code",
   "execution_count": 4,
   "metadata": {
    "scrolled": true
   },
   "outputs": [],
   "source": [
    "# tables split by diagnosis\n",
    "NC_table = all_ucsd_lists_table.loc[\n",
    "    all_ucsd_lists_table['group'] == 'NC']\n",
    "ProbAD_table = all_ucsd_lists_table.loc[\n",
    "    all_ucsd_lists_table['group'] == 'ProbAD']\n",
    "\n",
    "# IDs split by diagnosis\n",
    "NC_ids = list(set(list(NC_table['id'])))\n",
    "ProbAD_ids = list(set(list(ProbAD_table['id'])))\n",
    "\n",
    "#Combined IDs:\n",
    "NC_and_ProbAD_ids = [i for i in NC_ids if i in ProbAD_ids]\n"
   ]
  },
  {
   "cell_type": "markdown",
   "metadata": {
    "heading_collapsed": true
   },
   "source": [
    "# Relevant functions for metrics and analyses "
   ]
  },
  {
   "cell_type": "code",
   "execution_count": 5,
   "metadata": {
    "hidden": true
   },
   "outputs": [],
   "source": [
    "def dist_from_diag_score(seqx, seqy):\n",
    "    \"\"\"\n",
    "    calculates \"distance from diagonal\" score for two sequences\n",
    "    ---\n",
    "    Parameters:\n",
    "    seqx: the first sequence (x-axis of the dot plot)\n",
    "    seqx: the second sequence (y-axis of the dot plot)\n",
    "    ---\n",
    "    Returns:\n",
    "    distance from diagonal score\n",
    "    \"\"\"\n",
    "    seqx_noblank = [e for e in seqx if str(e)!='nan']\n",
    "    seqy_noblank = [f for f in seqy if str(f)!='nan']\n",
    "    dotplot = np.array(makeMatrix(seqy_noblank,seqx_noblank,1))\n",
    "    score = 0\n",
    "    for j in range(len(dotplot)):\n",
    "        for k in range(len(dotplot[j])):\n",
    "            score += dotplot[j][k]*np.abs((j+1)-(k+1))\n",
    "    return score"
   ]
  },
  {
   "cell_type": "code",
   "execution_count": 6,
   "metadata": {
    "hidden": true
   },
   "outputs": [],
   "source": [
    "def num_intrusions(list_i, category_list_of_items):\n",
    "    \"\"\"\n",
    "    returns number of items in a list that are intrusions \n",
    "    (i.e. not in the correct category, which is also given as a list of items)\n",
    "    ---\n",
    "    Parameters:\n",
    "    list_i: the list to check for intrusions\n",
    "    dictionary_of_items: a list of items not considered in intrusions (considered correct for the category)\n",
    "    \"\"\" \n",
    "    intruded_items = []\n",
    "    for item in list_i:\n",
    "        if item not in category_list_of_items:  #use animal_list_lowercase as dict\n",
    "            intruded_items += [item]\n",
    "    return len(intruded_items)\n",
    "    \n",
    "def num_reps(list_i):\n",
    "    \"\"\"\n",
    "    returns number of repeated items in a list \n",
    "    ---\n",
    "    Parameters:\n",
    "    list_i: the list to check for repeats\n",
    "    \"\"\" \n",
    "    return len(list_i)-len(set(list_i))\n",
    "\n",
    "        \n",
    "def remove_reps(seq): \n",
    "    # order preserving\n",
    "    \"\"\"\n",
    "    removes repeated items from a list, while preserving order \n",
    "    ---\n",
    "    Parameters:\n",
    "    seq: the list to remove repeats from\n",
    "    ---\n",
    "    Returns:\n",
    "    a list with any repeated instances of any values removed, preserving initial order (and 1st incidence of each item)\n",
    "    \"\"\" \n",
    "    checked = []\n",
    "    for e in seq:\n",
    "        if e not in checked:\n",
    "            checked.append(e)\n",
    "    return checked\n"
   ]
  },
  {
   "cell_type": "code",
   "execution_count": 7,
   "metadata": {
    "hidden": true
   },
   "outputs": [],
   "source": [
    "# basic dot plot fxns \n",
    "\n",
    "def delta(x,y):\n",
    "    return 1 if x == y and x!= 'nan' and y!='nan' else 0\n",
    "\n",
    "def M(seq1,seq2,i,j,k):\n",
    "    return sum(delta(x,y) for x,y in zip(seq1[i:i+k],seq2[j:j+k]))\n",
    "\n",
    "def makeMatrix(seq1,seq2,k):\n",
    "    n = len(seq1)\n",
    "    m = len(seq2)\n",
    "    return [[M(seq1,seq2,i,j,k) for j in range(m-k+1)] for i in range(n-k+1)]"
   ]
  },
  {
   "cell_type": "markdown",
   "metadata": {
    "heading_collapsed": true
   },
   "source": [
    "# Preparing df for analysis"
   ]
  },
  {
   "cell_type": "code",
   "execution_count": 8,
   "metadata": {
    "hidden": true
   },
   "outputs": [
    {
     "name": "stdout",
     "output_type": "stream",
     "text": [
      "1067\n"
     ]
    },
    {
     "data": {
      "text/html": [
       "<div>\n",
       "<style scoped>\n",
       "    .dataframe tbody tr th:only-of-type {\n",
       "        vertical-align: middle;\n",
       "    }\n",
       "\n",
       "    .dataframe tbody tr th {\n",
       "        vertical-align: top;\n",
       "    }\n",
       "\n",
       "    .dataframe thead th {\n",
       "        text-align: right;\n",
       "    }\n",
       "</style>\n",
       "<table border=\"1\" class=\"dataframe\">\n",
       "  <thead>\n",
       "    <tr style=\"text-align: right;\">\n",
       "      <th></th>\n",
       "      <th>id</th>\n",
       "      <th>listnum</th>\n",
       "      <th>group</th>\n",
       "      <th>binary_diag</th>\n",
       "      <th>SEX</th>\n",
       "      <th>EDUC</th>\n",
       "      <th>DRS</th>\n",
       "      <th>MMSE</th>\n",
       "      <th>category</th>\n",
       "      <th>rank</th>\n",
       "      <th>item</th>\n",
       "      <th>listlen</th>\n",
       "    </tr>\n",
       "  </thead>\n",
       "  <tbody>\n",
       "    <tr>\n",
       "      <th>0</th>\n",
       "      <td>5</td>\n",
       "      <td>4</td>\n",
       "      <td>NC</td>\n",
       "      <td>0</td>\n",
       "      <td>2</td>\n",
       "      <td>16</td>\n",
       "      <td>144</td>\n",
       "      <td>30</td>\n",
       "      <td>animals</td>\n",
       "      <td>1.0</td>\n",
       "      <td>[armadillo, horse, cow, goat, pig, rabbit, mou...</td>\n",
       "      <td>19</td>\n",
       "    </tr>\n",
       "    <tr>\n",
       "      <th>1</th>\n",
       "      <td>6</td>\n",
       "      <td>4</td>\n",
       "      <td>NC</td>\n",
       "      <td>0</td>\n",
       "      <td>1</td>\n",
       "      <td>19</td>\n",
       "      <td>144</td>\n",
       "      <td>30</td>\n",
       "      <td>animals</td>\n",
       "      <td>1.0</td>\n",
       "      <td>[mouse, rat, raccoon, dog, cat, elephant, cow,...</td>\n",
       "      <td>22</td>\n",
       "    </tr>\n",
       "    <tr>\n",
       "      <th>2</th>\n",
       "      <td>93</td>\n",
       "      <td>1</td>\n",
       "      <td>NC</td>\n",
       "      <td>0</td>\n",
       "      <td>2</td>\n",
       "      <td>14</td>\n",
       "      <td>143</td>\n",
       "      <td>30</td>\n",
       "      <td>animals</td>\n",
       "      <td>1.0</td>\n",
       "      <td>[dog, cat, ape, elephant, monkey, chimpanzee, ...</td>\n",
       "      <td>20</td>\n",
       "    </tr>\n",
       "    <tr>\n",
       "      <th>3</th>\n",
       "      <td>93</td>\n",
       "      <td>2</td>\n",
       "      <td>NC</td>\n",
       "      <td>0</td>\n",
       "      <td>2</td>\n",
       "      <td>14</td>\n",
       "      <td>138</td>\n",
       "      <td>26</td>\n",
       "      <td>animals</td>\n",
       "      <td>1.0</td>\n",
       "      <td>[owl, rhinoceros, buffalo, horse, dog, cat, el...</td>\n",
       "      <td>19</td>\n",
       "    </tr>\n",
       "    <tr>\n",
       "      <th>4</th>\n",
       "      <td>93</td>\n",
       "      <td>3</td>\n",
       "      <td>NC</td>\n",
       "      <td>0</td>\n",
       "      <td>2</td>\n",
       "      <td>14</td>\n",
       "      <td>143</td>\n",
       "      <td>30</td>\n",
       "      <td>animals</td>\n",
       "      <td>1.0</td>\n",
       "      <td>[dog, rat, camel, horse, cat, ferret, hamster,...</td>\n",
       "      <td>19</td>\n",
       "    </tr>\n",
       "  </tbody>\n",
       "</table>\n",
       "</div>"
      ],
      "text/plain": [
       "   id  listnum group  binary_diag  SEX  EDUC  DRS  MMSE category  rank  \\\n",
       "0   5        4    NC            0    2    16  144    30  animals   1.0   \n",
       "1   6        4    NC            0    1    19  144    30  animals   1.0   \n",
       "2  93        1    NC            0    2    14  143    30  animals   1.0   \n",
       "3  93        2    NC            0    2    14  138    26  animals   1.0   \n",
       "4  93        3    NC            0    2    14  143    30  animals   1.0   \n",
       "\n",
       "                                                item  listlen  \n",
       "0  [armadillo, horse, cow, goat, pig, rabbit, mou...       19  \n",
       "1  [mouse, rat, raccoon, dog, cat, elephant, cow,...       22  \n",
       "2  [dog, cat, ape, elephant, monkey, chimpanzee, ...       20  \n",
       "3  [owl, rhinoceros, buffalo, horse, dog, cat, el...       19  \n",
       "4  [dog, rat, camel, horse, cat, ferret, hamster,...       19  "
      ]
     },
     "execution_count": 8,
     "metadata": {},
     "output_type": "execute_result"
    }
   ],
   "source": [
    "# make table with just healthy controls (NC) & ProbAD participants, removing other diagnoses\n",
    "\n",
    "NC_ProbAD_table = all_ucsd_lists_table[all_ucsd_lists_table['group'].isin(['NC', 'ProbAD'])]\n",
    "\n",
    "NC_or_ProbAD_diag = []\n",
    "for i in range(len(NC_ProbAD_table)):\n",
    "    row_i = NC_ProbAD_table.iloc[i]\n",
    "    diag_i = NC_ProbAD_table.iloc[i]['group']\n",
    "    if diag_i == 'NC':\n",
    "        NC_or_ProbAD_diag += [0]\n",
    "    elif diag_i == 'ProbAD':\n",
    "        NC_or_ProbAD_diag += [1]\n",
    "    else:\n",
    "        print('error: diagnosis is not NC or ProbAD')\n",
    "\n",
    "NC_or_ProbAD_listlen = [len(NC_ProbAD_table.iloc[i]['item']) for i in range(len(NC_ProbAD_table))]\n",
    "NC_ProbAD_table.insert(3, \"binary_diag\",NC_or_ProbAD_diag) \n",
    "NC_ProbAD_table.insert(len(NC_ProbAD_table.columns), \"listlen\",NC_or_ProbAD_listlen) \n",
    "print(len(NC_ProbAD_table))\n",
    "\n",
    "NC_ProbAD_table.head()\n"
   ]
  },
  {
   "cell_type": "code",
   "execution_count": 9,
   "metadata": {
    "hidden": true
   },
   "outputs": [
    {
     "data": {
      "text/html": [
       "<div>\n",
       "<style scoped>\n",
       "    .dataframe tbody tr th:only-of-type {\n",
       "        vertical-align: middle;\n",
       "    }\n",
       "\n",
       "    .dataframe tbody tr th {\n",
       "        vertical-align: top;\n",
       "    }\n",
       "\n",
       "    .dataframe thead th {\n",
       "        text-align: right;\n",
       "    }\n",
       "</style>\n",
       "<table border=\"1\" class=\"dataframe\">\n",
       "  <thead>\n",
       "    <tr style=\"text-align: right;\">\n",
       "      <th></th>\n",
       "      <th>id</th>\n",
       "      <th>SEX</th>\n",
       "      <th>EDUC</th>\n",
       "      <th>DRS_avg</th>\n",
       "      <th>MMSE_avg</th>\n",
       "      <th>dd_score</th>\n",
       "      <th>sqrt_dd_score</th>\n",
       "      <th>dd_score^2</th>\n",
       "      <th>avg_listlen</th>\n",
       "      <th>len1_minus_len2</th>\n",
       "      <th>avg_prop_intrusions</th>\n",
       "      <th>num_intrusions</th>\n",
       "      <th>avg_prop_reps</th>\n",
       "      <th>len1_noreps</th>\n",
       "      <th>len2_noreps</th>\n",
       "      <th>avg_listlen_reps_removed</th>\n",
       "      <th>dd_score_reps_removed</th>\n",
       "      <th>sqrt_dd_score_reps_removed</th>\n",
       "      <th>binary_diag</th>\n",
       "      <th>rand_diag</th>\n",
       "    </tr>\n",
       "  </thead>\n",
       "  <tbody>\n",
       "    <tr>\n",
       "      <th>0</th>\n",
       "      <td>93</td>\n",
       "      <td>2</td>\n",
       "      <td>14</td>\n",
       "      <td>140.5</td>\n",
       "      <td>28.0</td>\n",
       "      <td>49</td>\n",
       "      <td>7.000000</td>\n",
       "      <td>2401</td>\n",
       "      <td>19.5</td>\n",
       "      <td>1</td>\n",
       "      <td>0.0</td>\n",
       "      <td>0</td>\n",
       "      <td>0.000000</td>\n",
       "      <td>20</td>\n",
       "      <td>19</td>\n",
       "      <td>19.5</td>\n",
       "      <td>49</td>\n",
       "      <td>7.000000</td>\n",
       "      <td>0</td>\n",
       "      <td>1</td>\n",
       "    </tr>\n",
       "    <tr>\n",
       "      <th>1</th>\n",
       "      <td>603</td>\n",
       "      <td>2</td>\n",
       "      <td>12</td>\n",
       "      <td>143.0</td>\n",
       "      <td>29.5</td>\n",
       "      <td>78</td>\n",
       "      <td>8.831761</td>\n",
       "      <td>6084</td>\n",
       "      <td>22.0</td>\n",
       "      <td>-8</td>\n",
       "      <td>0.0</td>\n",
       "      <td>0</td>\n",
       "      <td>0.000000</td>\n",
       "      <td>18</td>\n",
       "      <td>26</td>\n",
       "      <td>22.0</td>\n",
       "      <td>78</td>\n",
       "      <td>8.831761</td>\n",
       "      <td>0</td>\n",
       "      <td>0</td>\n",
       "    </tr>\n",
       "    <tr>\n",
       "      <th>2</th>\n",
       "      <td>610</td>\n",
       "      <td>1</td>\n",
       "      <td>12</td>\n",
       "      <td>136.0</td>\n",
       "      <td>28.5</td>\n",
       "      <td>33</td>\n",
       "      <td>5.744563</td>\n",
       "      <td>1089</td>\n",
       "      <td>16.5</td>\n",
       "      <td>3</td>\n",
       "      <td>0.0</td>\n",
       "      <td>0</td>\n",
       "      <td>0.066667</td>\n",
       "      <td>18</td>\n",
       "      <td>13</td>\n",
       "      <td>15.5</td>\n",
       "      <td>33</td>\n",
       "      <td>5.744563</td>\n",
       "      <td>0</td>\n",
       "      <td>0</td>\n",
       "    </tr>\n",
       "    <tr>\n",
       "      <th>3</th>\n",
       "      <td>617</td>\n",
       "      <td>1</td>\n",
       "      <td>16</td>\n",
       "      <td>136.5</td>\n",
       "      <td>29.0</td>\n",
       "      <td>53</td>\n",
       "      <td>7.280110</td>\n",
       "      <td>2809</td>\n",
       "      <td>20.0</td>\n",
       "      <td>-6</td>\n",
       "      <td>0.0</td>\n",
       "      <td>0</td>\n",
       "      <td>0.051151</td>\n",
       "      <td>16</td>\n",
       "      <td>22</td>\n",
       "      <td>19.0</td>\n",
       "      <td>46</td>\n",
       "      <td>6.782330</td>\n",
       "      <td>0</td>\n",
       "      <td>1</td>\n",
       "    </tr>\n",
       "    <tr>\n",
       "      <th>4</th>\n",
       "      <td>618</td>\n",
       "      <td>2</td>\n",
       "      <td>17</td>\n",
       "      <td>140.5</td>\n",
       "      <td>30.0</td>\n",
       "      <td>71</td>\n",
       "      <td>8.426150</td>\n",
       "      <td>5041</td>\n",
       "      <td>21.0</td>\n",
       "      <td>-4</td>\n",
       "      <td>0.0</td>\n",
       "      <td>0</td>\n",
       "      <td>0.026316</td>\n",
       "      <td>18</td>\n",
       "      <td>23</td>\n",
       "      <td>20.5</td>\n",
       "      <td>71</td>\n",
       "      <td>8.426150</td>\n",
       "      <td>0</td>\n",
       "      <td>0</td>\n",
       "    </tr>\n",
       "  </tbody>\n",
       "</table>\n",
       "</div>"
      ],
      "text/plain": [
       "    id  SEX  EDUC  DRS_avg  MMSE_avg  dd_score  sqrt_dd_score  dd_score^2  \\\n",
       "0   93    2    14    140.5      28.0        49       7.000000        2401   \n",
       "1  603    2    12    143.0      29.5        78       8.831761        6084   \n",
       "2  610    1    12    136.0      28.5        33       5.744563        1089   \n",
       "3  617    1    16    136.5      29.0        53       7.280110        2809   \n",
       "4  618    2    17    140.5      30.0        71       8.426150        5041   \n",
       "\n",
       "   avg_listlen  len1_minus_len2  avg_prop_intrusions  num_intrusions  \\\n",
       "0         19.5                1                  0.0               0   \n",
       "1         22.0               -8                  0.0               0   \n",
       "2         16.5                3                  0.0               0   \n",
       "3         20.0               -6                  0.0               0   \n",
       "4         21.0               -4                  0.0               0   \n",
       "\n",
       "   avg_prop_reps  len1_noreps  len2_noreps  avg_listlen_reps_removed  \\\n",
       "0       0.000000           20           19                      19.5   \n",
       "1       0.000000           18           26                      22.0   \n",
       "2       0.066667           18           13                      15.5   \n",
       "3       0.051151           16           22                      19.0   \n",
       "4       0.026316           18           23                      20.5   \n",
       "\n",
       "   dd_score_reps_removed  sqrt_dd_score_reps_removed  binary_diag  rand_diag  \n",
       "0                     49                    7.000000            0          1  \n",
       "1                     78                    8.831761            0          0  \n",
       "2                     33                    5.744563            0          0  \n",
       "3                     46                    6.782330            0          1  \n",
       "4                     71                    8.426150            0          0  "
      ]
     },
     "execution_count": 9,
     "metadata": {},
     "output_type": "execute_result"
    }
   ],
   "source": [
    "# take only the first two lists provided for everyone\n",
    "# --> one entry for everyone, except if in both diagnotic groups, then get one entry per diagnosis\n",
    "\n",
    "NC_ProbAD_table_pairedlists_rows5 = []\n",
    "\n",
    "NC_ProbAD_table5 = NC_ProbAD_table.copy()\n",
    "firstpair_done=False\n",
    "\n",
    "for i in range(len(NC_ProbAD_table5)):\n",
    "    if i<len(NC_ProbAD_table5)-1:\n",
    "        row_i = NC_ProbAD_table5.iloc[i]\n",
    "        next_row = NC_ProbAD_table5.iloc[i+1]\n",
    "        \n",
    "        id_i = row_i['id']\n",
    "        id_next = next_row['id']\n",
    "        \n",
    "        bdiag_i = row_i['binary_diag']\n",
    "        bdiag_next = next_row['binary_diag']\n",
    "        \n",
    "        if id_i==id_next  and  bdiag_i==bdiag_next  and  firstpair_done==False:\n",
    "\n",
    "            list_i = row_i['item']\n",
    "            list_next = next_row['item']\n",
    "            \n",
    "            len_i = len(list_i)\n",
    "            len_next = len(list_next)\n",
    "            avg_len = np.mean([len_i, len_next])\n",
    "            len_diff = len_i-len_next\n",
    "            \n",
    "            num_intrusions_i = num_intrusions(list_i, animal_list_lowercase)\n",
    "            num_intrusions_next = num_intrusions(list_next, animal_list_lowercase)\n",
    "            prop_intrusions_i = num_intrusions_i/len(list_i)\n",
    "            prop_intrusions_next = num_intrusions_next/len(list_next)\n",
    "            \n",
    "            num_reps_i = num_reps(list_i)\n",
    "            num_reps_next = num_reps(list_next)\n",
    "            prop_reps_i = num_reps_i/len(list_i)\n",
    "            prop_reps_next = num_reps_next/len(list_next)\n",
    "            \n",
    "            reps_removed_i = remove_reps(list_i)\n",
    "            reps_removed_next = remove_reps(list_next)\n",
    "            \n",
    "            avg_len_reps_removed = np.mean([len(reps_removed_i), len(reps_removed_next)])            \n",
    "            \n",
    "            dd_score = dist_from_diag_score(list_i, list_next)\n",
    "            dd_score_reps_removed = dist_from_diag_score(reps_removed_i, reps_removed_next)\n",
    "            binary_diag = bdiag_i\n",
    "            rand = random.randint(0,1)\n",
    "            pairedlist_table_row = [id_i, row_i['SEX'], row_i['EDUC'], \n",
    "                                    np.mean([row_i['DRS'], next_row['DRS']]),np.mean([row_i['MMSE'], next_row['MMSE']]),\n",
    "                                    dd_score, np.sqrt(dd_score), dd_score**2, \n",
    "                                        avg_len, len_diff, \n",
    "                                        np.mean([prop_intrusions_i,prop_intrusions_next]), \n",
    "                                        num_intrusions_i+num_intrusions_next,\n",
    "                                        np.mean([prop_reps_i, prop_reps_next]),\n",
    "                                    len(reps_removed_i), len(reps_removed_next),\n",
    "                                        avg_len_reps_removed,\n",
    "                                        dd_score_reps_removed, np.sqrt(dd_score_reps_removed),\n",
    "                                        binary_diag, rand]\n",
    "            NC_ProbAD_table_pairedlists_rows5.append(pairedlist_table_row)\n",
    "            firstpair_done=True \n",
    "        \n",
    "        elif id_i!=id_next  or  bdiag_i!=bdiag_next:\n",
    "            firstpair_done=False\n",
    "\n",
    "\n",
    "                \n",
    "NC_ProbAD_table_pairedlists5 = pd.DataFrame(NC_ProbAD_table_pairedlists_rows5, \n",
    "                                           columns = ['id', 'SEX', 'EDUC',\n",
    "                                                      'DRS_avg', 'MMSE_avg',\n",
    "                                                      'dd_score', 'sqrt_dd_score', 'dd_score^2', \n",
    "                                                      'avg_listlen','len1_minus_len2', \n",
    "                                                      'avg_prop_intrusions', 'num_intrusions',\n",
    "                                                      'avg_prop_reps',\n",
    "                                                      'len1_noreps', 'len2_noreps',\n",
    "                                                      'avg_listlen_reps_removed',\n",
    "                                                      'dd_score_reps_removed', 'sqrt_dd_score_reps_removed',\n",
    "                                                      'binary_diag', 'rand_diag'])\n",
    "NC_ProbAD_table_pairedlists5.head()\n"
   ]
  },
  {
   "cell_type": "code",
   "execution_count": 10,
   "metadata": {
    "hidden": true
   },
   "outputs": [],
   "source": [
    "# any subject with both diagnoses (healthy control/NC and ProbAD) is removed fully\n",
    "NC_ProbAD_table_pairedlists5_bothdiagsremoved = NC_ProbAD_table_pairedlists5.copy()\n",
    "\n",
    "for i in range(len(NC_ProbAD_table_pairedlists5)):\n",
    "    row_i=NC_ProbAD_table_pairedlists5.iloc[i]\n",
    "    id_i = row_i['id']\n",
    "    diag_i = row_i['binary_diag']\n",
    "    id_table = NC_ProbAD_table_pairedlists5.loc[NC_ProbAD_table_pairedlists5['id'] == id_i]\n",
    "    if diag_i == 0:\n",
    "        id_otherdiag = id_table.loc[id_table['binary_diag']==1]\n",
    "    elif diag_i == 1: \n",
    "        id_otherdiag = id_table.loc[id_table['binary_diag']==0]\n",
    "    if id_otherdiag.empty == False:\n",
    "        NC_ProbAD_table_pairedlists5_bothdiagsremoved.drop(\n",
    "            NC_ProbAD_table_pairedlists5_bothdiagsremoved.index[\n",
    "                NC_ProbAD_table_pairedlists5_bothdiagsremoved['id'] == id_i], inplace = True)"
   ]
  },
  {
   "cell_type": "code",
   "execution_count": 11,
   "metadata": {
    "hidden": true
   },
   "outputs": [
    {
     "name": "stdout",
     "output_type": "stream",
     "text": [
      "117 total subjects, either healthy control or ProbAD\n",
      "77 healthy control\n",
      "40 ProbAD\n"
     ]
    }
   ],
   "source": [
    "# 117 subjects remain \n",
    "print(len(NC_ProbAD_table_pairedlists5_bothdiagsremoved), 'total subjects, either healthy control or ProbAD')\n",
    "print(len(NC_ProbAD_table_pairedlists5_bothdiagsremoved[\n",
    "    NC_ProbAD_table_pairedlists5_bothdiagsremoved['binary_diag']==0]), \n",
    "      'healthy control')\n",
    "print(len(NC_ProbAD_table_pairedlists5_bothdiagsremoved[\n",
    "    NC_ProbAD_table_pairedlists5_bothdiagsremoved['binary_diag']==1]), \n",
    "      'ProbAD')"
   ]
  },
  {
   "cell_type": "markdown",
   "metadata": {
    "heading_collapsed": true
   },
   "source": [
    "# Demographics"
   ]
  },
  {
   "cell_type": "markdown",
   "metadata": {
    "hidden": true
   },
   "source": [
    "### number of unique IDs (participants) total: all diagnostic groups"
   ]
  },
  {
   "cell_type": "code",
   "execution_count": 12,
   "metadata": {
    "hidden": true
   },
   "outputs": [
    {
     "data": {
      "text/plain": [
       "139"
      ]
     },
     "execution_count": 12,
     "metadata": {},
     "output_type": "execute_result"
    }
   ],
   "source": [
    "# number of participants total\n",
    "len(list(set(list(all_ucsd_lists_table['id']))))"
   ]
  },
  {
   "cell_type": "code",
   "execution_count": 13,
   "metadata": {
    "hidden": true
   },
   "outputs": [
    {
     "name": "stdout",
     "output_type": "stream",
     "text": [
      "19\n"
     ]
    }
   ],
   "source": [
    "# how many subjects have both healthy control & AD diagnosis at some point?\n",
    "print(len(NC_and_ProbAD_ids))"
   ]
  },
  {
   "cell_type": "markdown",
   "metadata": {
    "hidden": true
   },
   "source": [
    "### number of unique IDs (subjects), by diagnostic group"
   ]
  },
  {
   "cell_type": "code",
   "execution_count": 14,
   "metadata": {
    "hidden": true
   },
   "outputs": [
    {
     "data": {
      "text/html": [
       "<div>\n",
       "<style scoped>\n",
       "    .dataframe tbody tr th:only-of-type {\n",
       "        vertical-align: middle;\n",
       "    }\n",
       "\n",
       "    .dataframe tbody tr th {\n",
       "        vertical-align: top;\n",
       "    }\n",
       "\n",
       "    .dataframe thead th {\n",
       "        text-align: right;\n",
       "    }\n",
       "</style>\n",
       "<table border=\"1\" class=\"dataframe\">\n",
       "  <thead>\n",
       "    <tr style=\"text-align: right;\">\n",
       "      <th></th>\n",
       "      <th>count</th>\n",
       "    </tr>\n",
       "    <tr>\n",
       "      <th>group</th>\n",
       "      <th></th>\n",
       "    </tr>\n",
       "  </thead>\n",
       "  <tbody>\n",
       "    <tr>\n",
       "      <th>AMNESTICSYNDROME</th>\n",
       "      <td>1</td>\n",
       "    </tr>\n",
       "    <tr>\n",
       "      <th>ATRISKFORAD</th>\n",
       "      <td>10</td>\n",
       "    </tr>\n",
       "    <tr>\n",
       "      <th>ATRISKFORMID</th>\n",
       "      <td>2</td>\n",
       "    </tr>\n",
       "    <tr>\n",
       "      <th>DLB</th>\n",
       "      <td>1</td>\n",
       "    </tr>\n",
       "    <tr>\n",
       "      <th>FTD</th>\n",
       "      <td>1</td>\n",
       "    </tr>\n",
       "    <tr>\n",
       "      <th>ImpairednoMCI</th>\n",
       "      <td>3</td>\n",
       "    </tr>\n",
       "    <tr>\n",
       "      <th>LEWYBODYVARNT</th>\n",
       "      <td>4</td>\n",
       "    </tr>\n",
       "    <tr>\n",
       "      <th>MCI</th>\n",
       "      <td>8</td>\n",
       "    </tr>\n",
       "    <tr>\n",
       "      <th>MCI-4a</th>\n",
       "      <td>2</td>\n",
       "    </tr>\n",
       "    <tr>\n",
       "      <th>MCI-4b</th>\n",
       "      <td>3</td>\n",
       "    </tr>\n",
       "    <tr>\n",
       "      <th>MCI-4c</th>\n",
       "      <td>1</td>\n",
       "    </tr>\n",
       "    <tr>\n",
       "      <th>MCI-4d</th>\n",
       "      <td>4</td>\n",
       "    </tr>\n",
       "    <tr>\n",
       "      <th>MILDNEUROCOGNITIVEDISORDER</th>\n",
       "      <td>6</td>\n",
       "    </tr>\n",
       "    <tr>\n",
       "      <th>MIXED/VASCULAR+AD</th>\n",
       "      <td>1</td>\n",
       "    </tr>\n",
       "    <tr>\n",
       "      <th>NC</th>\n",
       "      <td>97</td>\n",
       "    </tr>\n",
       "    <tr>\n",
       "      <th>NCPD</th>\n",
       "      <td>2</td>\n",
       "    </tr>\n",
       "    <tr>\n",
       "      <th>OTHERCNSDX</th>\n",
       "      <td>2</td>\n",
       "    </tr>\n",
       "    <tr>\n",
       "      <th>POSSIBLEAD</th>\n",
       "      <td>10</td>\n",
       "    </tr>\n",
       "    <tr>\n",
       "      <th>PSEUDODEMENTIA/DEPRESSION</th>\n",
       "      <td>1</td>\n",
       "    </tr>\n",
       "    <tr>\n",
       "      <th>ProbAD</th>\n",
       "      <td>61</td>\n",
       "    </tr>\n",
       "  </tbody>\n",
       "</table>\n",
       "</div>"
      ],
      "text/plain": [
       "                            count\n",
       "group                            \n",
       "AMNESTICSYNDROME                1\n",
       "ATRISKFORAD                    10\n",
       "ATRISKFORMID                    2\n",
       "DLB                             1\n",
       "FTD                             1\n",
       "ImpairednoMCI                   3\n",
       "LEWYBODYVARNT                   4\n",
       "MCI                             8\n",
       "MCI-4a                          2\n",
       "MCI-4b                          3\n",
       "MCI-4c                          1\n",
       "MCI-4d                          4\n",
       "MILDNEUROCOGNITIVEDISORDER      6\n",
       "MIXED/VASCULAR+AD               1\n",
       "NC                             97\n",
       "NCPD                            2\n",
       "OTHERCNSDX                      2\n",
       "POSSIBLEAD                     10\n",
       "PSEUDODEMENTIA/DEPRESSION       1\n",
       "ProbAD                         61"
      ]
     },
     "execution_count": 14,
     "metadata": {},
     "output_type": "execute_result"
    }
   ],
   "source": [
    "# number of subjects per group\n",
    "pivot_byGroup_IDcount_table = all_ucsd_lists_table.pivot_table(index='group', \n",
    "                                                             aggfunc=lambda x: len(x.dropna().unique()))  \n",
    "# id column gives num of subjects per group\n",
    "diag_table = pivot_byGroup_IDcount_table[['category','id']]\n",
    "\n",
    "del diag_table['category']\n",
    "diag_table.rename(columns={'id': 'count'})"
   ]
  },
  {
   "cell_type": "markdown",
   "metadata": {
    "hidden": true
   },
   "source": [
    "### number of unique IDs, by sex (all diagnostic groups)"
   ]
  },
  {
   "cell_type": "code",
   "execution_count": 15,
   "metadata": {
    "hidden": true
   },
   "outputs": [
    {
     "name": "stdout",
     "output_type": "stream",
     "text": [
      "56 male\n",
      "83 female\n",
      "59.71223021582733 % female\n"
     ]
    }
   ],
   "source": [
    "Sex1_table = all_ucsd_lists_table.loc[all_ucsd_lists_table['SEX'] == 1] #male\n",
    "Sex1_IDs = list(set(list(Sex1_table['id'])))\n",
    "print(len(Sex1_IDs), 'male')\n",
    "\n",
    "Sex2_table = all_ucsd_lists_table.loc[all_ucsd_lists_table['SEX'] == 2] #female\n",
    "Sex2_IDs = list(set(list(Sex2_table['id'])))\n",
    "print(len(Sex2_IDs), 'female')\n",
    "\n",
    "print(len(Sex2_IDs)/(len(Sex1_IDs)+len(Sex2_IDs))*100, '% female')"
   ]
  },
  {
   "cell_type": "markdown",
   "metadata": {
    "hidden": true
   },
   "source": [
    "### number of fluency lists, by diagnostic group"
   ]
  },
  {
   "cell_type": "code",
   "execution_count": 16,
   "metadata": {
    "hidden": true
   },
   "outputs": [
    {
     "data": {
      "text/plain": [
       "1167"
      ]
     },
     "execution_count": 16,
     "metadata": {},
     "output_type": "execute_result"
    }
   ],
   "source": [
    "# total number of fluency lists\n",
    "len(all_ucsd_lists_table)"
   ]
  },
  {
   "cell_type": "code",
   "execution_count": 17,
   "metadata": {
    "hidden": true
   },
   "outputs": [
    {
     "name": "stdout",
     "output_type": "stream",
     "text": [
      "785 Healthy control lists\n",
      "282 ProbAD lists\n",
      "100 other diagnoses lists\n"
     ]
    }
   ],
   "source": [
    "#  number of fluency lists by diagnostic group\n",
    "print(len(NC_table), 'Healthy control lists')\n",
    "print(len(ProbAD_table), 'ProbAD lists')\n",
    "print(1167-len(NC_table )-len(ProbAD_table), 'other diagnoses lists')"
   ]
  },
  {
   "cell_type": "markdown",
   "metadata": {
    "hidden": true
   },
   "source": [
    "### demographics for sample used in analyses only \n",
    "\n",
    "Control and ProbAD diagnostic groups only, and only those with at least 2 fluency lists"
   ]
  },
  {
   "cell_type": "code",
   "execution_count": 18,
   "metadata": {
    "hidden": true
   },
   "outputs": [
    {
     "name": "stdout",
     "output_type": "stream",
     "text": [
      "77 healthy control\n",
      "40 ProbAD\n"
     ]
    }
   ],
   "source": [
    "# get only subjects used in analyses\n",
    "print(len(set(NC_ProbAD_table_pairedlists5_bothdiagsremoved[\n",
    "    NC_ProbAD_table_pairedlists5_bothdiagsremoved['binary_diag']==0]['id'])), \n",
    "      'healthy control')\n",
    "print(len(set(NC_ProbAD_table_pairedlists5_bothdiagsremoved[\n",
    "    NC_ProbAD_table_pairedlists5_bothdiagsremoved['binary_diag']==1]['id'])), \n",
    "      'ProbAD')\n",
    "\n",
    "NC_used = NC_ProbAD_table_pairedlists5_bothdiagsremoved[\n",
    "    NC_ProbAD_table_pairedlists5_bothdiagsremoved['binary_diag']==0]\n",
    "ProbAD_used = NC_ProbAD_table_pairedlists5_bothdiagsremoved[\n",
    "    NC_ProbAD_table_pairedlists5_bothdiagsremoved['binary_diag']==1]\n",
    "\n",
    "NC_ids_used = list(NC_used['id'])\n",
    "ProbAD_ids_used = list(ProbAD_used['id'])\n",
    "total_ids_used = NC_ids_used+ProbAD_ids_used\n",
    "\n",
    "NC_ProbAD_table_used_subs = NC_ProbAD_table[NC_ProbAD_table['id'].isin(total_ids_used)]\n"
   ]
  },
  {
   "cell_type": "code",
   "execution_count": 19,
   "metadata": {
    "hidden": true
   },
   "outputs": [
    {
     "name": "stdout",
     "output_type": "stream",
     "text": [
      "mean number of timepoints: 8.042735042735043\n",
      "min. number of timepoints: 2\n",
      "max. number of timepoints: 26\n"
     ]
    },
    {
     "data": {
      "image/png": "[encoded data removed]",
      "text/plain": [
       "<Figure size 432x288 with 1 Axes>"
      ]
     },
     "metadata": {
      "needs_background": "light"
     },
     "output_type": "display_data"
    }
   ],
   "source": [
    "# number of timepoints per subject\n",
    "num_timepoints_all = []\n",
    "for id_i in total_ids_used:\n",
    "    NC_ProbAD_table_sub_i = NC_ProbAD_table_used_subs[NC_ProbAD_table_used_subs['id']==id_i]\n",
    "    num_timepoints = len(NC_ProbAD_table_sub_i)\n",
    "    num_timepoints_all += [num_timepoints]\n",
    "\n",
    "print('mean number of timepoints:', np.mean(num_timepoints_all))\n",
    "print('min. number of timepoints:', np.min(num_timepoints_all))\n",
    "print('max. number of timepoints:', np.max(num_timepoints_all))\n",
    "\n",
    "plt.hist(num_timepoints_all);\n",
    "plt.xlabel('num. of timepoints');\n",
    "plt.ylabel('count');"
   ]
  },
  {
   "cell_type": "code",
   "execution_count": 20,
   "metadata": {
    "hidden": true
   },
   "outputs": [
    {
     "name": "stdout",
     "output_type": "stream",
     "text": [
      "female count: 69\n",
      "  69/117= 0.5897435897435898\n",
      "male count: 48\n",
      "  48/117= 0.41025641025641024\n"
     ]
    }
   ],
   "source": [
    "# sex \n",
    "print('female count:',len(NC_ProbAD_table_pairedlists5_bothdiagsremoved[NC_ProbAD_table_pairedlists5_bothdiagsremoved['SEX']==2]))\n",
    "print('  69/117=',69/117)\n",
    "print('male count:',len(NC_ProbAD_table_pairedlists5_bothdiagsremoved[NC_ProbAD_table_pairedlists5_bothdiagsremoved['SEX']==1]))\n",
    "print('  48/117=',48/117)\n"
   ]
  },
  {
   "cell_type": "code",
   "execution_count": 21,
   "metadata": {
    "hidden": true
   },
   "outputs": [
    {
     "name": "stdout",
     "output_type": "stream",
     "text": [
      "NC mean:  29.038961038961038\n",
      "ProbAD mean:  23.8125\n",
      "t-test:  Ttest_indResult(statistic=9.252875871005456, pvalue=1.3436328310345609e-12)\n"
     ]
    },
    {
     "data": {
      "text/plain": [
       "(   Variable      N       Mean        SD        SE  95% Conf.   Interval\n",
       " 0        NC   77.0  29.038961  1.870418  0.213154  28.614428  29.463494\n",
       " 1        AD   40.0  23.812500  3.308279  0.523085  22.754461  24.870539\n",
       " 2  combined  117.0  27.252137  3.488666  0.322527  26.613331  27.890943,\n",
       "               Welch's t-test  results\n",
       " 0    Difference (NC - AD) =    5.2265\n",
       " 1      Degrees of freedom =   52.2875\n",
       " 2                       t =    9.2529\n",
       " 3   Two side test p value =    0.0000\n",
       " 4  Difference < 0 p value =    1.0000\n",
       " 5  Difference > 0 p value =    0.0000\n",
       " 6               Cohen's d =    1.8034\n",
       " 7               Hedge's g =    1.7916\n",
       " 8           Glass's delta =    2.7943\n",
       " 9                       r =    0.7879)"
      ]
     },
     "execution_count": 21,
     "metadata": {},
     "output_type": "execute_result"
    }
   ],
   "source": [
    "# MMSE score \n",
    "print('NC mean: ', np.mean(NC_used['MMSE_avg']))\n",
    "print('ProbAD mean: ', np.mean(ProbAD_used['MMSE_avg']))\n",
    "print('t-test: ', scipy.stats.ttest_ind(NC_used['MMSE_avg'],ProbAD_used['MMSE_avg'], equal_var=False))\n",
    "rp.ttest(group1= NC_used['MMSE_avg'], group1_name= \"NC\",\n",
    "         group2= ProbAD_used['MMSE_avg'], group2_name= \"AD\",\n",
    "        equal_variances=False)"
   ]
  },
  {
   "cell_type": "code",
   "execution_count": null,
   "metadata": {
    "hidden": true
   },
   "outputs": [],
   "source": []
  },
  {
   "cell_type": "markdown",
   "metadata": {
    "heading_collapsed": true
   },
   "source": [
    "# z-scoring IVs"
   ]
  },
  {
   "cell_type": "code",
   "execution_count": 22,
   "metadata": {
    "hidden": true
   },
   "outputs": [
    {
     "data": {
      "text/plain": [
       "Index(['id', 'SEX', 'EDUC', 'DRS_avg', 'MMSE_avg', 'dd_score', 'sqrt_dd_score',\n",
       "       'dd_score^2', 'avg_listlen', 'len1_minus_len2', 'avg_prop_intrusions',\n",
       "       'num_intrusions', 'avg_prop_reps', 'len1_noreps', 'len2_noreps',\n",
       "       'avg_listlen_reps_removed', 'dd_score_reps_removed',\n",
       "       'sqrt_dd_score_reps_removed', 'binary_diag', 'rand_diag', 'dd_score_z',\n",
       "       'avg_listlen_z', 'len1_minus_len2_z', 'avg_prop_intrusions_z',\n",
       "       'num_intrusions_z', 'avg_prop_reps_z', 'avg_listlen_reps_removed_z',\n",
       "       'dd_score_reps_removed_z'],\n",
       "      dtype='object')"
      ]
     },
     "execution_count": 22,
     "metadata": {},
     "output_type": "execute_result"
    }
   ],
   "source": [
    "# z-score all IVs (all metrics)\n",
    "NC_ProbAD_table_zscore = NC_ProbAD_table_pairedlists5_bothdiagsremoved.copy()\n",
    "\n",
    "NC_ProbAD_table_zscore['dd_score_z']=scipy.stats.zscore(NC_ProbAD_table_zscore['dd_score'])\n",
    "NC_ProbAD_table_zscore['avg_listlen_z']=scipy.stats.zscore(NC_ProbAD_table_zscore['avg_listlen'])\n",
    "NC_ProbAD_table_zscore['len1_minus_len2_z']=scipy.stats.zscore(NC_ProbAD_table_zscore['len1_minus_len2'])\n",
    "NC_ProbAD_table_zscore['avg_prop_intrusions_z']=scipy.stats.zscore(NC_ProbAD_table_zscore['avg_prop_intrusions'])\n",
    "NC_ProbAD_table_zscore['num_intrusions_z']=scipy.stats.zscore(NC_ProbAD_table_zscore['num_intrusions'])\n",
    "NC_ProbAD_table_zscore['avg_prop_reps_z']=scipy.stats.zscore(NC_ProbAD_table_zscore['avg_prop_reps'])\n",
    "NC_ProbAD_table_zscore['avg_listlen_reps_removed_z']=scipy.stats.zscore(NC_ProbAD_table_zscore['avg_listlen_reps_removed'])\n",
    "NC_ProbAD_table_zscore['dd_score_reps_removed_z']=scipy.stats.zscore(NC_ProbAD_table_zscore['dd_score_reps_removed'])\n",
    "\n",
    "NC_ProbAD_table_zscore.columns\n"
   ]
  },
  {
   "cell_type": "markdown",
   "metadata": {},
   "source": [
    "# Logistic regression model comparisons\n",
    "\n",
    "comparing models with and without DfD score; results summarized in Table 2."
   ]
  },
  {
   "cell_type": "markdown",
   "metadata": {
    "heading_collapsed": true
   },
   "source": [
    "### m1 vs. m2"
   ]
  },
  {
   "cell_type": "code",
   "execution_count": 23,
   "metadata": {
    "hidden": true
   },
   "outputs": [
    {
     "name": "stdout",
     "output_type": "stream",
     "text": [
      "Optimization terminated successfully.\n",
      "         Current function value: 0.272075\n",
      "         Iterations 9\n"
     ]
    },
    {
     "data": {
      "text/html": [
       "<table class=\"simpletable\">\n",
       "<caption>Logit Regression Results</caption>\n",
       "<tr>\n",
       "  <th>Dep. Variable:</th>      <td>binary_diag</td>   <th>  No. Observations:  </th>  <td>   117</td>  \n",
       "</tr>\n",
       "<tr>\n",
       "  <th>Model:</th>                 <td>Logit</td>      <th>  Df Residuals:      </th>  <td>   113</td>  \n",
       "</tr>\n",
       "<tr>\n",
       "  <th>Method:</th>                 <td>MLE</td>       <th>  Df Model:          </th>  <td>     3</td>  \n",
       "</tr>\n",
       "<tr>\n",
       "  <th>Date:</th>            <td>Tue, 28 Jun 2022</td> <th>  Pseudo R-squ.:     </th>  <td>0.5764</td>  \n",
       "</tr>\n",
       "<tr>\n",
       "  <th>Time:</th>                <td>15:24:43</td>     <th>  Log-Likelihood:    </th> <td> -31.833</td> \n",
       "</tr>\n",
       "<tr>\n",
       "  <th>converged:</th>             <td>True</td>       <th>  LL-Null:           </th> <td> -75.146</td> \n",
       "</tr>\n",
       "<tr>\n",
       "  <th>Covariance Type:</th>     <td>nonrobust</td>    <th>  LLR p-value:       </th> <td>1.161e-18</td>\n",
       "</tr>\n",
       "</table>\n",
       "<table class=\"simpletable\">\n",
       "<tr>\n",
       "                       <td></td>                         <th>coef</th>     <th>std err</th>      <th>z</th>      <th>P>|z|</th>  <th>[0.025</th>    <th>0.975]</th>  \n",
       "</tr>\n",
       "<tr>\n",
       "  <th>Intercept</th>                                  <td>   -1.0622</td> <td>    0.376</td> <td>   -2.823</td> <td> 0.005</td> <td>   -1.800</td> <td>   -0.325</td>\n",
       "</tr>\n",
       "<tr>\n",
       "  <th>avg_listlen_reps_removed_z</th>                 <td>   -2.6801</td> <td>    0.577</td> <td>   -4.642</td> <td> 0.000</td> <td>   -3.812</td> <td>   -1.549</td>\n",
       "</tr>\n",
       "<tr>\n",
       "  <th>avg_prop_reps_z</th>                            <td>    1.5892</td> <td>    0.687</td> <td>    2.313</td> <td> 0.021</td> <td>    0.243</td> <td>    2.936</td>\n",
       "</tr>\n",
       "<tr>\n",
       "  <th>avg_listlen_reps_removed_z:avg_prop_reps_z</th> <td>    0.2517</td> <td>    0.997</td> <td>    0.253</td> <td> 0.801</td> <td>   -1.702</td> <td>    2.205</td>\n",
       "</tr>\n",
       "</table>"
      ],
      "text/plain": [
       "<class 'statsmodels.iolib.summary.Summary'>\n",
       "\"\"\"\n",
       "                           Logit Regression Results                           \n",
       "==============================================================================\n",
       "Dep. Variable:            binary_diag   No. Observations:                  117\n",
       "Model:                          Logit   Df Residuals:                      113\n",
       "Method:                           MLE   Df Model:                            3\n",
       "Date:                Tue, 28 Jun 2022   Pseudo R-squ.:                  0.5764\n",
       "Time:                        15:24:43   Log-Likelihood:                -31.833\n",
       "converged:                       True   LL-Null:                       -75.146\n",
       "Covariance Type:            nonrobust   LLR p-value:                 1.161e-18\n",
       "==============================================================================================================\n",
       "                                                 coef    std err          z      P>|z|      [0.025      0.975]\n",
       "--------------------------------------------------------------------------------------------------------------\n",
       "Intercept                                     -1.0622      0.376     -2.823      0.005      -1.800      -0.325\n",
       "avg_listlen_reps_removed_z                    -2.6801      0.577     -4.642      0.000      -3.812      -1.549\n",
       "avg_prop_reps_z                                1.5892      0.687      2.313      0.021       0.243       2.936\n",
       "avg_listlen_reps_removed_z:avg_prop_reps_z     0.2517      0.997      0.253      0.801      -1.702       2.205\n",
       "==============================================================================================================\n",
       "\"\"\""
      ]
     },
     "execution_count": 23,
     "metadata": {},
     "output_type": "execute_result"
    }
   ],
   "source": [
    "# model 1 (m1): predicting diagnostic group (NC or ProbAD) based on\n",
    " # (1) avg_listlen_reps_removed_z: average length of the lists without repeats  \n",
    " # (2) avg_prop_reps_z: average proportion of repeats (number of repeats / length of list)\n",
    "\n",
    "y, X = patsy.dmatrices('binary_diag ~ avg_listlen_reps_removed_z * avg_prop_reps_z', \n",
    "                       NC_ProbAD_table_zscore, \n",
    "                       return_type = 'dataframe')\n",
    "model = sm.Logit(y,X)\n",
    "result = model.fit()\n",
    "result.summary()"
   ]
  },
  {
   "cell_type": "code",
   "execution_count": 24,
   "metadata": {
    "hidden": true
   },
   "outputs": [
    {
     "name": "stdout",
     "output_type": "stream",
     "text": [
      "Optimization terminated successfully.\n",
      "         Current function value: 0.212517\n",
      "         Iterations 11\n"
     ]
    },
    {
     "data": {
      "text/html": [
       "<table class=\"simpletable\">\n",
       "<caption>Logit Regression Results</caption>\n",
       "<tr>\n",
       "  <th>Dep. Variable:</th>      <td>binary_diag</td>   <th>  No. Observations:  </th>  <td>   117</td>  \n",
       "</tr>\n",
       "<tr>\n",
       "  <th>Model:</th>                 <td>Logit</td>      <th>  Df Residuals:      </th>  <td>   109</td>  \n",
       "</tr>\n",
       "<tr>\n",
       "  <th>Method:</th>                 <td>MLE</td>       <th>  Df Model:          </th>  <td>     7</td>  \n",
       "</tr>\n",
       "<tr>\n",
       "  <th>Date:</th>            <td>Tue, 28 Jun 2022</td> <th>  Pseudo R-squ.:     </th>  <td>0.6691</td>  \n",
       "</tr>\n",
       "<tr>\n",
       "  <th>Time:</th>                <td>15:24:43</td>     <th>  Log-Likelihood:    </th> <td> -24.865</td> \n",
       "</tr>\n",
       "<tr>\n",
       "  <th>converged:</th>             <td>True</td>       <th>  LL-Null:           </th> <td> -75.146</td> \n",
       "</tr>\n",
       "<tr>\n",
       "  <th>Covariance Type:</th>     <td>nonrobust</td>    <th>  LLR p-value:       </th> <td>8.253e-19</td>\n",
       "</tr>\n",
       "</table>\n",
       "<table class=\"simpletable\">\n",
       "<tr>\n",
       "                                   <td></td>                                     <th>coef</th>     <th>std err</th>      <th>z</th>      <th>P>|z|</th>  <th>[0.025</th>    <th>0.975]</th>  \n",
       "</tr>\n",
       "<tr>\n",
       "  <th>Intercept</th>                                                          <td>   -2.4742</td> <td>    0.860</td> <td>   -2.877</td> <td> 0.004</td> <td>   -4.160</td> <td>   -0.789</td>\n",
       "</tr>\n",
       "<tr>\n",
       "  <th>avg_listlen_reps_removed_z</th>                                         <td>   -4.3639</td> <td>    1.529</td> <td>   -2.853</td> <td> 0.004</td> <td>   -7.361</td> <td>   -1.366</td>\n",
       "</tr>\n",
       "<tr>\n",
       "  <th>avg_prop_reps_z</th>                                                    <td>    2.8949</td> <td>    1.149</td> <td>    2.520</td> <td> 0.012</td> <td>    0.643</td> <td>    5.147</td>\n",
       "</tr>\n",
       "<tr>\n",
       "  <th>avg_listlen_reps_removed_z:avg_prop_reps_z</th>                         <td>    2.3068</td> <td>    2.068</td> <td>    1.115</td> <td> 0.265</td> <td>   -1.746</td> <td>    6.360</td>\n",
       "</tr>\n",
       "<tr>\n",
       "  <th>dd_score_reps_removed_z</th>                                            <td>   -2.0738</td> <td>    1.135</td> <td>   -1.827</td> <td> 0.068</td> <td>   -4.298</td> <td>    0.151</td>\n",
       "</tr>\n",
       "<tr>\n",
       "  <th>avg_listlen_reps_removed_z:dd_score_reps_removed_z</th>                 <td>   -1.5504</td> <td>    1.235</td> <td>   -1.255</td> <td> 0.209</td> <td>   -3.971</td> <td>    0.871</td>\n",
       "</tr>\n",
       "<tr>\n",
       "  <th>avg_prop_reps_z:dd_score_reps_removed_z</th>                            <td>    3.1613</td> <td>    1.763</td> <td>    1.793</td> <td> 0.073</td> <td>   -0.295</td> <td>    6.617</td>\n",
       "</tr>\n",
       "<tr>\n",
       "  <th>avg_listlen_reps_removed_z:avg_prop_reps_z:dd_score_reps_removed_z</th> <td>    5.1215</td> <td>    2.415</td> <td>    2.120</td> <td> 0.034</td> <td>    0.388</td> <td>    9.855</td>\n",
       "</tr>\n",
       "</table><br/><br/>Possibly complete quasi-separation: A fraction 0.24 of observations can be<br/>perfectly predicted. This might indicate that there is complete<br/>quasi-separation. In this case some parameters will not be identified."
      ],
      "text/plain": [
       "<class 'statsmodels.iolib.summary.Summary'>\n",
       "\"\"\"\n",
       "                           Logit Regression Results                           \n",
       "==============================================================================\n",
       "Dep. Variable:            binary_diag   No. Observations:                  117\n",
       "Model:                          Logit   Df Residuals:                      109\n",
       "Method:                           MLE   Df Model:                            7\n",
       "Date:                Tue, 28 Jun 2022   Pseudo R-squ.:                  0.6691\n",
       "Time:                        15:24:43   Log-Likelihood:                -24.865\n",
       "converged:                       True   LL-Null:                       -75.146\n",
       "Covariance Type:            nonrobust   LLR p-value:                 8.253e-19\n",
       "======================================================================================================================================\n",
       "                                                                         coef    std err          z      P>|z|      [0.025      0.975]\n",
       "--------------------------------------------------------------------------------------------------------------------------------------\n",
       "Intercept                                                             -2.4742      0.860     -2.877      0.004      -4.160      -0.789\n",
       "avg_listlen_reps_removed_z                                            -4.3639      1.529     -2.853      0.004      -7.361      -1.366\n",
       "avg_prop_reps_z                                                        2.8949      1.149      2.520      0.012       0.643       5.147\n",
       "avg_listlen_reps_removed_z:avg_prop_reps_z                             2.3068      2.068      1.115      0.265      -1.746       6.360\n",
       "dd_score_reps_removed_z                                               -2.0738      1.135     -1.827      0.068      -4.298       0.151\n",
       "avg_listlen_reps_removed_z:dd_score_reps_removed_z                    -1.5504      1.235     -1.255      0.209      -3.971       0.871\n",
       "avg_prop_reps_z:dd_score_reps_removed_z                                3.1613      1.763      1.793      0.073      -0.295       6.617\n",
       "avg_listlen_reps_removed_z:avg_prop_reps_z:dd_score_reps_removed_z     5.1215      2.415      2.120      0.034       0.388       9.855\n",
       "======================================================================================================================================\n",
       "\n",
       "Possibly complete quasi-separation: A fraction 0.24 of observations can be\n",
       "perfectly predicted. This might indicate that there is complete\n",
       "quasi-separation. In this case some parameters will not be identified.\n",
       "\"\"\""
      ]
     },
     "execution_count": 24,
     "metadata": {},
     "output_type": "execute_result"
    }
   ],
   "source": [
    "# model 2 (m2): predicting diagnostic group (NC or ProbAD) based on\n",
    " # (1) avg_listlen_reps_removed_z: average length of the lists without repeats  \n",
    " # (2) avg_prop_reps_z: average proportion of repeats (number of repeats / length of list)\n",
    " # (3) dd_score_reps_removed_z: distance from diagonal score (DfD) of the lists\n",
    "\n",
    "y, X = patsy.dmatrices('binary_diag ~ avg_listlen_reps_removed_z * avg_prop_reps_z * dd_score_reps_removed_z', \n",
    "                       NC_ProbAD_table_zscore, \n",
    "                       return_type = 'dataframe')\n",
    "model = sm.Logit(y,X)\n",
    "result = model.fit()\n",
    "result.summary()"
   ]
  },
  {
   "cell_type": "code",
   "execution_count": 25,
   "metadata": {
    "hidden": true
   },
   "outputs": [
    {
     "name": "stdout",
     "output_type": "stream",
     "text": [
      "LR: 13.936\n",
      "4\n",
      "p = 0.0075\n"
     ]
    }
   ],
   "source": [
    "# m1 vs. m2\n",
    "# The likelihood ratio test:   \n",
    "    # LR = 2*(LL(m2)-LL(m1))\n",
    "\n",
    "L1=-31.833  #m1 is the more restrictive model\n",
    "L2=-24.865  #m2 is the less restrictive model (more variables)\n",
    "\n",
    "LR= 2*(L2-L1) \n",
    "df=7-3\n",
    "print('LR:',LR) # likelihood ratio test statistic, distributed chi-squared\n",
    "print(df)\n",
    "\n",
    "p = chi2.sf(LR,df) \n",
    "print('p =','%.3g'%p) \n"
   ]
  },
  {
   "cell_type": "markdown",
   "metadata": {
    "heading_collapsed": true
   },
   "source": [
    "### m3 vs. m4"
   ]
  },
  {
   "cell_type": "code",
   "execution_count": 26,
   "metadata": {
    "hidden": true
   },
   "outputs": [
    {
     "name": "stdout",
     "output_type": "stream",
     "text": [
      "Optimization terminated successfully.\n",
      "         Current function value: 0.240522\n",
      "         Iterations 8\n"
     ]
    },
    {
     "data": {
      "text/html": [
       "<table class=\"simpletable\">\n",
       "<caption>Logit Regression Results</caption>\n",
       "<tr>\n",
       "  <th>Dep. Variable:</th>      <td>binary_diag</td>   <th>  No. Observations:  </th>  <td>   117</td>  \n",
       "</tr>\n",
       "<tr>\n",
       "  <th>Model:</th>                 <td>Logit</td>      <th>  Df Residuals:      </th>  <td>   113</td>  \n",
       "</tr>\n",
       "<tr>\n",
       "  <th>Method:</th>                 <td>MLE</td>       <th>  Df Model:          </th>  <td>     3</td>  \n",
       "</tr>\n",
       "<tr>\n",
       "  <th>Date:</th>            <td>Tue, 28 Jun 2022</td> <th>  Pseudo R-squ.:     </th>  <td>0.6255</td>  \n",
       "</tr>\n",
       "<tr>\n",
       "  <th>Time:</th>                <td>15:24:43</td>     <th>  Log-Likelihood:    </th> <td> -28.141</td> \n",
       "</tr>\n",
       "<tr>\n",
       "  <th>converged:</th>             <td>True</td>       <th>  LL-Null:           </th> <td> -75.146</td> \n",
       "</tr>\n",
       "<tr>\n",
       "  <th>Covariance Type:</th>     <td>nonrobust</td>    <th>  LLR p-value:       </th> <td>3.013e-20</td>\n",
       "</tr>\n",
       "</table>\n",
       "<table class=\"simpletable\">\n",
       "<tr>\n",
       "                       <td></td>                          <th>coef</th>     <th>std err</th>      <th>z</th>      <th>P>|z|</th>  <th>[0.025</th>    <th>0.975]</th>  \n",
       "</tr>\n",
       "<tr>\n",
       "  <th>Intercept</th>                                   <td>   -1.8990</td> <td>    0.496</td> <td>   -3.832</td> <td> 0.000</td> <td>   -2.870</td> <td>   -0.928</td>\n",
       "</tr>\n",
       "<tr>\n",
       "  <th>avg_listlen_reps_removed_z</th>                  <td>   -4.0707</td> <td>    0.827</td> <td>   -4.919</td> <td> 0.000</td> <td>   -5.693</td> <td>   -2.449</td>\n",
       "</tr>\n",
       "<tr>\n",
       "  <th>num_intrusions_z</th>                            <td>    1.1272</td> <td>    0.376</td> <td>    2.999</td> <td> 0.003</td> <td>    0.391</td> <td>    1.864</td>\n",
       "</tr>\n",
       "<tr>\n",
       "  <th>avg_listlen_reps_removed_z:num_intrusions_z</th> <td>    0.6892</td> <td>    0.573</td> <td>    1.202</td> <td> 0.229</td> <td>   -0.435</td> <td>    1.813</td>\n",
       "</tr>\n",
       "</table>"
      ],
      "text/plain": [
       "<class 'statsmodels.iolib.summary.Summary'>\n",
       "\"\"\"\n",
       "                           Logit Regression Results                           \n",
       "==============================================================================\n",
       "Dep. Variable:            binary_diag   No. Observations:                  117\n",
       "Model:                          Logit   Df Residuals:                      113\n",
       "Method:                           MLE   Df Model:                            3\n",
       "Date:                Tue, 28 Jun 2022   Pseudo R-squ.:                  0.6255\n",
       "Time:                        15:24:43   Log-Likelihood:                -28.141\n",
       "converged:                       True   LL-Null:                       -75.146\n",
       "Covariance Type:            nonrobust   LLR p-value:                 3.013e-20\n",
       "===============================================================================================================\n",
       "                                                  coef    std err          z      P>|z|      [0.025      0.975]\n",
       "---------------------------------------------------------------------------------------------------------------\n",
       "Intercept                                      -1.8990      0.496     -3.832      0.000      -2.870      -0.928\n",
       "avg_listlen_reps_removed_z                     -4.0707      0.827     -4.919      0.000      -5.693      -2.449\n",
       "num_intrusions_z                                1.1272      0.376      2.999      0.003       0.391       1.864\n",
       "avg_listlen_reps_removed_z:num_intrusions_z     0.6892      0.573      1.202      0.229      -0.435       1.813\n",
       "===============================================================================================================\n",
       "\"\"\""
      ]
     },
     "execution_count": 26,
     "metadata": {},
     "output_type": "execute_result"
    }
   ],
   "source": [
    "# model 3 (m3): predicting diagnostic group (NC or ProbAD) based on\n",
    " # (1) avg_listlen_reps_removed_z: average length of the lists without repeats  \n",
    " # (2) num_intrusions_z: average number of intrusions\n",
    "\n",
    "y, X = patsy.dmatrices('binary_diag ~ avg_listlen_reps_removed_z * num_intrusions_z', \n",
    "                       NC_ProbAD_table_zscore, \n",
    "                       return_type = 'dataframe')\n",
    "model = sm.Logit(y,X)\n",
    "result = model.fit()\n",
    "result.summary()\n"
   ]
  },
  {
   "cell_type": "code",
   "execution_count": 27,
   "metadata": {
    "hidden": true
   },
   "outputs": [
    {
     "name": "stdout",
     "output_type": "stream",
     "text": [
      "Optimization terminated successfully.\n",
      "         Current function value: 0.207853\n",
      "         Iterations 9\n"
     ]
    },
    {
     "data": {
      "text/html": [
       "<table class=\"simpletable\">\n",
       "<caption>Logit Regression Results</caption>\n",
       "<tr>\n",
       "  <th>Dep. Variable:</th>      <td>binary_diag</td>   <th>  No. Observations:  </th>  <td>   117</td>  \n",
       "</tr>\n",
       "<tr>\n",
       "  <th>Model:</th>                 <td>Logit</td>      <th>  Df Residuals:      </th>  <td>   109</td>  \n",
       "</tr>\n",
       "<tr>\n",
       "  <th>Method:</th>                 <td>MLE</td>       <th>  Df Model:          </th>  <td>     7</td>  \n",
       "</tr>\n",
       "<tr>\n",
       "  <th>Date:</th>            <td>Tue, 28 Jun 2022</td> <th>  Pseudo R-squ.:     </th>  <td>0.6764</td>  \n",
       "</tr>\n",
       "<tr>\n",
       "  <th>Time:</th>                <td>15:24:44</td>     <th>  Log-Likelihood:    </th> <td> -24.319</td> \n",
       "</tr>\n",
       "<tr>\n",
       "  <th>converged:</th>             <td>True</td>       <th>  LL-Null:           </th> <td> -75.146</td> \n",
       "</tr>\n",
       "<tr>\n",
       "  <th>Covariance Type:</th>     <td>nonrobust</td>    <th>  LLR p-value:       </th> <td>4.910e-19</td>\n",
       "</tr>\n",
       "</table>\n",
       "<table class=\"simpletable\">\n",
       "<tr>\n",
       "                                   <td></td>                                      <th>coef</th>     <th>std err</th>      <th>z</th>      <th>P>|z|</th>  <th>[0.025</th>    <th>0.975]</th>  \n",
       "</tr>\n",
       "<tr>\n",
       "  <th>Intercept</th>                                                           <td>   -2.3694</td> <td>    0.647</td> <td>   -3.661</td> <td> 0.000</td> <td>   -3.638</td> <td>   -1.101</td>\n",
       "</tr>\n",
       "<tr>\n",
       "  <th>avg_listlen_reps_removed_z</th>                                          <td>   -4.6622</td> <td>    1.273</td> <td>   -3.663</td> <td> 0.000</td> <td>   -7.157</td> <td>   -2.168</td>\n",
       "</tr>\n",
       "<tr>\n",
       "  <th>num_intrusions_z</th>                                                    <td>    0.9180</td> <td>    0.605</td> <td>    1.518</td> <td> 0.129</td> <td>   -0.268</td> <td>    2.104</td>\n",
       "</tr>\n",
       "<tr>\n",
       "  <th>avg_listlen_reps_removed_z:num_intrusions_z</th>                         <td>    1.3617</td> <td>    1.419</td> <td>    0.960</td> <td> 0.337</td> <td>   -1.419</td> <td>    4.143</td>\n",
       "</tr>\n",
       "<tr>\n",
       "  <th>dd_score_reps_removed_z</th>                                             <td>   -0.0453</td> <td>    0.844</td> <td>   -0.054</td> <td> 0.957</td> <td>   -1.700</td> <td>    1.609</td>\n",
       "</tr>\n",
       "<tr>\n",
       "  <th>avg_listlen_reps_removed_z:dd_score_reps_removed_z</th>                  <td>    0.1796</td> <td>    1.005</td> <td>    0.179</td> <td> 0.858</td> <td>   -1.790</td> <td>    2.150</td>\n",
       "</tr>\n",
       "<tr>\n",
       "  <th>num_intrusions_z:dd_score_reps_removed_z</th>                            <td>   -1.8058</td> <td>    1.155</td> <td>   -1.563</td> <td> 0.118</td> <td>   -4.070</td> <td>    0.458</td>\n",
       "</tr>\n",
       "<tr>\n",
       "  <th>avg_listlen_reps_removed_z:num_intrusions_z:dd_score_reps_removed_z</th> <td>   -1.0539</td> <td>    1.992</td> <td>   -0.529</td> <td> 0.597</td> <td>   -4.959</td> <td>    2.851</td>\n",
       "</tr>\n",
       "</table>"
      ],
      "text/plain": [
       "<class 'statsmodels.iolib.summary.Summary'>\n",
       "\"\"\"\n",
       "                           Logit Regression Results                           \n",
       "==============================================================================\n",
       "Dep. Variable:            binary_diag   No. Observations:                  117\n",
       "Model:                          Logit   Df Residuals:                      109\n",
       "Method:                           MLE   Df Model:                            7\n",
       "Date:                Tue, 28 Jun 2022   Pseudo R-squ.:                  0.6764\n",
       "Time:                        15:24:44   Log-Likelihood:                -24.319\n",
       "converged:                       True   LL-Null:                       -75.146\n",
       "Covariance Type:            nonrobust   LLR p-value:                 4.910e-19\n",
       "=======================================================================================================================================\n",
       "                                                                          coef    std err          z      P>|z|      [0.025      0.975]\n",
       "---------------------------------------------------------------------------------------------------------------------------------------\n",
       "Intercept                                                              -2.3694      0.647     -3.661      0.000      -3.638      -1.101\n",
       "avg_listlen_reps_removed_z                                             -4.6622      1.273     -3.663      0.000      -7.157      -2.168\n",
       "num_intrusions_z                                                        0.9180      0.605      1.518      0.129      -0.268       2.104\n",
       "avg_listlen_reps_removed_z:num_intrusions_z                             1.3617      1.419      0.960      0.337      -1.419       4.143\n",
       "dd_score_reps_removed_z                                                -0.0453      0.844     -0.054      0.957      -1.700       1.609\n",
       "avg_listlen_reps_removed_z:dd_score_reps_removed_z                      0.1796      1.005      0.179      0.858      -1.790       2.150\n",
       "num_intrusions_z:dd_score_reps_removed_z                               -1.8058      1.155     -1.563      0.118      -4.070       0.458\n",
       "avg_listlen_reps_removed_z:num_intrusions_z:dd_score_reps_removed_z    -1.0539      1.992     -0.529      0.597      -4.959       2.851\n",
       "=======================================================================================================================================\n",
       "\"\"\""
      ]
     },
     "execution_count": 27,
     "metadata": {},
     "output_type": "execute_result"
    }
   ],
   "source": [
    "# model 4 (m4): predicting diagnostic group (NC or ProbAD) based on\n",
    " # (1) avg_listlen_reps_removed_z: average length of the lists without repeats  \n",
    " # (2) num_intrusions_z: average number of intrusions\n",
    " # (3) dd_score_reps_removed_z: distance from diagonal score (DfD) of the lists\n",
    "\n",
    "y, X = patsy.dmatrices('binary_diag ~ avg_listlen_reps_removed_z * num_intrusions_z * dd_score_reps_removed_z', \n",
    "                       NC_ProbAD_table_zscore, \n",
    "                       return_type = 'dataframe')\n",
    "model = sm.Logit(y,X)\n",
    "result = model.fit()\n",
    "result.summary()\n"
   ]
  },
  {
   "cell_type": "code",
   "execution_count": 28,
   "metadata": {
    "hidden": true
   },
   "outputs": [
    {
     "name": "stdout",
     "output_type": "stream",
     "text": [
      "LR: 7.643999999999998\n",
      "4\n",
      "p = 0.106\n"
     ]
    }
   ],
   "source": [
    "# m3 vs. m4\n",
    "# The likelihood ratio test:   \n",
    "    # LR = 2*(LL(m2)-LL(m1))\n",
    "    \n",
    "L1=-28.141  #m1 is the more restrictive model\n",
    "L2=-24.319  #m2 is the less restrictive model (more variables)\n",
    "\n",
    "LR= 2*(L2-L1) \n",
    "df=7-3\n",
    "print('LR:',LR) # likelihood ratio test statistic \n",
    "print(df)\n",
    "\n",
    "p = chi2.sf(LR,df) \n",
    "print('p =','%.3g'%p) \n"
   ]
  },
  {
   "cell_type": "code",
   "execution_count": null,
   "metadata": {
    "hidden": true
   },
   "outputs": [],
   "source": []
  },
  {
   "cell_type": "markdown",
   "metadata": {
    "heading_collapsed": true
   },
   "source": [
    "### m5 vs. m6"
   ]
  },
  {
   "cell_type": "code",
   "execution_count": 29,
   "metadata": {
    "hidden": true
   },
   "outputs": [
    {
     "name": "stdout",
     "output_type": "stream",
     "text": [
      "Optimization terminated successfully.\n",
      "         Current function value: 0.257678\n",
      "         Iterations 9\n"
     ]
    },
    {
     "data": {
      "text/html": [
       "<table class=\"simpletable\">\n",
       "<caption>Logit Regression Results</caption>\n",
       "<tr>\n",
       "  <th>Dep. Variable:</th>      <td>binary_diag</td>   <th>  No. Observations:  </th>  <td>   117</td>  \n",
       "</tr>\n",
       "<tr>\n",
       "  <th>Model:</th>                 <td>Logit</td>      <th>  Df Residuals:      </th>  <td>   109</td>  \n",
       "</tr>\n",
       "<tr>\n",
       "  <th>Method:</th>                 <td>MLE</td>       <th>  Df Model:          </th>  <td>     7</td>  \n",
       "</tr>\n",
       "<tr>\n",
       "  <th>Date:</th>            <td>Tue, 28 Jun 2022</td> <th>  Pseudo R-squ.:     </th>  <td>0.5988</td>  \n",
       "</tr>\n",
       "<tr>\n",
       "  <th>Time:</th>                <td>15:24:44</td>     <th>  Log-Likelihood:    </th> <td> -30.148</td> \n",
       "</tr>\n",
       "<tr>\n",
       "  <th>converged:</th>             <td>True</td>       <th>  LL-Null:           </th> <td> -75.146</td> \n",
       "</tr>\n",
       "<tr>\n",
       "  <th>Covariance Type:</th>     <td>nonrobust</td>    <th>  LLR p-value:       </th> <td>1.240e-16</td>\n",
       "</tr>\n",
       "</table>\n",
       "<table class=\"simpletable\">\n",
       "<tr>\n",
       "                                <td></td>                                  <th>coef</th>     <th>std err</th>      <th>z</th>      <th>P>|z|</th>  <th>[0.025</th>    <th>0.975]</th>  \n",
       "</tr>\n",
       "<tr>\n",
       "  <th>Intercept</th>                                                    <td>   -1.3019</td> <td>    0.451</td> <td>   -2.888</td> <td> 0.004</td> <td>   -2.185</td> <td>   -0.418</td>\n",
       "</tr>\n",
       "<tr>\n",
       "  <th>avg_listlen_reps_removed_z</th>                                   <td>   -3.0452</td> <td>    0.707</td> <td>   -4.305</td> <td> 0.000</td> <td>   -4.432</td> <td>   -1.659</td>\n",
       "</tr>\n",
       "<tr>\n",
       "  <th>len1_minus_len2_z</th>                                            <td>   -0.5863</td> <td>    0.529</td> <td>   -1.109</td> <td> 0.267</td> <td>   -1.623</td> <td>    0.450</td>\n",
       "</tr>\n",
       "<tr>\n",
       "  <th>avg_listlen_reps_removed_z:len1_minus_len2_z</th>                 <td>   -0.6825</td> <td>    0.625</td> <td>   -1.092</td> <td> 0.275</td> <td>   -1.908</td> <td>    0.543</td>\n",
       "</tr>\n",
       "<tr>\n",
       "  <th>avg_prop_reps_z</th>                                              <td>    1.8323</td> <td>    0.784</td> <td>    2.338</td> <td> 0.019</td> <td>    0.296</td> <td>    3.369</td>\n",
       "</tr>\n",
       "<tr>\n",
       "  <th>avg_listlen_reps_removed_z:avg_prop_reps_z</th>                   <td>    0.5077</td> <td>    1.147</td> <td>    0.443</td> <td> 0.658</td> <td>   -1.740</td> <td>    2.756</td>\n",
       "</tr>\n",
       "<tr>\n",
       "  <th>len1_minus_len2_z:avg_prop_reps_z</th>                            <td>    0.2016</td> <td>    0.853</td> <td>    0.236</td> <td> 0.813</td> <td>   -1.470</td> <td>    1.873</td>\n",
       "</tr>\n",
       "<tr>\n",
       "  <th>avg_listlen_reps_removed_z:len1_minus_len2_z:avg_prop_reps_z</th> <td>    0.4760</td> <td>    1.011</td> <td>    0.471</td> <td> 0.638</td> <td>   -1.506</td> <td>    2.458</td>\n",
       "</tr>\n",
       "</table>"
      ],
      "text/plain": [
       "<class 'statsmodels.iolib.summary.Summary'>\n",
       "\"\"\"\n",
       "                           Logit Regression Results                           \n",
       "==============================================================================\n",
       "Dep. Variable:            binary_diag   No. Observations:                  117\n",
       "Model:                          Logit   Df Residuals:                      109\n",
       "Method:                           MLE   Df Model:                            7\n",
       "Date:                Tue, 28 Jun 2022   Pseudo R-squ.:                  0.5988\n",
       "Time:                        15:24:44   Log-Likelihood:                -30.148\n",
       "converged:                       True   LL-Null:                       -75.146\n",
       "Covariance Type:            nonrobust   LLR p-value:                 1.240e-16\n",
       "================================================================================================================================\n",
       "                                                                   coef    std err          z      P>|z|      [0.025      0.975]\n",
       "--------------------------------------------------------------------------------------------------------------------------------\n",
       "Intercept                                                       -1.3019      0.451     -2.888      0.004      -2.185      -0.418\n",
       "avg_listlen_reps_removed_z                                      -3.0452      0.707     -4.305      0.000      -4.432      -1.659\n",
       "len1_minus_len2_z                                               -0.5863      0.529     -1.109      0.267      -1.623       0.450\n",
       "avg_listlen_reps_removed_z:len1_minus_len2_z                    -0.6825      0.625     -1.092      0.275      -1.908       0.543\n",
       "avg_prop_reps_z                                                  1.8323      0.784      2.338      0.019       0.296       3.369\n",
       "avg_listlen_reps_removed_z:avg_prop_reps_z                       0.5077      1.147      0.443      0.658      -1.740       2.756\n",
       "len1_minus_len2_z:avg_prop_reps_z                                0.2016      0.853      0.236      0.813      -1.470       1.873\n",
       "avg_listlen_reps_removed_z:len1_minus_len2_z:avg_prop_reps_z     0.4760      1.011      0.471      0.638      -1.506       2.458\n",
       "================================================================================================================================\n",
       "\"\"\""
      ]
     },
     "execution_count": 29,
     "metadata": {},
     "output_type": "execute_result"
    }
   ],
   "source": [
    "# model 5 (m5): predicting diagnostic group (NC or ProbAD) based on\n",
    " # (1) avg_listlen_reps_removed_z: average length of the lists without repeats  \n",
    " # (2) len1_minus_len2_z: length difference between the two lists \n",
    " # (3) avg_prop_reps_z: average proportion of repeats (number of repeats / length of list)\n",
    "    \n",
    "y, X = patsy.dmatrices('binary_diag ~ avg_listlen_reps_removed_z * len1_minus_len2_z * avg_prop_reps_z', \n",
    "                       NC_ProbAD_table_zscore, \n",
    "                       return_type = 'dataframe')\n",
    "model = sm.Logit(y,X)\n",
    "result = model.fit()\n",
    "result.summary()"
   ]
  },
  {
   "cell_type": "code",
   "execution_count": 30,
   "metadata": {
    "hidden": true
   },
   "outputs": [
    {
     "name": "stdout",
     "output_type": "stream",
     "text": [
      "Optimization terminated successfully.\n",
      "         Current function value: 0.186683\n",
      "         Iterations 12\n"
     ]
    },
    {
     "data": {
      "text/html": [
       "<table class=\"simpletable\">\n",
       "<caption>Logit Regression Results</caption>\n",
       "<tr>\n",
       "  <th>Dep. Variable:</th>      <td>binary_diag</td>   <th>  No. Observations:  </th>  <td>   117</td>  \n",
       "</tr>\n",
       "<tr>\n",
       "  <th>Model:</th>                 <td>Logit</td>      <th>  Df Residuals:      </th>  <td>   101</td>  \n",
       "</tr>\n",
       "<tr>\n",
       "  <th>Method:</th>                 <td>MLE</td>       <th>  Df Model:          </th>  <td>    15</td>  \n",
       "</tr>\n",
       "<tr>\n",
       "  <th>Date:</th>            <td>Tue, 28 Jun 2022</td> <th>  Pseudo R-squ.:     </th>  <td>0.7093</td>  \n",
       "</tr>\n",
       "<tr>\n",
       "  <th>Time:</th>                <td>15:24:44</td>     <th>  Log-Likelihood:    </th> <td> -21.842</td> \n",
       "</tr>\n",
       "<tr>\n",
       "  <th>converged:</th>             <td>True</td>       <th>  LL-Null:           </th> <td> -75.146</td> \n",
       "</tr>\n",
       "<tr>\n",
       "  <th>Covariance Type:</th>     <td>nonrobust</td>    <th>  LLR p-value:       </th> <td>7.200e-16</td>\n",
       "</tr>\n",
       "</table>\n",
       "<table class=\"simpletable\">\n",
       "<tr>\n",
       "                                            <td></td>                                              <th>coef</th>     <th>std err</th>      <th>z</th>      <th>P>|z|</th>  <th>[0.025</th>    <th>0.975]</th>  \n",
       "</tr>\n",
       "<tr>\n",
       "  <th>Intercept</th>                                                                            <td>   -2.7880</td> <td>    0.899</td> <td>   -3.101</td> <td> 0.002</td> <td>   -4.550</td> <td>   -1.026</td>\n",
       "</tr>\n",
       "<tr>\n",
       "  <th>avg_listlen_reps_removed_z</th>                                                           <td>   -4.8469</td> <td>    1.914</td> <td>   -2.532</td> <td> 0.011</td> <td>   -8.599</td> <td>   -1.095</td>\n",
       "</tr>\n",
       "<tr>\n",
       "  <th>len1_minus_len2_z</th>                                                                    <td>   -0.7934</td> <td>    1.018</td> <td>   -0.780</td> <td> 0.436</td> <td>   -2.788</td> <td>    1.201</td>\n",
       "</tr>\n",
       "<tr>\n",
       "  <th>avg_listlen_reps_removed_z:len1_minus_len2_z</th>                                         <td>   -0.6631</td> <td>    1.186</td> <td>   -0.559</td> <td> 0.576</td> <td>   -2.987</td> <td>    1.661</td>\n",
       "</tr>\n",
       "<tr>\n",
       "  <th>avg_prop_reps_z</th>                                                                      <td>    3.4783</td> <td>    1.433</td> <td>    2.427</td> <td> 0.015</td> <td>    0.669</td> <td>    6.287</td>\n",
       "</tr>\n",
       "<tr>\n",
       "  <th>avg_listlen_reps_removed_z:avg_prop_reps_z</th>                                           <td>    0.1236</td> <td>    2.764</td> <td>    0.045</td> <td> 0.964</td> <td>   -5.294</td> <td>    5.541</td>\n",
       "</tr>\n",
       "<tr>\n",
       "  <th>len1_minus_len2_z:avg_prop_reps_z</th>                                                    <td>   -3.9199</td> <td>    2.038</td> <td>   -1.924</td> <td> 0.054</td> <td>   -7.914</td> <td>    0.074</td>\n",
       "</tr>\n",
       "<tr>\n",
       "  <th>avg_listlen_reps_removed_z:len1_minus_len2_z:avg_prop_reps_z</th>                         <td>   -0.5416</td> <td>    2.373</td> <td>   -0.228</td> <td> 0.819</td> <td>   -5.193</td> <td>    4.110</td>\n",
       "</tr>\n",
       "<tr>\n",
       "  <th>dd_score_reps_removed_z</th>                                                              <td>   -1.6717</td> <td>    1.264</td> <td>   -1.323</td> <td> 0.186</td> <td>   -4.149</td> <td>    0.806</td>\n",
       "</tr>\n",
       "<tr>\n",
       "  <th>avg_listlen_reps_removed_z:dd_score_reps_removed_z</th>                                   <td>   -0.0435</td> <td>    2.164</td> <td>   -0.020</td> <td> 0.984</td> <td>   -4.285</td> <td>    4.198</td>\n",
       "</tr>\n",
       "<tr>\n",
       "  <th>len1_minus_len2_z:dd_score_reps_removed_z</th>                                            <td>    0.3859</td> <td>    1.626</td> <td>    0.237</td> <td> 0.812</td> <td>   -2.802</td> <td>    3.574</td>\n",
       "</tr>\n",
       "<tr>\n",
       "  <th>avg_listlen_reps_removed_z:len1_minus_len2_z:dd_score_reps_removed_z</th>                 <td>    1.5495</td> <td>    1.333</td> <td>    1.163</td> <td> 0.245</td> <td>   -1.062</td> <td>    4.161</td>\n",
       "</tr>\n",
       "<tr>\n",
       "  <th>avg_prop_reps_z:dd_score_reps_removed_z</th>                                              <td>    4.8247</td> <td>    2.433</td> <td>    1.983</td> <td> 0.047</td> <td>    0.057</td> <td>    9.593</td>\n",
       "</tr>\n",
       "<tr>\n",
       "  <th>avg_listlen_reps_removed_z:avg_prop_reps_z:dd_score_reps_removed_z</th>                   <td>    5.3885</td> <td>    3.028</td> <td>    1.779</td> <td> 0.075</td> <td>   -0.547</td> <td>   11.324</td>\n",
       "</tr>\n",
       "<tr>\n",
       "  <th>len1_minus_len2_z:avg_prop_reps_z:dd_score_reps_removed_z</th>                            <td>   -3.3822</td> <td>    2.978</td> <td>   -1.136</td> <td> 0.256</td> <td>   -9.218</td> <td>    2.454</td>\n",
       "</tr>\n",
       "<tr>\n",
       "  <th>avg_listlen_reps_removed_z:len1_minus_len2_z:avg_prop_reps_z:dd_score_reps_removed_z</th> <td>    2.5226</td> <td>    2.476</td> <td>    1.019</td> <td> 0.308</td> <td>   -2.331</td> <td>    7.376</td>\n",
       "</tr>\n",
       "</table><br/><br/>Possibly complete quasi-separation: A fraction 0.23 of observations can be<br/>perfectly predicted. This might indicate that there is complete<br/>quasi-separation. In this case some parameters will not be identified."
      ],
      "text/plain": [
       "<class 'statsmodels.iolib.summary.Summary'>\n",
       "\"\"\"\n",
       "                           Logit Regression Results                           \n",
       "==============================================================================\n",
       "Dep. Variable:            binary_diag   No. Observations:                  117\n",
       "Model:                          Logit   Df Residuals:                      101\n",
       "Method:                           MLE   Df Model:                           15\n",
       "Date:                Tue, 28 Jun 2022   Pseudo R-squ.:                  0.7093\n",
       "Time:                        15:24:44   Log-Likelihood:                -21.842\n",
       "converged:                       True   LL-Null:                       -75.146\n",
       "Covariance Type:            nonrobust   LLR p-value:                 7.200e-16\n",
       "========================================================================================================================================================\n",
       "                                                                                           coef    std err          z      P>|z|      [0.025      0.975]\n",
       "--------------------------------------------------------------------------------------------------------------------------------------------------------\n",
       "Intercept                                                                               -2.7880      0.899     -3.101      0.002      -4.550      -1.026\n",
       "avg_listlen_reps_removed_z                                                              -4.8469      1.914     -2.532      0.011      -8.599      -1.095\n",
       "len1_minus_len2_z                                                                       -0.7934      1.018     -0.780      0.436      -2.788       1.201\n",
       "avg_listlen_reps_removed_z:len1_minus_len2_z                                            -0.6631      1.186     -0.559      0.576      -2.987       1.661\n",
       "avg_prop_reps_z                                                                          3.4783      1.433      2.427      0.015       0.669       6.287\n",
       "avg_listlen_reps_removed_z:avg_prop_reps_z                                               0.1236      2.764      0.045      0.964      -5.294       5.541\n",
       "len1_minus_len2_z:avg_prop_reps_z                                                       -3.9199      2.038     -1.924      0.054      -7.914       0.074\n",
       "avg_listlen_reps_removed_z:len1_minus_len2_z:avg_prop_reps_z                            -0.5416      2.373     -0.228      0.819      -5.193       4.110\n",
       "dd_score_reps_removed_z                                                                 -1.6717      1.264     -1.323      0.186      -4.149       0.806\n",
       "avg_listlen_reps_removed_z:dd_score_reps_removed_z                                      -0.0435      2.164     -0.020      0.984      -4.285       4.198\n",
       "len1_minus_len2_z:dd_score_reps_removed_z                                                0.3859      1.626      0.237      0.812      -2.802       3.574\n",
       "avg_listlen_reps_removed_z:len1_minus_len2_z:dd_score_reps_removed_z                     1.5495      1.333      1.163      0.245      -1.062       4.161\n",
       "avg_prop_reps_z:dd_score_reps_removed_z                                                  4.8247      2.433      1.983      0.047       0.057       9.593\n",
       "avg_listlen_reps_removed_z:avg_prop_reps_z:dd_score_reps_removed_z                       5.3885      3.028      1.779      0.075      -0.547      11.324\n",
       "len1_minus_len2_z:avg_prop_reps_z:dd_score_reps_removed_z                               -3.3822      2.978     -1.136      0.256      -9.218       2.454\n",
       "avg_listlen_reps_removed_z:len1_minus_len2_z:avg_prop_reps_z:dd_score_reps_removed_z     2.5226      2.476      1.019      0.308      -2.331       7.376\n",
       "========================================================================================================================================================\n",
       "\n",
       "Possibly complete quasi-separation: A fraction 0.23 of observations can be\n",
       "perfectly predicted. This might indicate that there is complete\n",
       "quasi-separation. In this case some parameters will not be identified.\n",
       "\"\"\""
      ]
     },
     "execution_count": 30,
     "metadata": {},
     "output_type": "execute_result"
    }
   ],
   "source": [
    "# model 6 (m6): predicting diagnostic group (NC or ProbAD) based on\n",
    " # (1) avg_listlen_reps_removed_z: average length of the lists without repeats  \n",
    " # (2) len1_minus_len2_z: length difference between the two lists \n",
    " # (3) avg_prop_reps_z: average proportion of repeats (number of repeats / length of list)\n",
    " # (4) dd_score_reps_removed_z: distance from diagonal score (DfD) of the lists\n",
    "    \n",
    "y, X = patsy.dmatrices('binary_diag ~ avg_listlen_reps_removed_z * len1_minus_len2_z * avg_prop_reps_z * dd_score_reps_removed_z', \n",
    "                       NC_ProbAD_table_zscore, \n",
    "                       return_type = 'dataframe')\n",
    "\n",
    "model = sm.Logit(y,X)\n",
    "result = model.fit()\n",
    "result.summary()"
   ]
  },
  {
   "cell_type": "code",
   "execution_count": 31,
   "metadata": {
    "hidden": true
   },
   "outputs": [
    {
     "name": "stdout",
     "output_type": "stream",
     "text": [
      "LR: 16.612000000000002\n",
      "8\n",
      "p = 0.0344\n"
     ]
    }
   ],
   "source": [
    "# m5 vs. m6\n",
    "# The likelihood ratio test:   \n",
    "    # LR = 2*(LL(m2)-LL(m1))\n",
    "    \n",
    "L1=-30.148  #m1 is the more restrictive model\n",
    "L2=-21.842  #m2 is the less restrictive model (more variables)\n",
    "\n",
    "LR= 2*(L2-L1) \n",
    "df=15-7\n",
    "print('LR:',LR) # likelihood ratio test statistic \n",
    "print(df)\n",
    "\n",
    "p = chi2.sf(LR,df) \n",
    "print('p =','%.3g'%p) \n"
   ]
  },
  {
   "cell_type": "code",
   "execution_count": null,
   "metadata": {
    "hidden": true
   },
   "outputs": [],
   "source": []
  },
  {
   "cell_type": "markdown",
   "metadata": {
    "heading_collapsed": true
   },
   "source": [
    "### m7 vs. m8"
   ]
  },
  {
   "cell_type": "code",
   "execution_count": 32,
   "metadata": {
    "hidden": true
   },
   "outputs": [
    {
     "name": "stdout",
     "output_type": "stream",
     "text": [
      "Optimization terminated successfully.\n",
      "         Current function value: 0.483367\n",
      "         Iterations 7\n"
     ]
    },
    {
     "data": {
      "text/html": [
       "<table class=\"simpletable\">\n",
       "<caption>Logit Regression Results</caption>\n",
       "<tr>\n",
       "  <th>Dep. Variable:</th>      <td>binary_diag</td>   <th>  No. Observations:  </th>  <td>   117</td>  \n",
       "</tr>\n",
       "<tr>\n",
       "  <th>Model:</th>                 <td>Logit</td>      <th>  Df Residuals:      </th>  <td>   113</td>  \n",
       "</tr>\n",
       "<tr>\n",
       "  <th>Method:</th>                 <td>MLE</td>       <th>  Df Model:          </th>  <td>     3</td>  \n",
       "</tr>\n",
       "<tr>\n",
       "  <th>Date:</th>            <td>Tue, 28 Jun 2022</td> <th>  Pseudo R-squ.:     </th>  <td>0.2474</td>  \n",
       "</tr>\n",
       "<tr>\n",
       "  <th>Time:</th>                <td>15:24:44</td>     <th>  Log-Likelihood:    </th> <td> -56.554</td> \n",
       "</tr>\n",
       "<tr>\n",
       "  <th>converged:</th>             <td>True</td>       <th>  LL-Null:           </th> <td> -75.146</td> \n",
       "</tr>\n",
       "<tr>\n",
       "  <th>Covariance Type:</th>     <td>nonrobust</td>    <th>  LLR p-value:       </th> <td>4.206e-08</td>\n",
       "</tr>\n",
       "</table>\n",
       "<table class=\"simpletable\">\n",
       "<tr>\n",
       "                  <td></td>                     <th>coef</th>     <th>std err</th>      <th>z</th>      <th>P>|z|</th>  <th>[0.025</th>    <th>0.975]</th>  \n",
       "</tr>\n",
       "<tr>\n",
       "  <th>Intercept</th>                         <td>   -0.6017</td> <td>    0.241</td> <td>   -2.496</td> <td> 0.013</td> <td>   -1.074</td> <td>   -0.129</td>\n",
       "</tr>\n",
       "<tr>\n",
       "  <th>len1_minus_len2_z</th>                 <td>    0.1755</td> <td>    0.266</td> <td>    0.659</td> <td> 0.510</td> <td>   -0.347</td> <td>    0.698</td>\n",
       "</tr>\n",
       "<tr>\n",
       "  <th>avg_prop_reps_z</th>                   <td>    1.6843</td> <td>    0.394</td> <td>    4.279</td> <td> 0.000</td> <td>    0.913</td> <td>    2.456</td>\n",
       "</tr>\n",
       "<tr>\n",
       "  <th>len1_minus_len2_z:avg_prop_reps_z</th> <td>    0.3046</td> <td>    0.425</td> <td>    0.717</td> <td> 0.473</td> <td>   -0.528</td> <td>    1.137</td>\n",
       "</tr>\n",
       "</table>"
      ],
      "text/plain": [
       "<class 'statsmodels.iolib.summary.Summary'>\n",
       "\"\"\"\n",
       "                           Logit Regression Results                           \n",
       "==============================================================================\n",
       "Dep. Variable:            binary_diag   No. Observations:                  117\n",
       "Model:                          Logit   Df Residuals:                      113\n",
       "Method:                           MLE   Df Model:                            3\n",
       "Date:                Tue, 28 Jun 2022   Pseudo R-squ.:                  0.2474\n",
       "Time:                        15:24:44   Log-Likelihood:                -56.554\n",
       "converged:                       True   LL-Null:                       -75.146\n",
       "Covariance Type:            nonrobust   LLR p-value:                 4.206e-08\n",
       "=====================================================================================================\n",
       "                                        coef    std err          z      P>|z|      [0.025      0.975]\n",
       "-----------------------------------------------------------------------------------------------------\n",
       "Intercept                            -0.6017      0.241     -2.496      0.013      -1.074      -0.129\n",
       "len1_minus_len2_z                     0.1755      0.266      0.659      0.510      -0.347       0.698\n",
       "avg_prop_reps_z                       1.6843      0.394      4.279      0.000       0.913       2.456\n",
       "len1_minus_len2_z:avg_prop_reps_z     0.3046      0.425      0.717      0.473      -0.528       1.137\n",
       "=====================================================================================================\n",
       "\"\"\""
      ]
     },
     "execution_count": 32,
     "metadata": {},
     "output_type": "execute_result"
    }
   ],
   "source": [
    "# model 7 (m7): predicting diagnostic group (NC or ProbAD) based on\n",
    " # (1) len1_minus_len2_z: length difference between the two lists \n",
    " # (2) avg_prop_reps_z: average proportion of repeats (number of repeats / length of list)\n",
    "\n",
    "y, X = patsy.dmatrices('binary_diag ~ len1_minus_len2_z * avg_prop_reps_z', \n",
    "                       NC_ProbAD_table_zscore, \n",
    "                       return_type = 'dataframe')\n",
    "\n",
    "model = sm.Logit(y,X)\n",
    "result = model.fit()\n",
    "result.summary()"
   ]
  },
  {
   "cell_type": "code",
   "execution_count": 33,
   "metadata": {
    "hidden": true
   },
   "outputs": [
    {
     "name": "stdout",
     "output_type": "stream",
     "text": [
      "Optimization terminated successfully.\n",
      "         Current function value: 0.281400\n",
      "         Iterations 9\n"
     ]
    },
    {
     "data": {
      "text/html": [
       "<table class=\"simpletable\">\n",
       "<caption>Logit Regression Results</caption>\n",
       "<tr>\n",
       "  <th>Dep. Variable:</th>      <td>binary_diag</td>   <th>  No. Observations:  </th>  <td>   117</td>  \n",
       "</tr>\n",
       "<tr>\n",
       "  <th>Model:</th>                 <td>Logit</td>      <th>  Df Residuals:      </th>  <td>   109</td>  \n",
       "</tr>\n",
       "<tr>\n",
       "  <th>Method:</th>                 <td>MLE</td>       <th>  Df Model:          </th>  <td>     7</td>  \n",
       "</tr>\n",
       "<tr>\n",
       "  <th>Date:</th>            <td>Tue, 28 Jun 2022</td> <th>  Pseudo R-squ.:     </th>  <td>0.5619</td>  \n",
       "</tr>\n",
       "<tr>\n",
       "  <th>Time:</th>                <td>15:24:44</td>     <th>  Log-Likelihood:    </th> <td> -32.924</td> \n",
       "</tr>\n",
       "<tr>\n",
       "  <th>converged:</th>             <td>True</td>       <th>  LL-Null:           </th> <td> -75.146</td> \n",
       "</tr>\n",
       "<tr>\n",
       "  <th>Covariance Type:</th>     <td>nonrobust</td>    <th>  LLR p-value:       </th> <td>1.703e-15</td>\n",
       "</tr>\n",
       "</table>\n",
       "<table class=\"simpletable\">\n",
       "<tr>\n",
       "                              <td></td>                                 <th>coef</th>     <th>std err</th>      <th>z</th>      <th>P>|z|</th>  <th>[0.025</th>    <th>0.975]</th>  \n",
       "</tr>\n",
       "<tr>\n",
       "  <th>Intercept</th>                                                 <td>   -1.8315</td> <td>    0.536</td> <td>   -3.417</td> <td> 0.001</td> <td>   -2.882</td> <td>   -0.781</td>\n",
       "</tr>\n",
       "<tr>\n",
       "  <th>len1_minus_len2_z</th>                                         <td>    0.4252</td> <td>    0.453</td> <td>    0.939</td> <td> 0.348</td> <td>   -0.462</td> <td>    1.313</td>\n",
       "</tr>\n",
       "<tr>\n",
       "  <th>avg_prop_reps_z</th>                                           <td>    3.5162</td> <td>    1.006</td> <td>    3.496</td> <td> 0.000</td> <td>    1.545</td> <td>    5.487</td>\n",
       "</tr>\n",
       "<tr>\n",
       "  <th>len1_minus_len2_z:avg_prop_reps_z</th>                         <td>   -0.8436</td> <td>    0.812</td> <td>   -1.039</td> <td> 0.299</td> <td>   -2.435</td> <td>    0.748</td>\n",
       "</tr>\n",
       "<tr>\n",
       "  <th>dd_score_reps_removed_z</th>                                   <td>   -3.5459</td> <td>    0.853</td> <td>   -4.157</td> <td> 0.000</td> <td>   -5.218</td> <td>   -1.874</td>\n",
       "</tr>\n",
       "<tr>\n",
       "  <th>len1_minus_len2_z:dd_score_reps_removed_z</th>                 <td>    0.3266</td> <td>    0.626</td> <td>    0.521</td> <td> 0.602</td> <td>   -0.901</td> <td>    1.554</td>\n",
       "</tr>\n",
       "<tr>\n",
       "  <th>avg_prop_reps_z:dd_score_reps_removed_z</th>                   <td>    1.7544</td> <td>    1.285</td> <td>    1.365</td> <td> 0.172</td> <td>   -0.765</td> <td>    4.274</td>\n",
       "</tr>\n",
       "<tr>\n",
       "  <th>len1_minus_len2_z:avg_prop_reps_z:dd_score_reps_removed_z</th> <td>   -1.4570</td> <td>    0.978</td> <td>   -1.490</td> <td> 0.136</td> <td>   -3.373</td> <td>    0.459</td>\n",
       "</tr>\n",
       "</table>"
      ],
      "text/plain": [
       "<class 'statsmodels.iolib.summary.Summary'>\n",
       "\"\"\"\n",
       "                           Logit Regression Results                           \n",
       "==============================================================================\n",
       "Dep. Variable:            binary_diag   No. Observations:                  117\n",
       "Model:                          Logit   Df Residuals:                      109\n",
       "Method:                           MLE   Df Model:                            7\n",
       "Date:                Tue, 28 Jun 2022   Pseudo R-squ.:                  0.5619\n",
       "Time:                        15:24:44   Log-Likelihood:                -32.924\n",
       "converged:                       True   LL-Null:                       -75.146\n",
       "Covariance Type:            nonrobust   LLR p-value:                 1.703e-15\n",
       "=============================================================================================================================\n",
       "                                                                coef    std err          z      P>|z|      [0.025      0.975]\n",
       "-----------------------------------------------------------------------------------------------------------------------------\n",
       "Intercept                                                    -1.8315      0.536     -3.417      0.001      -2.882      -0.781\n",
       "len1_minus_len2_z                                             0.4252      0.453      0.939      0.348      -0.462       1.313\n",
       "avg_prop_reps_z                                               3.5162      1.006      3.496      0.000       1.545       5.487\n",
       "len1_minus_len2_z:avg_prop_reps_z                            -0.8436      0.812     -1.039      0.299      -2.435       0.748\n",
       "dd_score_reps_removed_z                                      -3.5459      0.853     -4.157      0.000      -5.218      -1.874\n",
       "len1_minus_len2_z:dd_score_reps_removed_z                     0.3266      0.626      0.521      0.602      -0.901       1.554\n",
       "avg_prop_reps_z:dd_score_reps_removed_z                       1.7544      1.285      1.365      0.172      -0.765       4.274\n",
       "len1_minus_len2_z:avg_prop_reps_z:dd_score_reps_removed_z    -1.4570      0.978     -1.490      0.136      -3.373       0.459\n",
       "=============================================================================================================================\n",
       "\"\"\""
      ]
     },
     "execution_count": 33,
     "metadata": {},
     "output_type": "execute_result"
    }
   ],
   "source": [
    "# model 8 (m8): predicting diagnostic group (NC or ProbAD) based on\n",
    " # (1) len1_minus_len2_z: length difference between the two lists \n",
    " # (2) avg_prop_reps_z: average proportion of repeats (number of repeats / length of list)\n",
    " # (3) dd_score_reps_removed_z: distance from diagonal score (DfD) of the lists\n",
    "\n",
    "y, X = patsy.dmatrices('binary_diag ~ len1_minus_len2_z * avg_prop_reps_z * dd_score_reps_removed_z', \n",
    "                       NC_ProbAD_table_zscore, \n",
    "                       return_type = 'dataframe')\n",
    "\n",
    "model = sm.Logit(y,X)\n",
    "result = model.fit()\n",
    "result.summary()"
   ]
  },
  {
   "cell_type": "code",
   "execution_count": 34,
   "metadata": {
    "hidden": true
   },
   "outputs": [
    {
     "name": "stdout",
     "output_type": "stream",
     "text": [
      "LR: 47.260000000000005\n",
      "4\n",
      "p = 1.35e-09\n"
     ]
    }
   ],
   "source": [
    "# m7 vs. m8\n",
    "# The likelihood ratio test:   \n",
    "    # LR = 2*(LL(m2)-LL(m1))\n",
    "    \n",
    "L1=-56.554  #m1 is the more restrictive model\n",
    "L2=-32.924  #m2 is the less restrictive model (more variables)\n",
    "\n",
    "LR= 2*(L2-L1) \n",
    "df=7-3\n",
    "print('LR:',LR) # likelihood ratio test statistic \n",
    "print(df)\n",
    "\n",
    "p = chi2.sf(LR,df) \n",
    "print('p =','%.3g'%p) \n"
   ]
  },
  {
   "cell_type": "markdown",
   "metadata": {
    "heading_collapsed": true
   },
   "source": [
    "### m9 vs. m10"
   ]
  },
  {
   "cell_type": "code",
   "execution_count": 35,
   "metadata": {
    "hidden": true
   },
   "outputs": [
    {
     "name": "stdout",
     "output_type": "stream",
     "text": [
      "Optimization terminated successfully.\n",
      "         Current function value: 0.613620\n",
      "         Iterations 5\n"
     ]
    },
    {
     "data": {
      "text/html": [
       "<table class=\"simpletable\">\n",
       "<caption>Logit Regression Results</caption>\n",
       "<tr>\n",
       "  <th>Dep. Variable:</th>      <td>binary_diag</td>   <th>  No. Observations:  </th>  <td>   117</td> \n",
       "</tr>\n",
       "<tr>\n",
       "  <th>Model:</th>                 <td>Logit</td>      <th>  Df Residuals:      </th>  <td>   113</td> \n",
       "</tr>\n",
       "<tr>\n",
       "  <th>Method:</th>                 <td>MLE</td>       <th>  Df Model:          </th>  <td>     3</td> \n",
       "</tr>\n",
       "<tr>\n",
       "  <th>Date:</th>            <td>Tue, 28 Jun 2022</td> <th>  Pseudo R-squ.:     </th>  <td>0.04461</td>\n",
       "</tr>\n",
       "<tr>\n",
       "  <th>Time:</th>                <td>15:24:44</td>     <th>  Log-Likelihood:    </th> <td> -71.794</td>\n",
       "</tr>\n",
       "<tr>\n",
       "  <th>converged:</th>             <td>True</td>       <th>  LL-Null:           </th> <td> -75.146</td>\n",
       "</tr>\n",
       "<tr>\n",
       "  <th>Covariance Type:</th>     <td>nonrobust</td>    <th>  LLR p-value:       </th>  <td>0.08191</td>\n",
       "</tr>\n",
       "</table>\n",
       "<table class=\"simpletable\">\n",
       "<tr>\n",
       "                   <td></td>                     <th>coef</th>     <th>std err</th>      <th>z</th>      <th>P>|z|</th>  <th>[0.025</th>    <th>0.975]</th>  \n",
       "</tr>\n",
       "<tr>\n",
       "  <th>Intercept</th>                          <td>   -0.6724</td> <td>    0.201</td> <td>   -3.342</td> <td> 0.001</td> <td>   -1.067</td> <td>   -0.278</td>\n",
       "</tr>\n",
       "<tr>\n",
       "  <th>len1_minus_len2_z</th>                  <td>    0.0788</td> <td>    0.207</td> <td>    0.381</td> <td> 0.704</td> <td>   -0.327</td> <td>    0.485</td>\n",
       "</tr>\n",
       "<tr>\n",
       "  <th>num_intrusions_z</th>                   <td>    0.5035</td> <td>    0.212</td> <td>    2.372</td> <td> 0.018</td> <td>    0.087</td> <td>    0.920</td>\n",
       "</tr>\n",
       "<tr>\n",
       "  <th>len1_minus_len2_z:num_intrusions_z</th> <td>   -0.1365</td> <td>    0.163</td> <td>   -0.839</td> <td> 0.401</td> <td>   -0.455</td> <td>    0.182</td>\n",
       "</tr>\n",
       "</table>"
      ],
      "text/plain": [
       "<class 'statsmodels.iolib.summary.Summary'>\n",
       "\"\"\"\n",
       "                           Logit Regression Results                           \n",
       "==============================================================================\n",
       "Dep. Variable:            binary_diag   No. Observations:                  117\n",
       "Model:                          Logit   Df Residuals:                      113\n",
       "Method:                           MLE   Df Model:                            3\n",
       "Date:                Tue, 28 Jun 2022   Pseudo R-squ.:                 0.04461\n",
       "Time:                        15:24:44   Log-Likelihood:                -71.794\n",
       "converged:                       True   LL-Null:                       -75.146\n",
       "Covariance Type:            nonrobust   LLR p-value:                   0.08191\n",
       "======================================================================================================\n",
       "                                         coef    std err          z      P>|z|      [0.025      0.975]\n",
       "------------------------------------------------------------------------------------------------------\n",
       "Intercept                             -0.6724      0.201     -3.342      0.001      -1.067      -0.278\n",
       "len1_minus_len2_z                      0.0788      0.207      0.381      0.704      -0.327       0.485\n",
       "num_intrusions_z                       0.5035      0.212      2.372      0.018       0.087       0.920\n",
       "len1_minus_len2_z:num_intrusions_z    -0.1365      0.163     -0.839      0.401      -0.455       0.182\n",
       "======================================================================================================\n",
       "\"\"\""
      ]
     },
     "execution_count": 35,
     "metadata": {},
     "output_type": "execute_result"
    }
   ],
   "source": [
    "# model 9 (m9): predicting diagnostic group (NC or ProbAD) based on\n",
    " # (1) len1_minus_len2_z: length difference between the two lists \n",
    " # (2) num_intrusions_z: average number of intrusions\n",
    "\n",
    "y, X = patsy.dmatrices('binary_diag ~ len1_minus_len2_z * num_intrusions_z', \n",
    "                       NC_ProbAD_table_zscore, \n",
    "                       return_type = 'dataframe')\n",
    "model = sm.Logit(y,X)\n",
    "result = model.fit()\n",
    "result.summary()"
   ]
  },
  {
   "cell_type": "code",
   "execution_count": 36,
   "metadata": {
    "hidden": true
   },
   "outputs": [
    {
     "name": "stdout",
     "output_type": "stream",
     "text": [
      "Optimization terminated successfully.\n",
      "         Current function value: 0.385053\n",
      "         Iterations 8\n"
     ]
    },
    {
     "data": {
      "text/html": [
       "<table class=\"simpletable\">\n",
       "<caption>Logit Regression Results</caption>\n",
       "<tr>\n",
       "  <th>Dep. Variable:</th>      <td>binary_diag</td>   <th>  No. Observations:  </th>  <td>   117</td>  \n",
       "</tr>\n",
       "<tr>\n",
       "  <th>Model:</th>                 <td>Logit</td>      <th>  Df Residuals:      </th>  <td>   109</td>  \n",
       "</tr>\n",
       "<tr>\n",
       "  <th>Method:</th>                 <td>MLE</td>       <th>  Df Model:          </th>  <td>     7</td>  \n",
       "</tr>\n",
       "<tr>\n",
       "  <th>Date:</th>            <td>Tue, 28 Jun 2022</td> <th>  Pseudo R-squ.:     </th>  <td>0.4005</td>  \n",
       "</tr>\n",
       "<tr>\n",
       "  <th>Time:</th>                <td>15:24:44</td>     <th>  Log-Likelihood:    </th> <td> -45.051</td> \n",
       "</tr>\n",
       "<tr>\n",
       "  <th>converged:</th>             <td>True</td>       <th>  LL-Null:           </th> <td> -75.146</td> \n",
       "</tr>\n",
       "<tr>\n",
       "  <th>Covariance Type:</th>     <td>nonrobust</td>    <th>  LLR p-value:       </th> <td>1.383e-10</td>\n",
       "</tr>\n",
       "</table>\n",
       "<table class=\"simpletable\">\n",
       "<tr>\n",
       "                               <td></td>                                 <th>coef</th>     <th>std err</th>      <th>z</th>      <th>P>|z|</th>  <th>[0.025</th>    <th>0.975]</th>  \n",
       "</tr>\n",
       "<tr>\n",
       "  <th>Intercept</th>                                                  <td>   -1.8305</td> <td>    0.467</td> <td>   -3.922</td> <td> 0.000</td> <td>   -2.745</td> <td>   -0.916</td>\n",
       "</tr>\n",
       "<tr>\n",
       "  <th>len1_minus_len2_z</th>                                          <td>    0.7824</td> <td>    0.393</td> <td>    1.992</td> <td> 0.046</td> <td>    0.013</td> <td>    1.552</td>\n",
       "</tr>\n",
       "<tr>\n",
       "  <th>num_intrusions_z</th>                                           <td>    0.6239</td> <td>    0.331</td> <td>    1.885</td> <td> 0.059</td> <td>   -0.025</td> <td>    1.272</td>\n",
       "</tr>\n",
       "<tr>\n",
       "  <th>len1_minus_len2_z:num_intrusions_z</th>                         <td>    0.1640</td> <td>    0.353</td> <td>    0.464</td> <td> 0.643</td> <td>   -0.529</td> <td>    0.857</td>\n",
       "</tr>\n",
       "<tr>\n",
       "  <th>dd_score_reps_removed_z</th>                                    <td>   -3.2240</td> <td>    0.693</td> <td>   -4.655</td> <td> 0.000</td> <td>   -4.582</td> <td>   -1.867</td>\n",
       "</tr>\n",
       "<tr>\n",
       "  <th>len1_minus_len2_z:dd_score_reps_removed_z</th>                  <td>    0.8316</td> <td>    0.456</td> <td>    1.824</td> <td> 0.068</td> <td>   -0.062</td> <td>    1.725</td>\n",
       "</tr>\n",
       "<tr>\n",
       "  <th>num_intrusions_z:dd_score_reps_removed_z</th>                   <td>   -0.3801</td> <td>    0.759</td> <td>   -0.501</td> <td> 0.617</td> <td>   -1.868</td> <td>    1.108</td>\n",
       "</tr>\n",
       "<tr>\n",
       "  <th>len1_minus_len2_z:num_intrusions_z:dd_score_reps_removed_z</th> <td>   -0.3792</td> <td>    0.319</td> <td>   -1.189</td> <td> 0.234</td> <td>   -1.004</td> <td>    0.246</td>\n",
       "</tr>\n",
       "</table>"
      ],
      "text/plain": [
       "<class 'statsmodels.iolib.summary.Summary'>\n",
       "\"\"\"\n",
       "                           Logit Regression Results                           \n",
       "==============================================================================\n",
       "Dep. Variable:            binary_diag   No. Observations:                  117\n",
       "Model:                          Logit   Df Residuals:                      109\n",
       "Method:                           MLE   Df Model:                            7\n",
       "Date:                Tue, 28 Jun 2022   Pseudo R-squ.:                  0.4005\n",
       "Time:                        15:24:44   Log-Likelihood:                -45.051\n",
       "converged:                       True   LL-Null:                       -75.146\n",
       "Covariance Type:            nonrobust   LLR p-value:                 1.383e-10\n",
       "==============================================================================================================================\n",
       "                                                                 coef    std err          z      P>|z|      [0.025      0.975]\n",
       "------------------------------------------------------------------------------------------------------------------------------\n",
       "Intercept                                                     -1.8305      0.467     -3.922      0.000      -2.745      -0.916\n",
       "len1_minus_len2_z                                              0.7824      0.393      1.992      0.046       0.013       1.552\n",
       "num_intrusions_z                                               0.6239      0.331      1.885      0.059      -0.025       1.272\n",
       "len1_minus_len2_z:num_intrusions_z                             0.1640      0.353      0.464      0.643      -0.529       0.857\n",
       "dd_score_reps_removed_z                                       -3.2240      0.693     -4.655      0.000      -4.582      -1.867\n",
       "len1_minus_len2_z:dd_score_reps_removed_z                      0.8316      0.456      1.824      0.068      -0.062       1.725\n",
       "num_intrusions_z:dd_score_reps_removed_z                      -0.3801      0.759     -0.501      0.617      -1.868       1.108\n",
       "len1_minus_len2_z:num_intrusions_z:dd_score_reps_removed_z    -0.3792      0.319     -1.189      0.234      -1.004       0.246\n",
       "==============================================================================================================================\n",
       "\"\"\""
      ]
     },
     "execution_count": 36,
     "metadata": {},
     "output_type": "execute_result"
    }
   ],
   "source": [
    "# model 10 (m10): predicting diagnostic group (NC or ProbAD) based on\n",
    " # (1) len1_minus_len2_z: length difference between the two lists \n",
    " # (2) num_intrusions_z: average number of intrusions\n",
    " # (3) dd_score_reps_removed_z: distance from diagonal score (DfD) of the lists\n",
    "y, X = patsy.dmatrices('binary_diag ~ len1_minus_len2_z * num_intrusions_z * dd_score_reps_removed_z', \n",
    "                       NC_ProbAD_table_zscore, \n",
    "                       return_type = 'dataframe')\n",
    "\n",
    "model = sm.Logit(y,X)\n",
    "result = model.fit()\n",
    "result.summary()\n"
   ]
  },
  {
   "cell_type": "code",
   "execution_count": 37,
   "metadata": {
    "hidden": true
   },
   "outputs": [
    {
     "name": "stdout",
     "output_type": "stream",
     "text": [
      "LR: 53.48599999999999\n",
      "4\n",
      "p = 6.74e-11\n"
     ]
    }
   ],
   "source": [
    "# m9 vs. m10\n",
    "# The likelihood ratio test:   \n",
    "    # LR = 2*(LL(m2)-LL(m1))\n",
    "    \n",
    "L1=-71.794  #m1 is the more restrictive model\n",
    "L2=-45.051  #m2 is the less restrictive model (more variables)\n",
    "\n",
    "LR= 2*(L2-L1) \n",
    "df=7-3\n",
    "print('LR:',LR) # likelihood ratio test statistic \n",
    "print(df)\n",
    "\n",
    "p = chi2.sf(LR,df) \n",
    "print('p =','%.3g'%p) "
   ]
  },
  {
   "cell_type": "code",
   "execution_count": null,
   "metadata": {
    "hidden": true
   },
   "outputs": [],
   "source": []
  },
  {
   "cell_type": "markdown",
   "metadata": {},
   "source": [
    "# Comparing metrics btwn NC & ProbAD (t-tests)"
   ]
  },
  {
   "cell_type": "markdown",
   "metadata": {
    "heading_collapsed": true
   },
   "source": [
    "### distance from diagonal (DfD) score"
   ]
  },
  {
   "cell_type": "code",
   "execution_count": 38,
   "metadata": {
    "hidden": true
   },
   "outputs": [
    {
     "name": "stdout",
     "output_type": "stream",
     "text": [
      "mean control score: 43.532467532467535\n",
      "mean ProbAD score: 14.525\n",
      "t-test: Ttest_indResult(statistic=7.925084041267242, pvalue=1.9934586232629897e-12)\n"
     ]
    },
    {
     "data": {
      "text/plain": [
       "(   Variable      N       Mean         SD        SE  95% Conf.   Interval\n",
       " 0        NC   77.0  43.532468  27.987584  3.189481  37.180065  49.884870\n",
       " 1        AD   40.0  14.525000  11.356660  1.795646  10.892964  18.157036\n",
       " 2  combined  117.0  33.615385  27.340713  2.527650  28.609056  38.621714,\n",
       "               Welch's t-test   results\n",
       " 0    Difference (NC - AD) =    29.0075\n",
       " 1      Degrees of freedom =   110.2322\n",
       " 2                       t =     7.9251\n",
       " 3   Two side test p value =     0.0000\n",
       " 4  Difference < 0 p value =     1.0000\n",
       " 5  Difference > 0 p value =     0.0000\n",
       " 6               Cohen's d =     1.5446\n",
       " 7               Hedge's g =     1.5345\n",
       " 8           Glass's delta =     1.0364\n",
       " 9                       r =     0.6025)"
      ]
     },
     "execution_count": 38,
     "metadata": {},
     "output_type": "execute_result"
    }
   ],
   "source": [
    "NC_dd_scores=[]\n",
    "AD_dd_scores=[]\n",
    "for i in range(len(NC_ProbAD_table_pairedlists5_bothdiagsremoved)):\n",
    "    row=NC_ProbAD_table_pairedlists5_bothdiagsremoved.iloc[i]\n",
    "    if row['binary_diag']==0:\n",
    "        NC_dd_scores+=[row['dd_score_reps_removed']]\n",
    "    elif row['binary_diag']==1:\n",
    "        AD_dd_scores+=[row['dd_score_reps_removed']]\n",
    "        \n",
    "print('mean control score:', np.mean(NC_dd_scores))\n",
    "print('mean ProbAD score:', np.mean(AD_dd_scores))\n",
    "print('t-test:', scipy.stats.ttest_ind(NC_dd_scores,AD_dd_scores, equal_var=False))\n",
    "df_rp = NC_ProbAD_table_pairedlists5_bothdiagsremoved.copy()\n",
    "rp.ttest(group1= df_rp['dd_score_reps_removed'][df_rp['binary_diag'] == 0], group1_name= \"NC\",\n",
    "         group2= df_rp['dd_score_reps_removed'][df_rp['binary_diag'] == 1], group2_name= \"AD\",\n",
    "        equal_variances=False)\n"
   ]
  },
  {
   "cell_type": "markdown",
   "metadata": {
    "heading_collapsed": true
   },
   "source": [
    "### average length of list score (with repeats removed)"
   ]
  },
  {
   "cell_type": "code",
   "execution_count": 39,
   "metadata": {
    "hidden": true
   },
   "outputs": [
    {
     "name": "stdout",
     "output_type": "stream",
     "text": [
      "mean control score: 19.551948051948052\n",
      "mean ProbAD score: 12.5375\n",
      "t-test: Ttest_indResult(statistic=10.08910693364162, pvalue=1.7283579962725939e-15)\n"
     ]
    },
    {
     "data": {
      "text/plain": [
       "(   Variable      N       Mean        SD        SE  95% Conf.   Interval\n",
       " 0        NC   77.0  19.551948  3.353694  0.382189  18.790753  20.313143\n",
       " 1        AD   40.0  12.537500  3.673166  0.580779  11.362765  13.712235\n",
       " 2  combined  117.0  17.153846  4.803223  0.444058  16.274333  18.033359,\n",
       "               Welch's t-test  results\n",
       " 0    Difference (NC - AD) =    7.0144\n",
       " 1      Degrees of freedom =   73.0605\n",
       " 2                       t =   10.0891\n",
       " 3   Two side test p value =    0.0000\n",
       " 4  Difference < 0 p value =    1.0000\n",
       " 5  Difference > 0 p value =    0.0000\n",
       " 6               Cohen's d =    1.9664\n",
       " 7               Hedge's g =    1.9535\n",
       " 8           Glass's delta =    2.0916\n",
       " 9                       r =    0.7630)"
      ]
     },
     "execution_count": 39,
     "metadata": {},
     "output_type": "execute_result"
    }
   ],
   "source": [
    "# avg listlen (reps removed); for list pairs \n",
    "NC_avg_listlen=[]\n",
    "AD_avg_listlen=[]\n",
    "for i in range(len(NC_ProbAD_table_pairedlists5_bothdiagsremoved)):\n",
    "    row=NC_ProbAD_table_pairedlists5_bothdiagsremoved.iloc[i]\n",
    "    if row['binary_diag']==0:\n",
    "        NC_avg_listlen+=[row['avg_listlen_reps_removed']]\n",
    "    elif row['binary_diag']==1:\n",
    "        AD_avg_listlen+=[row['avg_listlen_reps_removed']]\n",
    "        \n",
    "print('mean control score:', np.mean(NC_avg_listlen))\n",
    "print('mean ProbAD score:', np.mean(AD_avg_listlen))\n",
    "# print(len(NC_avg_listlen))\n",
    "# print(len(AD_avg_listlen))\n",
    "print('t-test:', scipy.stats.ttest_ind(NC_avg_listlen, AD_avg_listlen, equal_var=False))\n",
    "df_rp = NC_ProbAD_table_pairedlists5_bothdiagsremoved.copy()\n",
    "rp.ttest(group1= df_rp['avg_listlen_reps_removed'][df_rp['binary_diag'] == 0], group1_name= \"NC\",\n",
    "         group2= df_rp['avg_listlen_reps_removed'][df_rp['binary_diag'] == 1], group2_name= \"AD\",\n",
    "        equal_variances=False)\n"
   ]
  },
  {
   "cell_type": "markdown",
   "metadata": {
    "heading_collapsed": true
   },
   "source": [
    "### repetitions score: proportion of items in a list that are repeated "
   ]
  },
  {
   "cell_type": "code",
   "execution_count": 40,
   "metadata": {
    "hidden": true
   },
   "outputs": [
    {
     "name": "stdout",
     "output_type": "stream",
     "text": [
      "mean control score: 0.019873185499442378\n",
      "mean ProbAD score: 0.09032900478565271\n",
      "t-test: Ttest_indResult(statistic=-5.034902544868928, pvalue=9.007742547492986e-06)\n"
     ]
    },
    {
     "data": {
      "text/plain": [
       "(   Variable      N      Mean        SD        SE  95% Conf.  Interval\n",
       " 0        NC   77.0  0.019873  0.027123  0.003091   0.013717  0.026029\n",
       " 1        AD   40.0  0.090329  0.086316  0.013648   0.062724  0.117934\n",
       " 2  combined  117.0  0.043961  0.064136  0.005929   0.032217  0.055705,\n",
       "               Welch's t-test  results\n",
       " 0    Difference (NC - AD) =   -0.0705\n",
       " 1      Degrees of freedom =   43.0455\n",
       " 2                       t =   -5.0349\n",
       " 3   Two side test p value =    0.0000\n",
       " 4  Difference < 0 p value =    0.0000\n",
       " 5  Difference > 0 p value =    1.0000\n",
       " 6               Cohen's d =   -0.9813\n",
       " 7               Hedge's g =   -0.9749\n",
       " 8           Glass's delta =   -2.5976\n",
       " 9                       r =    0.6088)"
      ]
     },
     "execution_count": 40,
     "metadata": {},
     "output_type": "execute_result"
    }
   ],
   "source": [
    "NC_avg_prop_reps=[]\n",
    "AD_avg_prop_reps=[]\n",
    "for i in range(len(NC_ProbAD_table_pairedlists5_bothdiagsremoved)):\n",
    "    row=NC_ProbAD_table_pairedlists5_bothdiagsremoved.iloc[i]\n",
    "    if row['binary_diag']==0:\n",
    "        NC_avg_prop_reps+=[row['avg_prop_reps']]\n",
    "    elif row['binary_diag']==1:\n",
    "        AD_avg_prop_reps+=[row['avg_prop_reps']]\n",
    "        \n",
    "print('mean control score:', np.mean(NC_avg_prop_reps))\n",
    "print('mean ProbAD score:', np.mean(AD_avg_prop_reps))\n",
    "print('t-test:', scipy.stats.ttest_ind(NC_avg_prop_reps, AD_avg_prop_reps, equal_var=False))\n",
    "df_rp = NC_ProbAD_table_pairedlists5_bothdiagsremoved.copy()\n",
    "rp.ttest(group1= df_rp['avg_prop_reps'][df_rp['binary_diag'] == 0], group1_name= \"NC\",\n",
    "         group2= df_rp['avg_prop_reps'][df_rp['binary_diag'] == 1], group2_name= \"AD\",\n",
    "        equal_variances=False)\n"
   ]
  },
  {
   "cell_type": "markdown",
   "metadata": {
    "heading_collapsed": true
   },
   "source": [
    "### number of intrusions"
   ]
  },
  {
   "cell_type": "code",
   "execution_count": 41,
   "metadata": {
    "hidden": true
   },
   "outputs": [
    {
     "name": "stdout",
     "output_type": "stream",
     "text": [
      "mean control score: 0.14285714285714285\n",
      "mean ProbAD score: 0.4\n",
      "t-test: Ttest_indResult(statistic=-2.134201768764779, pvalue=0.037614602269847794)\n"
     ]
    },
    {
     "data": {
      "text/plain": [
       "(   Variable      N      Mean        SD        SE  95% Conf.  Interval\n",
       " 0        NC   77.0  0.142857  0.387783  0.044192   0.054841  0.230873\n",
       " 1        AD   40.0  0.400000  0.708918  0.112090   0.173277  0.626723\n",
       " 2  combined  117.0  0.230769  0.531501  0.049137   0.133447  0.328092,\n",
       "               Welch's t-test  results\n",
       " 0    Difference (NC - AD) =   -0.2571\n",
       " 1      Degrees of freedom =   51.4288\n",
       " 2                       t =   -2.1342\n",
       " 3   Two side test p value =    0.0376\n",
       " 4  Difference < 0 p value =    0.0188\n",
       " 5  Difference > 0 p value =    0.9812\n",
       " 6               Cohen's d =   -0.4160\n",
       " 7               Hedge's g =   -0.4132\n",
       " 8           Glass's delta =   -0.6631\n",
       " 9                       r =    0.2852)"
      ]
     },
     "execution_count": 41,
     "metadata": {},
     "output_type": "execute_result"
    }
   ],
   "source": [
    "NC_num_intrusions=[]\n",
    "AD_num_intrusions=[]\n",
    "for i in range(len(NC_ProbAD_table_pairedlists5_bothdiagsremoved)):\n",
    "    row=NC_ProbAD_table_pairedlists5_bothdiagsremoved.iloc[i]\n",
    "    if row['binary_diag']==0:\n",
    "        NC_num_intrusions+=[row['num_intrusions']]\n",
    "    elif row['binary_diag']==1:\n",
    "        AD_num_intrusions+=[row['num_intrusions']]\n",
    "        \n",
    "print('mean control score:', np.mean(NC_num_intrusions))\n",
    "print('mean ProbAD score:', np.mean(AD_num_intrusions))\n",
    "print('t-test:',scipy.stats.ttest_ind(NC_num_intrusions, AD_num_intrusions, equal_var=False))\n",
    "df_rp = NC_ProbAD_table_pairedlists5_bothdiagsremoved.copy()\n",
    "rp.ttest(group1= df_rp['num_intrusions'][df_rp['binary_diag'] == 0], group1_name= \"NC\",\n",
    "         group2= df_rp['num_intrusions'][df_rp['binary_diag'] == 1], group2_name= \"AD\",\n",
    "        equal_variances=False)"
   ]
  },
  {
   "cell_type": "code",
   "execution_count": null,
   "metadata": {
    "hidden": true
   },
   "outputs": [],
   "source": []
  },
  {
   "cell_type": "code",
   "execution_count": null,
   "metadata": {
    "hidden": true
   },
   "outputs": [],
   "source": []
  },
  {
   "cell_type": "code",
   "execution_count": null,
   "metadata": {
    "hidden": true
   },
   "outputs": [],
   "source": []
  },
  {
   "cell_type": "code",
   "execution_count": null,
   "metadata": {
    "hidden": true
   },
   "outputs": [],
   "source": []
  }
 ],
 "metadata": {
  "kernelspec": {
   "display_name": "Python 3",
   "language": "python",
   "name": "python3"
  },
  "language_info": {
   "codemirror_mode": {
    "name": "ipython",
    "version": 3
   },
   "file_extension": ".py",
   "mimetype": "text/x-python",
   "name": "python",
   "nbconvert_exporter": "python",
   "pygments_lexer": "ipython3",
   "version": "3.7.7"
  },
  "varInspector": {
   "cols": {
    "lenName": 16,
    "lenType": 16,
    "lenVar": 40
   },
   "kernels_config": {
    "python": {
     "delete_cmd_postfix": "",
     "delete_cmd_prefix": "del ",
     "library": "var_list.py",
     "varRefreshCmd": "print(var_dic_list())"
    },
    "r": {
     "delete_cmd_postfix": ") ",
     "delete_cmd_prefix": "rm(",
     "library": "var_list.r",
     "varRefreshCmd": "cat(var_dic_list()) "
    }
   },
   "types_to_exclude": [
    "module",
    "function",
    "builtin_function_or_method",
    "instance",
    "_Feature"
   ],
   "window_display": false
  }
 },
 "nbformat": 4,
 "nbformat_minor": 2
}
