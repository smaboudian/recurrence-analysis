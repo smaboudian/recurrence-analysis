{
 "cells": [
  {
   "cell_type": "code",
   "execution_count": 1,
   "metadata": {},
   "outputs": [],
   "source": [
    "import csv\n",
    "import numpy as np\n",
    "import random\n",
    "\n",
    "import pandas as pd\n",
    "from ast import literal_eval\n",
    "\n",
    "import sklearn\n",
    "from sklearn.linear_model import LogisticRegression\n",
    "import scipy\n",
    "\n",
    "import statsmodels.api as sm\n",
    "import patsy \n"
   ]
  },
  {
   "cell_type": "code",
   "execution_count": null,
   "metadata": {},
   "outputs": [],
   "source": []
  },
  {
   "cell_type": "markdown",
   "metadata": {
    "heading_collapsed": true
   },
   "source": [
    "# UCSD Data "
   ]
  },
  {
   "cell_type": "code",
   "execution_count": 2,
   "metadata": {
    "hidden": true
   },
   "outputs": [
    {
     "data": {
      "text/html": [
       "<div>\n",
       "<style scoped>\n",
       "    .dataframe tbody tr th:only-of-type {\n",
       "        vertical-align: middle;\n",
       "    }\n",
       "\n",
       "    .dataframe tbody tr th {\n",
       "        vertical-align: top;\n",
       "    }\n",
       "\n",
       "    .dataframe thead th {\n",
       "        text-align: right;\n",
       "    }\n",
       "</style>\n",
       "<table border=\"1\" class=\"dataframe\">\n",
       "  <thead>\n",
       "    <tr style=\"text-align: right;\">\n",
       "      <th></th>\n",
       "      <th>id</th>\n",
       "      <th>listnum</th>\n",
       "      <th>group</th>\n",
       "      <th>SEX</th>\n",
       "      <th>EDUC</th>\n",
       "      <th>DRS</th>\n",
       "      <th>MMSE</th>\n",
       "      <th>category</th>\n",
       "      <th>rank</th>\n",
       "      <th>item</th>\n",
       "    </tr>\n",
       "  </thead>\n",
       "  <tbody>\n",
       "    <tr>\n",
       "      <th>0</th>\n",
       "      <td>5</td>\n",
       "      <td>4</td>\n",
       "      <td>NC</td>\n",
       "      <td>2</td>\n",
       "      <td>16</td>\n",
       "      <td>144</td>\n",
       "      <td>30</td>\n",
       "      <td>animals</td>\n",
       "      <td>1.0</td>\n",
       "      <td>[armadillo, horse, cow, goat, pig, rabbit, mou...</td>\n",
       "    </tr>\n",
       "    <tr>\n",
       "      <th>1</th>\n",
       "      <td>6</td>\n",
       "      <td>4</td>\n",
       "      <td>NC</td>\n",
       "      <td>1</td>\n",
       "      <td>19</td>\n",
       "      <td>144</td>\n",
       "      <td>30</td>\n",
       "      <td>animals</td>\n",
       "      <td>1.0</td>\n",
       "      <td>[mouse, rat, raccoon, dog, cat, elephant, cow,...</td>\n",
       "    </tr>\n",
       "    <tr>\n",
       "      <th>2</th>\n",
       "      <td>93</td>\n",
       "      <td>1</td>\n",
       "      <td>NC</td>\n",
       "      <td>2</td>\n",
       "      <td>14</td>\n",
       "      <td>143</td>\n",
       "      <td>30</td>\n",
       "      <td>animals</td>\n",
       "      <td>1.0</td>\n",
       "      <td>[dog, cat, ape, elephant, monkey, chimpanzee, ...</td>\n",
       "    </tr>\n",
       "    <tr>\n",
       "      <th>3</th>\n",
       "      <td>93</td>\n",
       "      <td>2</td>\n",
       "      <td>NC</td>\n",
       "      <td>2</td>\n",
       "      <td>14</td>\n",
       "      <td>138</td>\n",
       "      <td>26</td>\n",
       "      <td>animals</td>\n",
       "      <td>1.0</td>\n",
       "      <td>[owl, rhinoceros, buffalo, horse, dog, cat, el...</td>\n",
       "    </tr>\n",
       "    <tr>\n",
       "      <th>4</th>\n",
       "      <td>93</td>\n",
       "      <td>3</td>\n",
       "      <td>NC</td>\n",
       "      <td>2</td>\n",
       "      <td>14</td>\n",
       "      <td>143</td>\n",
       "      <td>30</td>\n",
       "      <td>animals</td>\n",
       "      <td>1.0</td>\n",
       "      <td>[dog, rat, camel, horse, cat, ferret, hamster,...</td>\n",
       "    </tr>\n",
       "  </tbody>\n",
       "</table>\n",
       "</div>"
      ],
      "text/plain": [
       "   id  listnum group  SEX  EDUC  DRS  MMSE category  rank  \\\n",
       "0   5        4    NC    2    16  144    30  animals   1.0   \n",
       "1   6        4    NC    1    19  144    30  animals   1.0   \n",
       "2  93        1    NC    2    14  143    30  animals   1.0   \n",
       "3  93        2    NC    2    14  138    26  animals   1.0   \n",
       "4  93        3    NC    2    14  143    30  animals   1.0   \n",
       "\n",
       "                                                item  \n",
       "0  [armadillo, horse, cow, goat, pig, rabbit, mou...  \n",
       "1  [mouse, rat, raccoon, dog, cat, elephant, cow,...  \n",
       "2  [dog, cat, ape, elephant, monkey, chimpanzee, ...  \n",
       "3  [owl, rhinoceros, buffalo, horse, dog, cat, el...  \n",
       "4  [dog, rat, camel, horse, cat, ferret, hamster,...  "
      ]
     },
     "execution_count": 2,
     "metadata": {},
     "output_type": "execute_result"
    }
   ],
   "source": [
    "# import cleaned fluency data\n",
    "# original data (before cleaning) downloaded from https://osf.io/j6qea/ (Zemla & Austerweil, 2019)\n",
    "all_ucsd_lists_table = pd.read_csv(\n",
    "    \"/Users/sam/neuroecon/MBC/fluency_data/UCSD_Zemla_Data/ucsd_fluency_cleaned.csv\", \n",
    "    converters={'item': eval})\n",
    "all_ucsd_lists_table.head()"
   ]
  },
  {
   "cell_type": "code",
   "execution_count": 3,
   "metadata": {
    "hidden": true,
    "scrolled": true
   },
   "outputs": [
    {
     "name": "stdout",
     "output_type": "stream",
     "text": [
      "if you have the right table, the the following number should be 208: 208\n"
     ]
    }
   ],
   "source": [
    "# check how many items are not in animal category\n",
    "# animals list adapted from https://gist.github.com/atduskgreg/3cf8ef48cb0d29cf151bedad81553a54#file-animals-txt\n",
    "with open('animal.txt', 'r') as f:\n",
    "    animal_list = [line.strip() for line in f]\n",
    "    \n",
    "animal_list_lowercase = [str.lower(a) for a in animal_list]\n",
    "\n",
    "not_in_animal_list = []\n",
    "\n",
    "for i in range(len(all_ucsd_lists_table)):\n",
    "    list_i=all_ucsd_lists_table.iloc[i][-1] \n",
    "    for animal_j in list_i:\n",
    "        if animal_j not in animal_list_lowercase:\n",
    "            not_in_animal_list += [animal_j]\n",
    "print('if you have the right table, the the following number should be 208:', len(not_in_animal_list))\n",
    "#**"
   ]
  },
  {
   "cell_type": "code",
   "execution_count": 4,
   "metadata": {
    "hidden": true,
    "scrolled": true
   },
   "outputs": [],
   "source": [
    "# tables split by diagnosis\n",
    "NC_table = all_ucsd_lists_table.loc[\n",
    "    all_ucsd_lists_table['group'] == 'NC']\n",
    "ProbAD_table = all_ucsd_lists_table.loc[\n",
    "    all_ucsd_lists_table['group'] == 'ProbAD']\n",
    "MCI_table = all_ucsd_lists_table.loc[\n",
    "    all_ucsd_lists_table['group'] == 'MCI']\n",
    "MCI4a_table = all_ucsd_lists_table.loc[\n",
    "    all_ucsd_lists_table['group'] == 'MCI-4a']\n",
    "MCI4b_table = all_ucsd_lists_table.loc[\n",
    "    all_ucsd_lists_table['group'] == 'MCI-4b']\n",
    "MCI4c_table = all_ucsd_lists_table.loc[\n",
    "    all_ucsd_lists_table['group'] == 'MCI-4c']\n",
    "MCI4d_table = all_ucsd_lists_table.loc[\n",
    "    all_ucsd_lists_table['group'] == 'MCI-4d']\n",
    "POSSIBLEAD_table = all_ucsd_lists_table.loc[\n",
    "    all_ucsd_lists_table['group'] == 'POSSIBLEAD']\n",
    "all_MCI_table = all_ucsd_lists_table[\n",
    "    all_ucsd_lists_table['group'].isin(['MCI','MCI-4a','MCI-4b','MCI-4c', 'MCI-4d'])]\n",
    "\n",
    "\n",
    "# IDs split by diagnosis\n",
    "NC_ids = list(set(list(NC_table['id'])))\n",
    "ProbAD_ids = list(set(list(ProbAD_table['id'])))\n",
    "MCI_ids = list(set(list(MCI_table['id'])))\n",
    "all_MCIs_ids = list(set(\n",
    "    list(MCI_table['id']) + list(MCI4a_table['id'])\n",
    "    + list(MCI4b_table['id']) + list(MCI4c_table['id'])\n",
    "    + list(MCI4d_table['id'])))\n",
    "POSSIBLEAD_ids = list(set(list(POSSIBLEAD_table['id'])))\n",
    "\n",
    "#Combined IDs:\n",
    "NC_and_ProbAD_ids = [i for i in NC_ids if i in ProbAD_ids]\n",
    "NC_and_MCIs_ids = [i for i in NC_ids if i in all_MCIs_ids]\n",
    "NC_MCIs_and_ProbAD_ids = [i for i in NC_ids if (i in ProbAD_ids and i in all_MCIs_ids)]\n",
    "NC_and_POSSIBLEAD_ids = [i for i in NC_ids if i in POSSIBLEAD_ids]\n",
    "NC_MCIs_POSSIBLEAD_ProbAD_ids = [i for i in NC_and_POSSIBLEAD_ids if i in NC_MCIs_and_ProbAD_ids]"
   ]
  },
  {
   "cell_type": "markdown",
   "metadata": {},
   "source": [
    "# demographics "
   ]
  },
  {
   "cell_type": "markdown",
   "metadata": {
    "heading_collapsed": true
   },
   "source": [
    "### number of unique IDs (participants) total"
   ]
  },
  {
   "cell_type": "code",
   "execution_count": 5,
   "metadata": {
    "hidden": true
   },
   "outputs": [
    {
     "data": {
      "text/plain": [
       "139"
      ]
     },
     "execution_count": 5,
     "metadata": {},
     "output_type": "execute_result"
    }
   ],
   "source": [
    "# number of participants\n",
    "len(list(set(list(all_ucsd_lists_table['id']))))"
   ]
  },
  {
   "cell_type": "code",
   "execution_count": 6,
   "metadata": {
    "hidden": true
   },
   "outputs": [
    {
     "name": "stdout",
     "output_type": "stream",
     "text": [
      "19\n"
     ]
    }
   ],
   "source": [
    "# how many subjects have both healthy control & AD diagnosis\n",
    "print(len(NC_and_ProbAD_ids))"
   ]
  },
  {
   "cell_type": "markdown",
   "metadata": {
    "heading_collapsed": true
   },
   "source": [
    "### number of unique IDs, by diagnosis"
   ]
  },
  {
   "cell_type": "code",
   "execution_count": 7,
   "metadata": {
    "hidden": true
   },
   "outputs": [
    {
     "data": {
      "text/html": [
       "<div>\n",
       "<style scoped>\n",
       "    .dataframe tbody tr th:only-of-type {\n",
       "        vertical-align: middle;\n",
       "    }\n",
       "\n",
       "    .dataframe tbody tr th {\n",
       "        vertical-align: top;\n",
       "    }\n",
       "\n",
       "    .dataframe thead th {\n",
       "        text-align: right;\n",
       "    }\n",
       "</style>\n",
       "<table border=\"1\" class=\"dataframe\">\n",
       "  <thead>\n",
       "    <tr style=\"text-align: right;\">\n",
       "      <th></th>\n",
       "      <th>count</th>\n",
       "    </tr>\n",
       "    <tr>\n",
       "      <th>group</th>\n",
       "      <th></th>\n",
       "    </tr>\n",
       "  </thead>\n",
       "  <tbody>\n",
       "    <tr>\n",
       "      <th>AMNESTICSYNDROME</th>\n",
       "      <td>1</td>\n",
       "    </tr>\n",
       "    <tr>\n",
       "      <th>ATRISKFORAD</th>\n",
       "      <td>10</td>\n",
       "    </tr>\n",
       "    <tr>\n",
       "      <th>ATRISKFORMID</th>\n",
       "      <td>2</td>\n",
       "    </tr>\n",
       "    <tr>\n",
       "      <th>DLB</th>\n",
       "      <td>1</td>\n",
       "    </tr>\n",
       "    <tr>\n",
       "      <th>FTD</th>\n",
       "      <td>1</td>\n",
       "    </tr>\n",
       "    <tr>\n",
       "      <th>ImpairednoMCI</th>\n",
       "      <td>3</td>\n",
       "    </tr>\n",
       "    <tr>\n",
       "      <th>LEWYBODYVARNT</th>\n",
       "      <td>4</td>\n",
       "    </tr>\n",
       "    <tr>\n",
       "      <th>MCI</th>\n",
       "      <td>8</td>\n",
       "    </tr>\n",
       "    <tr>\n",
       "      <th>MCI-4a</th>\n",
       "      <td>2</td>\n",
       "    </tr>\n",
       "    <tr>\n",
       "      <th>MCI-4b</th>\n",
       "      <td>3</td>\n",
       "    </tr>\n",
       "    <tr>\n",
       "      <th>MCI-4c</th>\n",
       "      <td>1</td>\n",
       "    </tr>\n",
       "    <tr>\n",
       "      <th>MCI-4d</th>\n",
       "      <td>4</td>\n",
       "    </tr>\n",
       "    <tr>\n",
       "      <th>MILDNEUROCOGNITIVEDISORDER</th>\n",
       "      <td>6</td>\n",
       "    </tr>\n",
       "    <tr>\n",
       "      <th>MIXED/VASCULAR+AD</th>\n",
       "      <td>1</td>\n",
       "    </tr>\n",
       "    <tr>\n",
       "      <th>NC</th>\n",
       "      <td>97</td>\n",
       "    </tr>\n",
       "    <tr>\n",
       "      <th>NCPD</th>\n",
       "      <td>2</td>\n",
       "    </tr>\n",
       "    <tr>\n",
       "      <th>OTHERCNSDX</th>\n",
       "      <td>2</td>\n",
       "    </tr>\n",
       "    <tr>\n",
       "      <th>POSSIBLEAD</th>\n",
       "      <td>10</td>\n",
       "    </tr>\n",
       "    <tr>\n",
       "      <th>PSEUDODEMENTIA/DEPRESSION</th>\n",
       "      <td>1</td>\n",
       "    </tr>\n",
       "    <tr>\n",
       "      <th>ProbAD</th>\n",
       "      <td>61</td>\n",
       "    </tr>\n",
       "  </tbody>\n",
       "</table>\n",
       "</div>"
      ],
      "text/plain": [
       "                            count\n",
       "group                            \n",
       "AMNESTICSYNDROME                1\n",
       "ATRISKFORAD                    10\n",
       "ATRISKFORMID                    2\n",
       "DLB                             1\n",
       "FTD                             1\n",
       "ImpairednoMCI                   3\n",
       "LEWYBODYVARNT                   4\n",
       "MCI                             8\n",
       "MCI-4a                          2\n",
       "MCI-4b                          3\n",
       "MCI-4c                          1\n",
       "MCI-4d                          4\n",
       "MILDNEUROCOGNITIVEDISORDER      6\n",
       "MIXED/VASCULAR+AD               1\n",
       "NC                             97\n",
       "NCPD                            2\n",
       "OTHERCNSDX                      2\n",
       "POSSIBLEAD                     10\n",
       "PSEUDODEMENTIA/DEPRESSION       1\n",
       "ProbAD                         61"
      ]
     },
     "execution_count": 7,
     "metadata": {},
     "output_type": "execute_result"
    }
   ],
   "source": [
    "# num of subjects total = num rows \n",
    "pivot_byID_list_table = all_ucsd_lists_table.pivot(index='id', columns='listnum', values='item')   \n",
    "\n",
    "\n",
    "# number of subjects per group\n",
    "pivot_byGroup_IDcount_table = all_ucsd_lists_table.pivot_table(index='group', \n",
    "                                                             aggfunc=lambda x: len(x.dropna().unique()))  \n",
    "pivot_byGroup_IDcount_table\n",
    "# id column gives num of subjects per group\n",
    "diag_table = pivot_byGroup_IDcount_table[['category','id']]\n",
    "\n",
    "del diag_table['category']\n",
    "diag_table.rename(columns={'id': 'count'})"
   ]
  },
  {
   "cell_type": "markdown",
   "metadata": {
    "heading_collapsed": true
   },
   "source": [
    "### number of unique IDs, by sex"
   ]
  },
  {
   "cell_type": "code",
   "execution_count": 8,
   "metadata": {
    "hidden": true
   },
   "outputs": [
    {
     "name": "stdout",
     "output_type": "stream",
     "text": [
      "56 male\n",
      "83 female\n",
      "59.71223021582733 % female\n"
     ]
    }
   ],
   "source": [
    "Sex1_table = all_ucsd_lists_table.loc[all_ucsd_lists_table['SEX'] == 1]\n",
    "Sex1_IDs = list(set(list(Sex1_table['id'])))\n",
    "print(len(Sex1_IDs), 'male')\n",
    "\n",
    "Sex2_table = all_ucsd_lists_table.loc[all_ucsd_lists_table['SEX'] == 2]\n",
    "Sex2_IDs = list(set(list(Sex2_table['id'])))\n",
    "print(len(Sex2_IDs), 'female')\n",
    "\n",
    "print(len(Sex2_IDs)/(len(Sex1_IDs)+len(Sex2_IDs))*100, '% female')"
   ]
  },
  {
   "cell_type": "markdown",
   "metadata": {
    "heading_collapsed": true
   },
   "source": [
    "### number of fluency lists, by diagnosis"
   ]
  },
  {
   "cell_type": "code",
   "execution_count": 9,
   "metadata": {
    "hidden": true
   },
   "outputs": [
    {
     "data": {
      "text/plain": [
       "1167"
      ]
     },
     "execution_count": 9,
     "metadata": {},
     "output_type": "execute_result"
    }
   ],
   "source": [
    "# total number of fluency lists\n",
    "len(all_ucsd_lists_table)"
   ]
  },
  {
   "cell_type": "code",
   "execution_count": 10,
   "metadata": {
    "hidden": true
   },
   "outputs": [
    {
     "name": "stdout",
     "output_type": "stream",
     "text": [
      "785 Healthy control lists\n",
      "282 ProbAD lists\n",
      "100 other diagnoses lists\n"
     ]
    }
   ],
   "source": [
    "#  number of fluency lists by diagnostic group\n",
    "print(len(NC_table), 'Healthy control lists')\n",
    "print(len(ProbAD_table), 'ProbAD lists')\n",
    "print(1167-len(NC_table )-len(ProbAD_table), 'other diagnoses lists')"
   ]
  },
  {
   "cell_type": "markdown",
   "metadata": {
    "heading_collapsed": true
   },
   "source": [
    "### MMSE scores, by diagnostic group"
   ]
  },
  {
   "cell_type": "code",
   "execution_count": 11,
   "metadata": {
    "hidden": true
   },
   "outputs": [
    {
     "name": "stdout",
     "output_type": "stream",
     "text": [
      "28.94904458598726 mean MMSE for healthy controls\n",
      "22.20921985815603 mean MMSE for ProbAD\n",
      "t-test results (healthy controls vs ProbAD):\n",
      "Ttest_indResult(statistic=26.33098010046977, pvalue=4.350916004306748e-118)\n"
     ]
    }
   ],
   "source": [
    "def MMSE(table):\n",
    "    MMSEs = []\n",
    "    for i in range(len(table)):\n",
    "        MMSE_i=table.iloc[i]['MMSE']\n",
    "        MMSEs += [MMSE_i]\n",
    "    return np.mean(MMSEs),MMSEs\n",
    "\n",
    "print(MMSE(NC_table)[0], 'mean MMSE for healthy controls') \n",
    "print(MMSE(ProbAD_table)[0], 'mean MMSE for ProbAD') \n",
    "#print(MMSE(all_ucsd_lists_table)[0], 'mean MMSE overall') \n",
    "\n",
    "print('t-test results (healthy controls vs ProbAD):')\n",
    "print(scipy.stats.ttest_ind(MMSE(NC_table)[1], MMSE(ProbAD_table)[1]))\n"
   ]
  },
  {
   "cell_type": "code",
   "execution_count": null,
   "metadata": {
    "hidden": true
   },
   "outputs": [],
   "source": []
  },
  {
   "cell_type": "code",
   "execution_count": null,
   "metadata": {
    "hidden": true
   },
   "outputs": [],
   "source": []
  },
  {
   "cell_type": "code",
   "execution_count": null,
   "metadata": {
    "hidden": true
   },
   "outputs": [],
   "source": []
  },
  {
   "cell_type": "markdown",
   "metadata": {},
   "source": [
    "# analyses"
   ]
  },
  {
   "cell_type": "markdown",
   "metadata": {
    "heading_collapsed": true
   },
   "source": [
    "### relevant functions"
   ]
  },
  {
   "cell_type": "code",
   "execution_count": 12,
   "metadata": {
    "hidden": true
   },
   "outputs": [],
   "source": [
    "def dist_from_diag_score(seqx, seqy):\n",
    "    \"\"\"\n",
    "    calculates \"distance from diagonal\" score for two sequences\n",
    "    ---\n",
    "    Parameters:\n",
    "    seqx: the first sequence (x-axis of the dot plot)\n",
    "    seqx: the second sequence (y-axis of the dot plot)\n",
    "    ---\n",
    "    Returns:\n",
    "    distance from diagonal score\n",
    "    \"\"\"\n",
    "    seqx_noblank = [e for e in seqx if str(e)!='nan']\n",
    "    seqy_noblank = [f for f in seqy if str(f)!='nan']\n",
    "    dotplot = np.array(makeMatrix(seqy_noblank,seqx_noblank,1))\n",
    "    score = 0\n",
    "    for j in range(len(dotplot)):\n",
    "        for k in range(len(dotplot[j])):\n",
    "            score += dotplot[j][k]*np.abs((j+1)-(k+1))\n",
    "    return score"
   ]
  },
  {
   "cell_type": "code",
   "execution_count": 13,
   "metadata": {
    "hidden": true
   },
   "outputs": [],
   "source": [
    "def num_intrusions(list_i, category_list_of_items):\n",
    "    \"\"\"\n",
    "    returns number of items in a list that are intrusions \n",
    "    (i.e. not in the correct category, which is also given as a list of items)\n",
    "    ---\n",
    "    Parameters:\n",
    "    list_i: the list to check for intrusions\n",
    "    dictionary_of_items: a list of items not considered in intrusions (considered correct for the category)\n",
    "    \"\"\" \n",
    "    intruded_items = []\n",
    "    for item in list_i:\n",
    "        if item not in category_list_of_items:  #use animal_list_lowercase as dict\n",
    "            intruded_items += [item]\n",
    "    return len(intruded_items)\n",
    "    \n",
    "def num_reps(list_i):\n",
    "    \"\"\"\n",
    "    returns number of repeated items in a list \n",
    "    ---\n",
    "    Parameters:\n",
    "    list_i: the list to check for repeats\n",
    "    \"\"\" \n",
    "    return len(list_i)-len(set(list_i))\n",
    "\n",
    "        \n",
    "def remove_reps(seq): \n",
    "    # order preserving\n",
    "    \"\"\"\n",
    "    removes repeated items from a list, while preserving order \n",
    "    ---\n",
    "    Parameters:\n",
    "    seq: the list to remove repeats from\n",
    "    ---\n",
    "    Returns:\n",
    "    a list with any repeated instances of any values removed, preserving initial order (and 1st incidence of each item)\n",
    "    \"\"\" \n",
    "    checked = []\n",
    "    for e in seq:\n",
    "        if e not in checked:\n",
    "            checked.append(e)\n",
    "    return checked"
   ]
  },
  {
   "cell_type": "code",
   "execution_count": 14,
   "metadata": {
    "hidden": true
   },
   "outputs": [],
   "source": [
    "# basic dot plot fxns \n",
    "\n",
    "def delta(x,y):\n",
    "    return 1 if x == y and x!= 'nan' and y!='nan' else 0\n",
    "\n",
    "def M(seq1,seq2,i,j,k):\n",
    "    return sum(delta(x,y) for x,y in zip(seq1[i:i+k],seq2[j:j+k]))\n",
    "\n",
    "def makeMatrix(seq1,seq2,k):\n",
    "    n = len(seq1)\n",
    "    m = len(seq2)\n",
    "    return [[M(seq1,seq2,i,j,k) for j in range(m-k+1)] for i in range(n-k+1)]"
   ]
  },
  {
   "cell_type": "markdown",
   "metadata": {
    "heading_collapsed": true
   },
   "source": [
    "### preparing table for analysis"
   ]
  },
  {
   "cell_type": "code",
   "execution_count": 15,
   "metadata": {
    "hidden": true
   },
   "outputs": [
    {
     "data": {
      "text/html": [
       "<div>\n",
       "<style scoped>\n",
       "    .dataframe tbody tr th:only-of-type {\n",
       "        vertical-align: middle;\n",
       "    }\n",
       "\n",
       "    .dataframe tbody tr th {\n",
       "        vertical-align: top;\n",
       "    }\n",
       "\n",
       "    .dataframe thead th {\n",
       "        text-align: right;\n",
       "    }\n",
       "</style>\n",
       "<table border=\"1\" class=\"dataframe\">\n",
       "  <thead>\n",
       "    <tr style=\"text-align: right;\">\n",
       "      <th></th>\n",
       "      <th>id</th>\n",
       "      <th>listnum</th>\n",
       "      <th>group</th>\n",
       "      <th>binary_diag</th>\n",
       "      <th>SEX</th>\n",
       "      <th>EDUC</th>\n",
       "      <th>DRS</th>\n",
       "      <th>MMSE</th>\n",
       "      <th>category</th>\n",
       "      <th>rank</th>\n",
       "      <th>item</th>\n",
       "      <th>listlen</th>\n",
       "    </tr>\n",
       "  </thead>\n",
       "  <tbody>\n",
       "    <tr>\n",
       "      <th>0</th>\n",
       "      <td>5</td>\n",
       "      <td>4</td>\n",
       "      <td>NC</td>\n",
       "      <td>0</td>\n",
       "      <td>2</td>\n",
       "      <td>16</td>\n",
       "      <td>144</td>\n",
       "      <td>30</td>\n",
       "      <td>animals</td>\n",
       "      <td>1.0</td>\n",
       "      <td>[armadillo, horse, cow, goat, pig, rabbit, mou...</td>\n",
       "      <td>19</td>\n",
       "    </tr>\n",
       "    <tr>\n",
       "      <th>1</th>\n",
       "      <td>6</td>\n",
       "      <td>4</td>\n",
       "      <td>NC</td>\n",
       "      <td>0</td>\n",
       "      <td>1</td>\n",
       "      <td>19</td>\n",
       "      <td>144</td>\n",
       "      <td>30</td>\n",
       "      <td>animals</td>\n",
       "      <td>1.0</td>\n",
       "      <td>[mouse, rat, raccoon, dog, cat, elephant, cow,...</td>\n",
       "      <td>22</td>\n",
       "    </tr>\n",
       "    <tr>\n",
       "      <th>2</th>\n",
       "      <td>93</td>\n",
       "      <td>1</td>\n",
       "      <td>NC</td>\n",
       "      <td>0</td>\n",
       "      <td>2</td>\n",
       "      <td>14</td>\n",
       "      <td>143</td>\n",
       "      <td>30</td>\n",
       "      <td>animals</td>\n",
       "      <td>1.0</td>\n",
       "      <td>[dog, cat, ape, elephant, monkey, chimpanzee, ...</td>\n",
       "      <td>20</td>\n",
       "    </tr>\n",
       "    <tr>\n",
       "      <th>3</th>\n",
       "      <td>93</td>\n",
       "      <td>2</td>\n",
       "      <td>NC</td>\n",
       "      <td>0</td>\n",
       "      <td>2</td>\n",
       "      <td>14</td>\n",
       "      <td>138</td>\n",
       "      <td>26</td>\n",
       "      <td>animals</td>\n",
       "      <td>1.0</td>\n",
       "      <td>[owl, rhinoceros, buffalo, horse, dog, cat, el...</td>\n",
       "      <td>19</td>\n",
       "    </tr>\n",
       "    <tr>\n",
       "      <th>4</th>\n",
       "      <td>93</td>\n",
       "      <td>3</td>\n",
       "      <td>NC</td>\n",
       "      <td>0</td>\n",
       "      <td>2</td>\n",
       "      <td>14</td>\n",
       "      <td>143</td>\n",
       "      <td>30</td>\n",
       "      <td>animals</td>\n",
       "      <td>1.0</td>\n",
       "      <td>[dog, rat, camel, horse, cat, ferret, hamster,...</td>\n",
       "      <td>19</td>\n",
       "    </tr>\n",
       "  </tbody>\n",
       "</table>\n",
       "</div>"
      ],
      "text/plain": [
       "   id  listnum group  binary_diag  SEX  EDUC  DRS  MMSE category  rank  \\\n",
       "0   5        4    NC            0    2    16  144    30  animals   1.0   \n",
       "1   6        4    NC            0    1    19  144    30  animals   1.0   \n",
       "2  93        1    NC            0    2    14  143    30  animals   1.0   \n",
       "3  93        2    NC            0    2    14  138    26  animals   1.0   \n",
       "4  93        3    NC            0    2    14  143    30  animals   1.0   \n",
       "\n",
       "                                                item  listlen  \n",
       "0  [armadillo, horse, cow, goat, pig, rabbit, mou...       19  \n",
       "1  [mouse, rat, raccoon, dog, cat, elephant, cow,...       22  \n",
       "2  [dog, cat, ape, elephant, monkey, chimpanzee, ...       20  \n",
       "3  [owl, rhinoceros, buffalo, horse, dog, cat, el...       19  \n",
       "4  [dog, rat, camel, horse, cat, ferret, hamster,...       19  "
      ]
     },
     "execution_count": 15,
     "metadata": {},
     "output_type": "execute_result"
    }
   ],
   "source": [
    "# make table with just healthy (normal) controls & ProbAD participants, removing other diagnoses\n",
    "\n",
    "NC_ProbAD_table = all_ucsd_lists_table[all_ucsd_lists_table['group'].isin(['NC', 'ProbAD'])]\n",
    "\n",
    "NC_or_ProbAD_diag = []\n",
    "for i in range(len(NC_ProbAD_table)):\n",
    "    row_i = NC_ProbAD_table.iloc[i]\n",
    "    diag_i = NC_ProbAD_table.iloc[i]['group']\n",
    "    if diag_i == 'NC':\n",
    "        NC_or_ProbAD_diag += [0]\n",
    "    elif diag_i == 'ProbAD':\n",
    "        NC_or_ProbAD_diag += [1]\n",
    "    else:\n",
    "        print('error: diagnosis is not NC or ProbAD')\n",
    "\n",
    "NC_or_ProbAD_listlen = [len(NC_ProbAD_table.iloc[i]['item']) for i in range(len(NC_ProbAD_table))]\n",
    "NC_ProbAD_table.insert(3, \"binary_diag\",NC_or_ProbAD_diag) \n",
    "NC_ProbAD_table.insert(len(NC_ProbAD_table.columns), \"listlen\",NC_or_ProbAD_listlen) \n",
    "NC_ProbAD_table.head()"
   ]
  },
  {
   "cell_type": "code",
   "execution_count": 16,
   "metadata": {
    "hidden": true
   },
   "outputs": [
    {
     "data": {
      "text/html": [
       "<div>\n",
       "<style scoped>\n",
       "    .dataframe tbody tr th:only-of-type {\n",
       "        vertical-align: middle;\n",
       "    }\n",
       "\n",
       "    .dataframe tbody tr th {\n",
       "        vertical-align: top;\n",
       "    }\n",
       "\n",
       "    .dataframe thead th {\n",
       "        text-align: right;\n",
       "    }\n",
       "</style>\n",
       "<table border=\"1\" class=\"dataframe\">\n",
       "  <thead>\n",
       "    <tr style=\"text-align: right;\">\n",
       "      <th></th>\n",
       "      <th>id</th>\n",
       "      <th>SEX</th>\n",
       "      <th>EDUC</th>\n",
       "      <th>DRS_avg</th>\n",
       "      <th>MMSE_avg</th>\n",
       "      <th>dd_score</th>\n",
       "      <th>sqrt_dd_score</th>\n",
       "      <th>dd_score^2</th>\n",
       "      <th>avg_listlen</th>\n",
       "      <th>len1-len2</th>\n",
       "      <th>avg_prop_intrusions</th>\n",
       "      <th>avg_prop_reps</th>\n",
       "      <th>len1_noreps</th>\n",
       "      <th>len2_noreps</th>\n",
       "      <th>avg_listlen_reps_removed</th>\n",
       "      <th>dd_score_reps_removed</th>\n",
       "      <th>sqrt_dd_score_reps_removed</th>\n",
       "      <th>binary_diag</th>\n",
       "      <th>rand_diag</th>\n",
       "    </tr>\n",
       "  </thead>\n",
       "  <tbody>\n",
       "    <tr>\n",
       "      <th>0</th>\n",
       "      <td>93</td>\n",
       "      <td>2</td>\n",
       "      <td>14</td>\n",
       "      <td>140.5</td>\n",
       "      <td>28.0</td>\n",
       "      <td>49</td>\n",
       "      <td>7.000000</td>\n",
       "      <td>2401</td>\n",
       "      <td>19.5</td>\n",
       "      <td>1</td>\n",
       "      <td>0.0</td>\n",
       "      <td>0.000000</td>\n",
       "      <td>20</td>\n",
       "      <td>19</td>\n",
       "      <td>19.5</td>\n",
       "      <td>49</td>\n",
       "      <td>7.000000</td>\n",
       "      <td>0</td>\n",
       "      <td>1</td>\n",
       "    </tr>\n",
       "    <tr>\n",
       "      <th>1</th>\n",
       "      <td>603</td>\n",
       "      <td>2</td>\n",
       "      <td>12</td>\n",
       "      <td>143.0</td>\n",
       "      <td>29.5</td>\n",
       "      <td>78</td>\n",
       "      <td>8.831761</td>\n",
       "      <td>6084</td>\n",
       "      <td>22.0</td>\n",
       "      <td>-8</td>\n",
       "      <td>0.0</td>\n",
       "      <td>0.000000</td>\n",
       "      <td>18</td>\n",
       "      <td>26</td>\n",
       "      <td>22.0</td>\n",
       "      <td>78</td>\n",
       "      <td>8.831761</td>\n",
       "      <td>0</td>\n",
       "      <td>1</td>\n",
       "    </tr>\n",
       "    <tr>\n",
       "      <th>2</th>\n",
       "      <td>610</td>\n",
       "      <td>1</td>\n",
       "      <td>12</td>\n",
       "      <td>136.0</td>\n",
       "      <td>28.5</td>\n",
       "      <td>33</td>\n",
       "      <td>5.744563</td>\n",
       "      <td>1089</td>\n",
       "      <td>16.5</td>\n",
       "      <td>3</td>\n",
       "      <td>0.0</td>\n",
       "      <td>0.066667</td>\n",
       "      <td>18</td>\n",
       "      <td>13</td>\n",
       "      <td>15.5</td>\n",
       "      <td>33</td>\n",
       "      <td>5.744563</td>\n",
       "      <td>0</td>\n",
       "      <td>1</td>\n",
       "    </tr>\n",
       "    <tr>\n",
       "      <th>3</th>\n",
       "      <td>617</td>\n",
       "      <td>1</td>\n",
       "      <td>16</td>\n",
       "      <td>136.5</td>\n",
       "      <td>29.0</td>\n",
       "      <td>53</td>\n",
       "      <td>7.280110</td>\n",
       "      <td>2809</td>\n",
       "      <td>20.0</td>\n",
       "      <td>-6</td>\n",
       "      <td>0.0</td>\n",
       "      <td>0.051151</td>\n",
       "      <td>16</td>\n",
       "      <td>22</td>\n",
       "      <td>19.0</td>\n",
       "      <td>46</td>\n",
       "      <td>6.782330</td>\n",
       "      <td>0</td>\n",
       "      <td>0</td>\n",
       "    </tr>\n",
       "    <tr>\n",
       "      <th>4</th>\n",
       "      <td>618</td>\n",
       "      <td>2</td>\n",
       "      <td>17</td>\n",
       "      <td>140.5</td>\n",
       "      <td>30.0</td>\n",
       "      <td>71</td>\n",
       "      <td>8.426150</td>\n",
       "      <td>5041</td>\n",
       "      <td>21.0</td>\n",
       "      <td>-4</td>\n",
       "      <td>0.0</td>\n",
       "      <td>0.026316</td>\n",
       "      <td>18</td>\n",
       "      <td>23</td>\n",
       "      <td>20.5</td>\n",
       "      <td>71</td>\n",
       "      <td>8.426150</td>\n",
       "      <td>0</td>\n",
       "      <td>0</td>\n",
       "    </tr>\n",
       "  </tbody>\n",
       "</table>\n",
       "</div>"
      ],
      "text/plain": [
       "    id  SEX  EDUC  DRS_avg  MMSE_avg  dd_score  sqrt_dd_score  dd_score^2  \\\n",
       "0   93    2    14    140.5      28.0        49       7.000000        2401   \n",
       "1  603    2    12    143.0      29.5        78       8.831761        6084   \n",
       "2  610    1    12    136.0      28.5        33       5.744563        1089   \n",
       "3  617    1    16    136.5      29.0        53       7.280110        2809   \n",
       "4  618    2    17    140.5      30.0        71       8.426150        5041   \n",
       "\n",
       "   avg_listlen  len1-len2  avg_prop_intrusions  avg_prop_reps  len1_noreps  \\\n",
       "0         19.5          1                  0.0       0.000000           20   \n",
       "1         22.0         -8                  0.0       0.000000           18   \n",
       "2         16.5          3                  0.0       0.066667           18   \n",
       "3         20.0         -6                  0.0       0.051151           16   \n",
       "4         21.0         -4                  0.0       0.026316           18   \n",
       "\n",
       "   len2_noreps  avg_listlen_reps_removed  dd_score_reps_removed  \\\n",
       "0           19                      19.5                     49   \n",
       "1           26                      22.0                     78   \n",
       "2           13                      15.5                     33   \n",
       "3           22                      19.0                     46   \n",
       "4           23                      20.5                     71   \n",
       "\n",
       "   sqrt_dd_score_reps_removed  binary_diag  rand_diag  \n",
       "0                    7.000000            0          1  \n",
       "1                    8.831761            0          1  \n",
       "2                    5.744563            0          1  \n",
       "3                    6.782330            0          0  \n",
       "4                    8.426150            0          0  "
      ]
     },
     "execution_count": 16,
     "metadata": {},
     "output_type": "execute_result"
    }
   ],
   "source": [
    "# taking only the first two lists provided for everyone\n",
    "# --> one entry for everyone, except if in both diagnotic groups, then get one entry per diagnosis\n",
    "\n",
    "NC_ProbAD_table_pairedlists_rows5 = []\n",
    "\n",
    "NC_ProbAD_table5 = NC_ProbAD_table.copy()\n",
    "firstpair_done=False\n",
    "\n",
    "for i in range(len(NC_ProbAD_table5)):\n",
    "    if i<len(NC_ProbAD_table5)-1:\n",
    "        row_i = NC_ProbAD_table5.iloc[i]\n",
    "        next_row = NC_ProbAD_table5.iloc[i+1]\n",
    "        \n",
    "        id_i = row_i['id']\n",
    "        id_next = next_row['id']\n",
    "        \n",
    "        bdiag_i = row_i['binary_diag']\n",
    "        bdiag_next = next_row['binary_diag']\n",
    "        \n",
    "        if id_i==id_next  and  bdiag_i==bdiag_next  and  firstpair_done==False:\n",
    "\n",
    "            list_i = row_i['item']\n",
    "            list_next = next_row['item']\n",
    "            \n",
    "            len_i = len(list_i)\n",
    "            len_next = len(list_next)\n",
    "            avg_len = np.mean([len_i, len_next])\n",
    "            len_diff = len_i-len_next\n",
    "            \n",
    "            num_intrusions_i = num_intrusions(list_i, animal_list_lowercase)\n",
    "            num_intrusions_next = num_intrusions(list_next, animal_list_lowercase)\n",
    "            prop_intrusions_i = num_intrusions_i/len(list_i)\n",
    "            prop_intrusions_next = num_intrusions_next/len(list_next)\n",
    "\n",
    "            num_reps_i = num_reps(list_i)\n",
    "            num_reps_next = num_reps(list_next)\n",
    "            prop_reps_i = num_reps_i/len(list_i)\n",
    "            prop_reps_next = num_reps_next/len(list_next)\n",
    "            \n",
    "            reps_removed_i = remove_reps(list_i)\n",
    "            reps_removed_next = remove_reps(list_next)\n",
    "            \n",
    "            avg_len_reps_removed = np.mean([len(reps_removed_i), len(reps_removed_next)])            \n",
    "            \n",
    "            dd_score = dist_from_diag_score(list_i, list_next)\n",
    "            dd_score_reps_removed = dist_from_diag_score(reps_removed_i, reps_removed_next)\n",
    "            binary_diag = bdiag_i\n",
    "            rand = random.randint(0,1)\n",
    "            pairedlist_table_row = [id_i, row_i['SEX'], row_i['EDUC'], \n",
    "                                    np.mean([row_i['DRS'], next_row['DRS']]),np.mean([row_i['MMSE'], next_row['MMSE']]),\n",
    "                                    dd_score, np.sqrt(dd_score), dd_score**2, \n",
    "                                        avg_len, len_diff, \n",
    "                                        np.mean([prop_intrusions_i,prop_intrusions_next]), \n",
    "                                        np.mean([prop_reps_i, prop_reps_next]),\n",
    "                                    len(reps_removed_i), len(reps_removed_next),\n",
    "                                        avg_len_reps_removed,\n",
    "                                        dd_score_reps_removed, np.sqrt(dd_score_reps_removed),\n",
    "                                        binary_diag, rand]\n",
    "            NC_ProbAD_table_pairedlists_rows5.append(pairedlist_table_row)\n",
    "            firstpair_done=True \n",
    "        \n",
    "        elif id_i!=id_next  or  bdiag_i!=bdiag_next:\n",
    "            firstpair_done=False\n",
    "\n",
    "\n",
    "                \n",
    "NC_ProbAD_table_pairedlists5 = pd.DataFrame(NC_ProbAD_table_pairedlists_rows5, \n",
    "                                           columns = ['id', 'SEX', 'EDUC',\n",
    "                                                      'DRS_avg', 'MMSE_avg',\n",
    "                                                      'dd_score', 'sqrt_dd_score', 'dd_score^2', \n",
    "                                                      'avg_listlen','len1-len2', \n",
    "                                                      'avg_prop_intrusions', 'avg_prop_reps',\n",
    "                                                      'len1_noreps', 'len2_noreps',\n",
    "                                                      'avg_listlen_reps_removed',\n",
    "                                                      'dd_score_reps_removed', 'sqrt_dd_score_reps_removed',\n",
    "                                                      'binary_diag', 'rand_diag'])\n",
    "NC_ProbAD_table_pairedlists5[0:5]\n"
   ]
  },
  {
   "cell_type": "code",
   "execution_count": 17,
   "metadata": {
    "hidden": true
   },
   "outputs": [],
   "source": [
    "# any subject with both diagnoses (healthy control/NC and ProbAD) is removed fully\n",
    "NC_ProbAD_table_pairedlists5_bothdiagsremoved = NC_ProbAD_table_pairedlists5.copy()\n",
    "\n",
    "for i in range(len(NC_ProbAD_table_pairedlists5)):\n",
    "    row_i=NC_ProbAD_table_pairedlists5.iloc[i]\n",
    "    id_i = row_i['id']\n",
    "    diag_i = row_i['binary_diag']\n",
    "    id_table = NC_ProbAD_table_pairedlists5.loc[NC_ProbAD_table_pairedlists5['id'] == id_i]\n",
    "    if diag_i == 0:\n",
    "        id_otherdiag = id_table.loc[id_table['binary_diag']==1]\n",
    "    elif diag_i == 1: \n",
    "        id_otherdiag = id_table.loc[id_table['binary_diag']==0]\n",
    "    if id_otherdiag.empty == False:\n",
    "        NC_ProbAD_table_pairedlists5_bothdiagsremoved.drop(\n",
    "            NC_ProbAD_table_pairedlists5_bothdiagsremoved.index[\n",
    "                NC_ProbAD_table_pairedlists5_bothdiagsremoved['id'] == id_i], inplace = True)"
   ]
  },
  {
   "cell_type": "code",
   "execution_count": 27,
   "metadata": {
    "hidden": true
   },
   "outputs": [
    {
     "name": "stdout",
     "output_type": "stream",
     "text": [
      "117 total subjects, either healthy control or ProbAD\n",
      "77 healthy control\n",
      "40 ProbAD\n"
     ]
    }
   ],
   "source": [
    "# 117 subjects remain \n",
    "print(len(NC_ProbAD_table_pairedlists5_bothdiagsremoved), 'total subjects, either healthy control or ProbAD')\n",
    "print(len(NC_ProbAD_table_pairedlists5_bothdiagsremoved[\n",
    "    NC_ProbAD_table_pairedlists5_bothdiagsremoved['binary_diag']==0]), \n",
    "      'healthy control')\n",
    "print(len(NC_ProbAD_table_pairedlists5_bothdiagsremoved[\n",
    "    NC_ProbAD_table_pairedlists5_bothdiagsremoved['binary_diag']==1]), \n",
    "      'ProbAD')"
   ]
  },
  {
   "cell_type": "code",
   "execution_count": 19,
   "metadata": {
    "hidden": true
   },
   "outputs": [
    {
     "data": {
      "text/html": [
       "<div>\n",
       "<style scoped>\n",
       "    .dataframe tbody tr th:only-of-type {\n",
       "        vertical-align: middle;\n",
       "    }\n",
       "\n",
       "    .dataframe tbody tr th {\n",
       "        vertical-align: top;\n",
       "    }\n",
       "\n",
       "    .dataframe thead th {\n",
       "        text-align: right;\n",
       "    }\n",
       "</style>\n",
       "<table border=\"1\" class=\"dataframe\">\n",
       "  <thead>\n",
       "    <tr style=\"text-align: right;\">\n",
       "      <th></th>\n",
       "      <th>id</th>\n",
       "      <th>SEX</th>\n",
       "      <th>EDUC</th>\n",
       "      <th>DRS_avg</th>\n",
       "      <th>MMSE_avg</th>\n",
       "      <th>dd_score</th>\n",
       "      <th>sqrt_dd_score</th>\n",
       "      <th>dd_score^2</th>\n",
       "      <th>avg_listlen</th>\n",
       "      <th>len1-len2</th>\n",
       "      <th>avg_prop_intrusions</th>\n",
       "      <th>avg_prop_reps</th>\n",
       "      <th>len1_noreps</th>\n",
       "      <th>len2_noreps</th>\n",
       "      <th>avg_listlen_reps_removed</th>\n",
       "      <th>dd_score_reps_removed</th>\n",
       "      <th>sqrt_dd_score_reps_removed</th>\n",
       "      <th>binary_diag</th>\n",
       "      <th>rand_diag</th>\n",
       "    </tr>\n",
       "  </thead>\n",
       "  <tbody>\n",
       "    <tr>\n",
       "      <th>0</th>\n",
       "      <td>93</td>\n",
       "      <td>2</td>\n",
       "      <td>14</td>\n",
       "      <td>140.5</td>\n",
       "      <td>28.0</td>\n",
       "      <td>49</td>\n",
       "      <td>7.000000</td>\n",
       "      <td>2401</td>\n",
       "      <td>19.5</td>\n",
       "      <td>1</td>\n",
       "      <td>0.0</td>\n",
       "      <td>0.000000</td>\n",
       "      <td>20</td>\n",
       "      <td>19</td>\n",
       "      <td>19.5</td>\n",
       "      <td>49</td>\n",
       "      <td>7.000000</td>\n",
       "      <td>0</td>\n",
       "      <td>1</td>\n",
       "    </tr>\n",
       "    <tr>\n",
       "      <th>1</th>\n",
       "      <td>603</td>\n",
       "      <td>2</td>\n",
       "      <td>12</td>\n",
       "      <td>143.0</td>\n",
       "      <td>29.5</td>\n",
       "      <td>78</td>\n",
       "      <td>8.831761</td>\n",
       "      <td>6084</td>\n",
       "      <td>22.0</td>\n",
       "      <td>-8</td>\n",
       "      <td>0.0</td>\n",
       "      <td>0.000000</td>\n",
       "      <td>18</td>\n",
       "      <td>26</td>\n",
       "      <td>22.0</td>\n",
       "      <td>78</td>\n",
       "      <td>8.831761</td>\n",
       "      <td>0</td>\n",
       "      <td>1</td>\n",
       "    </tr>\n",
       "    <tr>\n",
       "      <th>2</th>\n",
       "      <td>610</td>\n",
       "      <td>1</td>\n",
       "      <td>12</td>\n",
       "      <td>136.0</td>\n",
       "      <td>28.5</td>\n",
       "      <td>33</td>\n",
       "      <td>5.744563</td>\n",
       "      <td>1089</td>\n",
       "      <td>16.5</td>\n",
       "      <td>3</td>\n",
       "      <td>0.0</td>\n",
       "      <td>0.066667</td>\n",
       "      <td>18</td>\n",
       "      <td>13</td>\n",
       "      <td>15.5</td>\n",
       "      <td>33</td>\n",
       "      <td>5.744563</td>\n",
       "      <td>0</td>\n",
       "      <td>1</td>\n",
       "    </tr>\n",
       "    <tr>\n",
       "      <th>3</th>\n",
       "      <td>617</td>\n",
       "      <td>1</td>\n",
       "      <td>16</td>\n",
       "      <td>136.5</td>\n",
       "      <td>29.0</td>\n",
       "      <td>53</td>\n",
       "      <td>7.280110</td>\n",
       "      <td>2809</td>\n",
       "      <td>20.0</td>\n",
       "      <td>-6</td>\n",
       "      <td>0.0</td>\n",
       "      <td>0.051151</td>\n",
       "      <td>16</td>\n",
       "      <td>22</td>\n",
       "      <td>19.0</td>\n",
       "      <td>46</td>\n",
       "      <td>6.782330</td>\n",
       "      <td>0</td>\n",
       "      <td>0</td>\n",
       "    </tr>\n",
       "    <tr>\n",
       "      <th>4</th>\n",
       "      <td>618</td>\n",
       "      <td>2</td>\n",
       "      <td>17</td>\n",
       "      <td>140.5</td>\n",
       "      <td>30.0</td>\n",
       "      <td>71</td>\n",
       "      <td>8.426150</td>\n",
       "      <td>5041</td>\n",
       "      <td>21.0</td>\n",
       "      <td>-4</td>\n",
       "      <td>0.0</td>\n",
       "      <td>0.026316</td>\n",
       "      <td>18</td>\n",
       "      <td>23</td>\n",
       "      <td>20.5</td>\n",
       "      <td>71</td>\n",
       "      <td>8.426150</td>\n",
       "      <td>0</td>\n",
       "      <td>0</td>\n",
       "    </tr>\n",
       "  </tbody>\n",
       "</table>\n",
       "</div>"
      ],
      "text/plain": [
       "    id  SEX  EDUC  DRS_avg  MMSE_avg  dd_score  sqrt_dd_score  dd_score^2  \\\n",
       "0   93    2    14    140.5      28.0        49       7.000000        2401   \n",
       "1  603    2    12    143.0      29.5        78       8.831761        6084   \n",
       "2  610    1    12    136.0      28.5        33       5.744563        1089   \n",
       "3  617    1    16    136.5      29.0        53       7.280110        2809   \n",
       "4  618    2    17    140.5      30.0        71       8.426150        5041   \n",
       "\n",
       "   avg_listlen  len1-len2  avg_prop_intrusions  avg_prop_reps  len1_noreps  \\\n",
       "0         19.5          1                  0.0       0.000000           20   \n",
       "1         22.0         -8                  0.0       0.000000           18   \n",
       "2         16.5          3                  0.0       0.066667           18   \n",
       "3         20.0         -6                  0.0       0.051151           16   \n",
       "4         21.0         -4                  0.0       0.026316           18   \n",
       "\n",
       "   len2_noreps  avg_listlen_reps_removed  dd_score_reps_removed  \\\n",
       "0           19                      19.5                     49   \n",
       "1           26                      22.0                     78   \n",
       "2           13                      15.5                     33   \n",
       "3           22                      19.0                     46   \n",
       "4           23                      20.5                     71   \n",
       "\n",
       "   sqrt_dd_score_reps_removed  binary_diag  rand_diag  \n",
       "0                    7.000000            0          1  \n",
       "1                    8.831761            0          1  \n",
       "2                    5.744563            0          1  \n",
       "3                    6.782330            0          0  \n",
       "4                    8.426150            0          0  "
      ]
     },
     "execution_count": 19,
     "metadata": {},
     "output_type": "execute_result"
    }
   ],
   "source": [
    "NC_ProbAD_table_pairedlists5_bothdiagsremoved[0:5]\n"
   ]
  },
  {
   "cell_type": "markdown",
   "metadata": {
    "heading_collapsed": true
   },
   "source": [
    "## comparing logistic regression models: likelihood ratio (LR) test"
   ]
  },
  {
   "cell_type": "code",
   "execution_count": 20,
   "metadata": {
    "hidden": true
   },
   "outputs": [
    {
     "name": "stdout",
     "output_type": "stream",
     "text": [
      "Optimization terminated successfully.\n",
      "         Current function value: 0.272075\n",
      "         Iterations 9\n"
     ]
    },
    {
     "data": {
      "text/html": [
       "<table class=\"simpletable\">\n",
       "<caption>Logit Regression Results</caption>\n",
       "<tr>\n",
       "  <th>Dep. Variable:</th>      <td>binary_diag</td>   <th>  No. Observations:  </th>  <td>   117</td>  \n",
       "</tr>\n",
       "<tr>\n",
       "  <th>Model:</th>                 <td>Logit</td>      <th>  Df Residuals:      </th>  <td>   113</td>  \n",
       "</tr>\n",
       "<tr>\n",
       "  <th>Method:</th>                 <td>MLE</td>       <th>  Df Model:          </th>  <td>     3</td>  \n",
       "</tr>\n",
       "<tr>\n",
       "  <th>Date:</th>            <td>Wed, 29 Sep 2021</td> <th>  Pseudo R-squ.:     </th>  <td>0.5764</td>  \n",
       "</tr>\n",
       "<tr>\n",
       "  <th>Time:</th>                <td>16:12:24</td>     <th>  Log-Likelihood:    </th> <td> -31.833</td> \n",
       "</tr>\n",
       "<tr>\n",
       "  <th>converged:</th>             <td>True</td>       <th>  LL-Null:           </th> <td> -75.146</td> \n",
       "</tr>\n",
       "<tr>\n",
       "  <th>Covariance Type:</th>     <td>nonrobust</td>    <th>  LLR p-value:       </th> <td>1.161e-18</td>\n",
       "</tr>\n",
       "</table>\n",
       "<table class=\"simpletable\">\n",
       "<tr>\n",
       "                     <td></td>                       <th>coef</th>     <th>std err</th>      <th>z</th>      <th>P>|z|</th>  <th>[0.025</th>    <th>0.975]</th>  \n",
       "</tr>\n",
       "<tr>\n",
       "  <th>Intercept</th>                              <td>    8.0778</td> <td>    2.545</td> <td>    3.174</td> <td> 0.002</td> <td>    3.090</td> <td>   13.066</td>\n",
       "</tr>\n",
       "<tr>\n",
       "  <th>avg_listlen_reps_removed</th>               <td>   -0.5966</td> <td>    0.163</td> <td>   -3.655</td> <td> 0.000</td> <td>   -0.917</td> <td>   -0.277</td>\n",
       "</tr>\n",
       "<tr>\n",
       "  <th>avg_prop_reps</th>                          <td>   10.7514</td> <td>   50.891</td> <td>    0.211</td> <td> 0.833</td> <td>  -88.993</td> <td>  110.495</td>\n",
       "</tr>\n",
       "<tr>\n",
       "  <th>avg_listlen_reps_removed:avg_prop_reps</th> <td>    0.8240</td> <td>    3.263</td> <td>    0.253</td> <td> 0.801</td> <td>   -5.571</td> <td>    7.219</td>\n",
       "</tr>\n",
       "</table>"
      ],
      "text/plain": [
       "<class 'statsmodels.iolib.summary.Summary'>\n",
       "\"\"\"\n",
       "                           Logit Regression Results                           \n",
       "==============================================================================\n",
       "Dep. Variable:            binary_diag   No. Observations:                  117\n",
       "Model:                          Logit   Df Residuals:                      113\n",
       "Method:                           MLE   Df Model:                            3\n",
       "Date:                Wed, 29 Sep 2021   Pseudo R-squ.:                  0.5764\n",
       "Time:                        16:12:24   Log-Likelihood:                -31.833\n",
       "converged:                       True   LL-Null:                       -75.146\n",
       "Covariance Type:            nonrobust   LLR p-value:                 1.161e-18\n",
       "==========================================================================================================\n",
       "                                             coef    std err          z      P>|z|      [0.025      0.975]\n",
       "----------------------------------------------------------------------------------------------------------\n",
       "Intercept                                  8.0778      2.545      3.174      0.002       3.090      13.066\n",
       "avg_listlen_reps_removed                  -0.5966      0.163     -3.655      0.000      -0.917      -0.277\n",
       "avg_prop_reps                             10.7514     50.891      0.211      0.833     -88.993     110.495\n",
       "avg_listlen_reps_removed:avg_prop_reps     0.8240      3.263      0.253      0.801      -5.571       7.219\n",
       "==========================================================================================================\n",
       "\"\"\""
      ]
     },
     "execution_count": 20,
     "metadata": {},
     "output_type": "execute_result"
    }
   ],
   "source": [
    "# model 1 (m1): predicting diagnosis based on\n",
    " # (1) avg_listlen_reps_removed: average length of the list without repeats & \n",
    " # (2) avg_prop_reps: average proportion of repeats (number of repeats / length of list)\n",
    "    \n",
    "y, X = patsy.dmatrices('binary_diag ~ avg_listlen_reps_removed * avg_prop_reps', \n",
    "                       NC_ProbAD_table_pairedlists5_bothdiagsremoved, \n",
    "                       return_type = 'dataframe')\n",
    "model = sm.Logit(y,X)\n",
    "result = model.fit()\n",
    "result.summary()"
   ]
  },
  {
   "cell_type": "code",
   "execution_count": 21,
   "metadata": {
    "hidden": true
   },
   "outputs": [
    {
     "name": "stdout",
     "output_type": "stream",
     "text": [
      "Optimization terminated successfully.\n",
      "         Current function value: 0.212517\n",
      "         Iterations 11\n"
     ]
    },
    {
     "data": {
      "text/html": [
       "<table class=\"simpletable\">\n",
       "<caption>Logit Regression Results</caption>\n",
       "<tr>\n",
       "  <th>Dep. Variable:</th>      <td>binary_diag</td>   <th>  No. Observations:  </th>  <td>   117</td>  \n",
       "</tr>\n",
       "<tr>\n",
       "  <th>Model:</th>                 <td>Logit</td>      <th>  Df Residuals:      </th>  <td>   109</td>  \n",
       "</tr>\n",
       "<tr>\n",
       "  <th>Method:</th>                 <td>MLE</td>       <th>  Df Model:          </th>  <td>     7</td>  \n",
       "</tr>\n",
       "<tr>\n",
       "  <th>Date:</th>            <td>Wed, 29 Sep 2021</td> <th>  Pseudo R-squ.:     </th>  <td>0.6691</td>  \n",
       "</tr>\n",
       "<tr>\n",
       "  <th>Time:</th>                <td>16:12:24</td>     <th>  Log-Likelihood:    </th> <td> -24.865</td> \n",
       "</tr>\n",
       "<tr>\n",
       "  <th>converged:</th>             <td>True</td>       <th>  LL-Null:           </th> <td> -75.146</td> \n",
       "</tr>\n",
       "<tr>\n",
       "  <th>Covariance Type:</th>     <td>nonrobust</td>    <th>  LLR p-value:       </th> <td>8.253e-19</td>\n",
       "</tr>\n",
       "</table>\n",
       "<table class=\"simpletable\">\n",
       "<tr>\n",
       "                                <td></td>                                  <th>coef</th>     <th>std err</th>      <th>z</th>      <th>P>|z|</th>  <th>[0.025</th>    <th>0.975]</th>  \n",
       "</tr>\n",
       "<tr>\n",
       "  <th>Intercept</th>                                                    <td>   -0.3520</td> <td>    3.790</td> <td>   -0.093</td> <td> 0.926</td> <td>   -7.781</td> <td>    7.077</td>\n",
       "</tr>\n",
       "<tr>\n",
       "  <th>avg_listlen_reps_removed</th>                                     <td>    0.0660</td> <td>    0.242</td> <td>    0.273</td> <td> 0.785</td> <td>   -0.409</td> <td>    0.541</td>\n",
       "</tr>\n",
       "<tr>\n",
       "  <th>avg_prop_reps</th>                                                <td>  209.8265</td> <td>  112.835</td> <td>    1.860</td> <td> 0.063</td> <td>  -11.327</td> <td>  430.980</td>\n",
       "</tr>\n",
       "<tr>\n",
       "  <th>avg_listlen_reps_removed:avg_prop_reps</th>                       <td>  -13.1528</td> <td>    7.300</td> <td>   -1.802</td> <td> 0.072</td> <td>  -27.460</td> <td>    1.155</td>\n",
       "</tr>\n",
       "<tr>\n",
       "  <th>dd_score_reps_removed</th>                                        <td>    0.5126</td> <td>    0.319</td> <td>    1.607</td> <td> 0.108</td> <td>   -0.113</td> <td>    1.138</td>\n",
       "</tr>\n",
       "<tr>\n",
       "  <th>avg_listlen_reps_removed:dd_score_reps_removed</th>               <td>   -0.0390</td> <td>    0.020</td> <td>   -1.931</td> <td> 0.054</td> <td>   -0.079</td> <td>    0.001</td>\n",
       "</tr>\n",
       "<tr>\n",
       "  <th>avg_prop_reps:dd_score_reps_removed</th>                          <td>   -8.7475</td> <td>    4.818</td> <td>   -1.816</td> <td> 0.069</td> <td>  -18.190</td> <td>    0.695</td>\n",
       "</tr>\n",
       "<tr>\n",
       "  <th>avg_listlen_reps_removed:avg_prop_reps:dd_score_reps_removed</th> <td>    0.6159</td> <td>    0.290</td> <td>    2.120</td> <td> 0.034</td> <td>    0.047</td> <td>    1.185</td>\n",
       "</tr>\n",
       "</table><br/><br/>Possibly complete quasi-separation: A fraction 0.24 of observations can be<br/>perfectly predicted. This might indicate that there is complete<br/>quasi-separation. In this case some parameters will not be identified."
      ],
      "text/plain": [
       "<class 'statsmodels.iolib.summary.Summary'>\n",
       "\"\"\"\n",
       "                           Logit Regression Results                           \n",
       "==============================================================================\n",
       "Dep. Variable:            binary_diag   No. Observations:                  117\n",
       "Model:                          Logit   Df Residuals:                      109\n",
       "Method:                           MLE   Df Model:                            7\n",
       "Date:                Wed, 29 Sep 2021   Pseudo R-squ.:                  0.6691\n",
       "Time:                        16:12:24   Log-Likelihood:                -24.865\n",
       "converged:                       True   LL-Null:                       -75.146\n",
       "Covariance Type:            nonrobust   LLR p-value:                 8.253e-19\n",
       "================================================================================================================================\n",
       "                                                                   coef    std err          z      P>|z|      [0.025      0.975]\n",
       "--------------------------------------------------------------------------------------------------------------------------------\n",
       "Intercept                                                       -0.3520      3.790     -0.093      0.926      -7.781       7.077\n",
       "avg_listlen_reps_removed                                         0.0660      0.242      0.273      0.785      -0.409       0.541\n",
       "avg_prop_reps                                                  209.8265    112.835      1.860      0.063     -11.327     430.980\n",
       "avg_listlen_reps_removed:avg_prop_reps                         -13.1528      7.300     -1.802      0.072     -27.460       1.155\n",
       "dd_score_reps_removed                                            0.5126      0.319      1.607      0.108      -0.113       1.138\n",
       "avg_listlen_reps_removed:dd_score_reps_removed                  -0.0390      0.020     -1.931      0.054      -0.079       0.001\n",
       "avg_prop_reps:dd_score_reps_removed                             -8.7475      4.818     -1.816      0.069     -18.190       0.695\n",
       "avg_listlen_reps_removed:avg_prop_reps:dd_score_reps_removed     0.6159      0.290      2.120      0.034       0.047       1.185\n",
       "================================================================================================================================\n",
       "\n",
       "Possibly complete quasi-separation: A fraction 0.24 of observations can be\n",
       "perfectly predicted. This might indicate that there is complete\n",
       "quasi-separation. In this case some parameters will not be identified.\n",
       "\"\"\""
      ]
     },
     "execution_count": 21,
     "metadata": {},
     "output_type": "execute_result"
    }
   ],
   "source": [
    "# model 2 (m2): predicting diagnosis based on\n",
    " # (1) avg_listlen_reps_removed: average length of the lists without repeats & \n",
    " # (2) avg_prop_reps: average proportion of repeats (number of repeats / length of list)\n",
    " # (3) dd_score_reps_removed: distance from diagonal score of the lists without repeats \n",
    "\n",
    "y, X = patsy.dmatrices('binary_diag ~ avg_listlen_reps_removed * avg_prop_reps * dd_score_reps_removed', \n",
    "                       NC_ProbAD_table_pairedlists5_bothdiagsremoved, \n",
    "                       return_type = 'dataframe')\n",
    "\n",
    "model = sm.Logit(y,X)\n",
    "result = model.fit()\n",
    "result.summary()"
   ]
  },
  {
   "cell_type": "code",
   "execution_count": 22,
   "metadata": {
    "hidden": true
   },
   "outputs": [
    {
     "name": "stdout",
     "output_type": "stream",
     "text": [
      "LR: 13.936\n",
      "4\n",
      "p < 0.0075\n"
     ]
    }
   ],
   "source": [
    "# The likelihood ratio test:\n",
    "    # LR = 2*(LL(m2)-LL(m1))\n",
    "LR= 2*(-24.865-(-31.833))\n",
    "df=7-3\n",
    "print('LR:',LR) # likelihood ratio test statistic is 13.936 (distributed chi-squared)\n",
    "print(df)\n",
    "\n",
    "from scipy.stats.distributions import chi2\n",
    "p = chi2.sf(LR,df) \n",
    "print('p <',round(p,4)) #p<0.01\n"
   ]
  },
  {
   "cell_type": "markdown",
   "metadata": {},
   "source": [
    "## comparing means of metrics between controls & ProbAD (t-tests)"
   ]
  },
  {
   "cell_type": "markdown",
   "metadata": {
    "heading_collapsed": true
   },
   "source": [
    "### distance from diagonal (dd) score"
   ]
  },
  {
   "cell_type": "code",
   "execution_count": 23,
   "metadata": {
    "hidden": true
   },
   "outputs": [
    {
     "name": "stdout",
     "output_type": "stream",
     "text": [
      "mean control score: 43.532467532467535\n",
      "mean ProbAD score: 14.525\n",
      "t-test:\n",
      "Ttest_indResult(statistic=6.281387042066488, pvalue=6.175142636270085e-09)\n"
     ]
    }
   ],
   "source": [
    "NC_dd_scores=[]\n",
    "AD_dd_scores=[]\n",
    "for i in range(len(NC_ProbAD_table_pairedlists5_bothdiagsremoved)):\n",
    "    row=NC_ProbAD_table_pairedlists5_bothdiagsremoved.iloc[i]\n",
    "    if row['binary_diag']==0:\n",
    "        NC_dd_scores+=[row['dd_score_reps_removed']]\n",
    "    elif row['binary_diag']==1:\n",
    "        AD_dd_scores+=[row['dd_score_reps_removed']]\n",
    "        \n",
    "print('mean control score:', np.mean(NC_dd_scores))\n",
    "print('mean ProbAD score:', np.mean(AD_dd_scores))\n",
    "# print(len(NC_dd_scores))\n",
    "# print(len(AD_dd_scores))\n",
    "print('t-test:')\n",
    "print(scipy.stats.ttest_ind(NC_dd_scores,AD_dd_scores))"
   ]
  },
  {
   "cell_type": "markdown",
   "metadata": {},
   "source": [
    "### average length of list score (with repeats removed)"
   ]
  },
  {
   "cell_type": "code",
   "execution_count": 24,
   "metadata": {},
   "outputs": [
    {
     "name": "stdout",
     "output_type": "stream",
     "text": [
      "mean control score: 19.551948051948052\n",
      "mean ProbAD score: 12.5375\n",
      "t-test:\n",
      "Ttest_indResult(statistic=10.3855671836602, pvalue=3.181543813024645e-18)\n"
     ]
    }
   ],
   "source": [
    "# avg listlen (reps removed); for list pairs #**??\n",
    "NC_avg_listlen=[]\n",
    "AD_avg_listlen=[]\n",
    "for i in range(len(NC_ProbAD_table_pairedlists5_bothdiagsremoved)):\n",
    "    row=NC_ProbAD_table_pairedlists5_bothdiagsremoved.iloc[i]\n",
    "    if row['binary_diag']==0:\n",
    "        NC_avg_listlen+=[row['avg_listlen_reps_removed']]\n",
    "    elif row['binary_diag']==1:\n",
    "        AD_avg_listlen+=[row['avg_listlen_reps_removed']]\n",
    "        \n",
    "print('mean control score:', np.mean(NC_avg_listlen))\n",
    "print('mean ProbAD score:', np.mean(AD_avg_listlen))\n",
    "# print(len(NC_avg_listlen))\n",
    "# print(len(AD_avg_listlen))\n",
    "print('t-test:')\n",
    "print(scipy.stats.ttest_ind(NC_avg_listlen, AD_avg_listlen))"
   ]
  },
  {
   "cell_type": "code",
   "execution_count": 25,
   "metadata": {},
   "outputs": [
    {
     "name": "stdout",
     "output_type": "stream",
     "text": [
      "mean control score: 19.551948051948052\n",
      "mean ProbAD score: 12.5375\n",
      "3.8997872199567203\n",
      "4.092504581549054\n",
      "t-test:\n",
      "Ttest_indResult(statistic=12.569798578739801, pvalue=2.41461017137438e-25)\n"
     ]
    }
   ],
   "source": [
    "# individual listlens (reps removed); not paired\n",
    "\n",
    "NC_avg_listlen=[]\n",
    "AD_avg_listlen=[]\n",
    "for i in range(len(NC_ProbAD_table_pairedlists5_bothdiagsremoved)):\n",
    "    row=NC_ProbAD_table_pairedlists5_bothdiagsremoved.iloc[i]\n",
    "    if row['binary_diag']==0:\n",
    "        NC_avg_listlen+=[row['len1_noreps']]\n",
    "        NC_avg_listlen+=[row['len2_noreps']]\n",
    "    elif row['binary_diag']==1:\n",
    "        AD_avg_listlen+=[row['len1_noreps']]\n",
    "        AD_avg_listlen+=[row['len2_noreps']]\n",
    "\n",
    "print('mean control score:', np.mean(NC_avg_listlen))\n",
    "print('mean ProbAD score:', np.mean(AD_avg_listlen))\n",
    "print(np.std(NC_avg_listlen))\n",
    "print(np.std(AD_avg_listlen))\n",
    "# print(len(NC_avg_listlen))\n",
    "# print(len(AD_avg_listlen))\n",
    "print('t-test:')\n",
    "print(scipy.stats.ttest_ind(NC_avg_listlen, AD_avg_listlen, equal_var=False))"
   ]
  },
  {
   "cell_type": "markdown",
   "metadata": {
    "heading_collapsed": true
   },
   "source": [
    "### repeat score: proportion of items in a list that are repeated "
   ]
  },
  {
   "cell_type": "code",
   "execution_count": 26,
   "metadata": {
    "hidden": true
   },
   "outputs": [
    {
     "name": "stdout",
     "output_type": "stream",
     "text": [
      "mean control score: 0.019873185499442378\n",
      "mean ProbAD score: 0.09032900478565271\n",
      "t-test:\n",
      "Ttest_indResult(statistic=-5.034902544868928, pvalue=9.007742547492986e-06)\n"
     ]
    }
   ],
   "source": [
    "NC_avg_prop_reps=[]\n",
    "AD_avg_prop_reps=[]\n",
    "for i in range(len(NC_ProbAD_table_pairedlists5_bothdiagsremoved)):\n",
    "    row=NC_ProbAD_table_pairedlists5_bothdiagsremoved.iloc[i]\n",
    "    if row['binary_diag']==0:\n",
    "        NC_avg_prop_reps+=[row['avg_prop_reps']]\n",
    "    elif row['binary_diag']==1:\n",
    "        AD_avg_prop_reps+=[row['avg_prop_reps']]\n",
    "        \n",
    "print('mean control score:', np.mean(NC_avg_prop_reps))\n",
    "print('mean ProbAD score:', np.mean(AD_avg_prop_reps))\n",
    "print('t-test:')\n",
    "print(scipy.stats.ttest_ind(NC_avg_prop_reps, AD_avg_prop_reps, equal_var=False))"
   ]
  },
  {
   "cell_type": "code",
   "execution_count": null,
   "metadata": {
    "hidden": true
   },
   "outputs": [],
   "source": []
  },
  {
   "cell_type": "markdown",
   "metadata": {},
   "source": [
    "# "
   ]
  },
  {
   "cell_type": "code",
   "execution_count": null,
   "metadata": {},
   "outputs": [],
   "source": []
  },
  {
   "cell_type": "code",
   "execution_count": null,
   "metadata": {},
   "outputs": [],
   "source": []
  },
  {
   "cell_type": "code",
   "execution_count": null,
   "metadata": {},
   "outputs": [],
   "source": []
  },
  {
   "cell_type": "code",
   "execution_count": null,
   "metadata": {},
   "outputs": [],
   "source": []
  }
 ],
 "metadata": {
  "kernelspec": {
   "display_name": "Python 3",
   "language": "python",
   "name": "python3"
  },
  "language_info": {
   "codemirror_mode": {
    "name": "ipython",
    "version": 3
   },
   "file_extension": ".py",
   "mimetype": "text/x-python",
   "name": "python",
   "nbconvert_exporter": "python",
   "pygments_lexer": "ipython3",
   "version": "3.7.7"
  },
  "varInspector": {
   "cols": {
    "lenName": 16,
    "lenType": 16,
    "lenVar": 40
   },
   "kernels_config": {
    "python": {
     "delete_cmd_postfix": "",
     "delete_cmd_prefix": "del ",
     "library": "var_list.py",
     "varRefreshCmd": "print(var_dic_list())"
    },
    "r": {
     "delete_cmd_postfix": ") ",
     "delete_cmd_prefix": "rm(",
     "library": "var_list.r",
     "varRefreshCmd": "cat(var_dic_list()) "
    }
   },
   "types_to_exclude": [
    "module",
    "function",
    "builtin_function_or_method",
    "instance",
    "_Feature"
   ],
   "window_display": false
  }
 },
 "nbformat": 4,
 "nbformat_minor": 2
}
